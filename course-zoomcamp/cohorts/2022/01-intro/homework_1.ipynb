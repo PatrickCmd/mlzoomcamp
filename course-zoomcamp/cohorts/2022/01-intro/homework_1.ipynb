{
  "cells": [
    {
      "cell_type": "markdown",
      "id": "51c5cef6",
      "metadata": {
        "id": "51c5cef6"
      },
      "source": [
        "## Homework #1 "
      ]
    },
    {
      "cell_type": "markdown",
      "id": "9e18ef36",
      "metadata": {
        "id": "9e18ef36"
      },
      "source": [
        "### Set up the environment"
      ]
    },
    {
      "cell_type": "markdown",
      "id": "0a94d00b",
      "metadata": {
        "id": "0a94d00b"
      },
      "source": [
        "You need to install Python, NumPy, Pandas, Matplotlib and Seaborn. For that, you can the instructions from <a href='https://github.com/alexeygrigorev/mlbookcamp-code/blob/master/course-zoomcamp/01-intro/06-environment.md'>06-environment.md</a>."
      ]
    },
    {
      "cell_type": "code",
      "execution_count": null,
      "id": "41eae4aa",
      "metadata": {
        "id": "41eae4aa"
      },
      "outputs": [],
      "source": [
        "import numpy as np\n",
        "import pandas as pd"
      ]
    },
    {
      "cell_type": "markdown",
      "id": "04514a64",
      "metadata": {
        "id": "04514a64"
      },
      "source": [
        "### Question 1"
      ]
    },
    {
      "cell_type": "markdown",
      "id": "39ca9b76",
      "metadata": {
        "id": "39ca9b76"
      },
      "source": [
        "What's the version of NumPy that you installed?\n",
        "\n",
        "You can get the version information using the `__version__` field:"
      ]
    },
    {
      "cell_type": "code",
      "execution_count": null,
      "id": "be3ac3dd",
      "metadata": {
        "colab": {
          "base_uri": "https://localhost:8080/",
          "height": 36
        },
        "id": "be3ac3dd",
        "outputId": "b08ceaff-8060-4640-be48-435656007e7c"
      },
      "outputs": [
        {
          "output_type": "execute_result",
          "data": {
            "text/plain": [
              "'1.21.6'"
            ],
            "application/vnd.google.colaboratory.intrinsic+json": {
              "type": "string"
            }
          },
          "metadata": {},
          "execution_count": 2
        }
      ],
      "source": [
        "np.__version__"
      ]
    },
    {
      "cell_type": "markdown",
      "id": "adce9d0b",
      "metadata": {
        "id": "adce9d0b"
      },
      "source": [
        "### Getting the data"
      ]
    },
    {
      "cell_type": "markdown",
      "id": "563f5833",
      "metadata": {
        "id": "563f5833"
      },
      "source": [
        "For this homework, we'll use the Car price dataset. Download it from <a href='https://raw.githubusercontent.com/alexeygrigorev/mlbookcamp-code/master/chapter-02-car-price/data.csv'>here</a>. \n",
        "\n",
        "You can do it with wget:\n",
        "```bash\n",
        "wget https://raw.githubusercontent.com/alexeygrigorev/mlbookcamp-code/master/chapter-02-car-price/data.csv\n",
        "```\n",
        "Or just open it with your browser and click \"Save as...\".\n",
        "\n",
        "Now read it with Pandas."
      ]
    },
    {
      "cell_type": "code",
      "execution_count": null,
      "id": "4e9364c6",
      "metadata": {
        "id": "4e9364c6"
      },
      "outputs": [],
      "source": [
        "data = pd.read_csv(\"https://raw.githubusercontent.com/alexeygrigorev/mlbookcamp-code/master/chapter-02-car-price/data.csv\")"
      ]
    },
    {
      "cell_type": "markdown",
      "id": "3787858f",
      "metadata": {
        "id": "3787858f"
      },
      "source": [
        "### Question 2"
      ]
    },
    {
      "cell_type": "markdown",
      "id": "abf0a8ef",
      "metadata": {
        "id": "abf0a8ef"
      },
      "source": [
        "How many records are in the dataset?\n",
        "\n",
        "Here you need to specify the number of rows."
      ]
    },
    {
      "cell_type": "code",
      "execution_count": null,
      "id": "53c3bb22",
      "metadata": {
        "colab": {
          "base_uri": "https://localhost:8080/"
        },
        "id": "53c3bb22",
        "outputId": "f312d0d8-911f-413d-896e-fcc89a59c9ca"
      },
      "outputs": [
        {
          "output_type": "execute_result",
          "data": {
            "text/plain": [
              "11914"
            ]
          },
          "metadata": {},
          "execution_count": 4
        }
      ],
      "source": [
        "data.shape[0]   # alternative is len(data.index)"
      ]
    },
    {
      "cell_type": "markdown",
      "id": "c5c5a015",
      "metadata": {
        "id": "c5c5a015"
      },
      "source": [
        "### Question 3"
      ]
    },
    {
      "cell_type": "markdown",
      "id": "215bb0f0",
      "metadata": {
        "id": "215bb0f0"
      },
      "source": [
        "Who are the most frequent car manufacturers (top-3) according to the dataset?"
      ]
    },
    {
      "cell_type": "code",
      "source": [
        "data['Make'].value_counts().head()"
      ],
      "metadata": {
        "colab": {
          "base_uri": "https://localhost:8080/"
        },
        "id": "u3aaRkGy7QiD",
        "outputId": "bacee4d9-ae98-4470-a18b-d15814720125"
      },
      "id": "u3aaRkGy7QiD",
      "execution_count": null,
      "outputs": [
        {
          "output_type": "execute_result",
          "data": {
            "text/plain": [
              "Chevrolet     1123\n",
              "Ford           881\n",
              "Volkswagen     809\n",
              "Toyota         746\n",
              "Dodge          626\n",
              "Name: Make, dtype: int64"
            ]
          },
          "metadata": {},
          "execution_count": 5
        }
      ]
    },
    {
      "cell_type": "markdown",
      "source": [
        "### Question 4"
      ],
      "metadata": {
        "id": "Gs-F0NGmT1rY"
      },
      "id": "Gs-F0NGmT1rY"
    },
    {
      "cell_type": "markdown",
      "source": [
        "What's the number of unique Audi car models in the dataset?"
      ],
      "metadata": {
        "id": "YEL7kG-qT40Z"
      },
      "id": "YEL7kG-qT40Z"
    },
    {
      "cell_type": "code",
      "source": [
        "data[data['Make'] == 'Audi']['Model'].nunique()"
      ],
      "metadata": {
        "colab": {
          "base_uri": "https://localhost:8080/"
        },
        "id": "PqW9C9MK2oL_",
        "outputId": "3db57d44-b861-4ce5-85b3-3fbb2412f727"
      },
      "id": "PqW9C9MK2oL_",
      "execution_count": null,
      "outputs": [
        {
          "output_type": "execute_result",
          "data": {
            "text/plain": [
              "34"
            ]
          },
          "metadata": {},
          "execution_count": 6
        }
      ]
    },
    {
      "cell_type": "markdown",
      "id": "1ede2dba",
      "metadata": {
        "id": "1ede2dba"
      },
      "source": [
        "### Question 5"
      ]
    },
    {
      "cell_type": "markdown",
      "source": [
        "How many columns in the dataset have missing values?"
      ],
      "metadata": {
        "id": "lmCmA9GIUPU0"
      },
      "id": "lmCmA9GIUPU0"
    },
    {
      "cell_type": "code",
      "source": [
        "data.isnull().sum()"
      ],
      "metadata": {
        "colab": {
          "base_uri": "https://localhost:8080/"
        },
        "id": "IQ8dlAmw4ynp",
        "outputId": "48b92886-fe77-48c9-d451-9d6838011894"
      },
      "id": "IQ8dlAmw4ynp",
      "execution_count": null,
      "outputs": [
        {
          "output_type": "execute_result",
          "data": {
            "text/plain": [
              "Make                    0\n",
              "Model                   0\n",
              "Year                    0\n",
              "Engine Fuel Type        3\n",
              "Engine HP              69\n",
              "Engine Cylinders       30\n",
              "Transmission Type       0\n",
              "Driven_Wheels           0\n",
              "Number of Doors         6\n",
              "Market Category      3742\n",
              "Vehicle Size            0\n",
              "Vehicle Style           0\n",
              "highway MPG             0\n",
              "city mpg                0\n",
              "Popularity              0\n",
              "MSRP                    0\n",
              "dtype: int64"
            ]
          },
          "metadata": {},
          "execution_count": 7
        }
      ]
    },
    {
      "cell_type": "markdown",
      "source": [
        "We can see that 5 columns have missing values.\n",
        "\n",
        "We can also calculate it in one line:"
      ],
      "metadata": {
        "id": "fBGCGXluUdU7"
      },
      "id": "fBGCGXluUdU7"
    },
    {
      "cell_type": "code",
      "source": [
        "(data.isnull().sum() != 0).sum()"
      ],
      "metadata": {
        "colab": {
          "base_uri": "https://localhost:8080/"
        },
        "id": "XXS-4Eav5fX2",
        "outputId": "0b61328e-9e9e-457a-c223-a31975cc75c5"
      },
      "id": "XXS-4Eav5fX2",
      "execution_count": null,
      "outputs": [
        {
          "output_type": "execute_result",
          "data": {
            "text/plain": [
              "5"
            ]
          },
          "metadata": {},
          "execution_count": 8
        }
      ]
    },
    {
      "cell_type": "markdown",
      "id": "b8d3c661",
      "metadata": {
        "id": "b8d3c661"
      },
      "source": [
        "### Question 6"
      ]
    },
    {
      "cell_type": "markdown",
      "id": "46ecb87b",
      "metadata": {
        "id": "46ecb87b"
      },
      "source": [
        "\n",
        "\n",
        "1. Find the median value of \"Engine Cylinders\" column in the dataset.\n",
        "2. Next, calculate the most frequent value of the same \"Engine Cylinders\". \n",
        "3. Use the `fillna` method to fill the missing values in \"Engine Cylinders\" with the most frequent value from the previous step.\n",
        "4. Now, calculate the median value of \"Engine Cylinders\" once again.\n",
        "\n",
        "Has it changed?"
      ]
    },
    {
      "cell_type": "code",
      "source": [
        "data['Engine Cylinders'].value_counts()"
      ],
      "metadata": {
        "colab": {
          "base_uri": "https://localhost:8080/"
        },
        "id": "82besVeW3IKa",
        "outputId": "17d636da-d9d4-4fe5-ce7a-3db52e739486"
      },
      "id": "82besVeW3IKa",
      "execution_count": null,
      "outputs": [
        {
          "output_type": "execute_result",
          "data": {
            "text/plain": [
              "4.0     4752\n",
              "6.0     4489\n",
              "8.0     2031\n",
              "12.0     230\n",
              "5.0      225\n",
              "10.0      68\n",
              "0.0       56\n",
              "3.0       30\n",
              "16.0       3\n",
              "Name: Engine Cylinders, dtype: int64"
            ]
          },
          "metadata": {},
          "execution_count": 9
        }
      ]
    },
    {
      "cell_type": "code",
      "source": [
        "median_engine_cyl = data['Engine Cylinders'].median()\n",
        "median_engine_cyl"
      ],
      "metadata": {
        "colab": {
          "base_uri": "https://localhost:8080/"
        },
        "id": "QG0ooQpm31z2",
        "outputId": "ee0ab339-7d81-47ab-bdc0-d61a01639779"
      },
      "id": "QG0ooQpm31z2",
      "execution_count": null,
      "outputs": [
        {
          "output_type": "execute_result",
          "data": {
            "text/plain": [
              "6.0"
            ]
          },
          "metadata": {},
          "execution_count": 10
        }
      ]
    },
    {
      "cell_type": "code",
      "execution_count": null,
      "id": "81644140",
      "metadata": {
        "colab": {
          "base_uri": "https://localhost:8080/"
        },
        "id": "81644140",
        "outputId": "3d4fa383-2ca3-420d-ae61-1b4221601674"
      },
      "outputs": [
        {
          "output_type": "execute_result",
          "data": {
            "text/plain": [
              "4.0"
            ]
          },
          "metadata": {},
          "execution_count": 11
        }
      ],
      "source": [
        "mode_engine_cyl = data['Engine Cylinders'].mode()[0]\n",
        "mode_engine_cyl"
      ]
    },
    {
      "cell_type": "code",
      "execution_count": null,
      "id": "2302ad09",
      "metadata": {
        "id": "2302ad09",
        "colab": {
          "base_uri": "https://localhost:8080/"
        },
        "outputId": "ea6b0f88-eb44-4d56-f234-4d4eb99d834b"
      },
      "outputs": [
        {
          "output_type": "execute_result",
          "data": {
            "text/plain": [
              "6.0"
            ]
          },
          "metadata": {},
          "execution_count": 12
        }
      ],
      "source": [
        "data['Engine Cylinders'].fillna(mode_engine_cyl).median()"
      ]
    },
    {
      "cell_type": "markdown",
      "source": [
        "No, it's left the same."
      ],
      "metadata": {
        "id": "duf3vnEYm4yJ"
      },
      "id": "duf3vnEYm4yJ"
    },
    {
      "cell_type": "markdown",
      "id": "1214682d",
      "metadata": {
        "id": "1214682d"
      },
      "source": [
        "### Question 7"
      ]
    },
    {
      "cell_type": "markdown",
      "id": "9a000f4e",
      "metadata": {
        "id": "9a000f4e"
      },
      "source": [
        "1. Select all the \"Lotus\" cars from the dataset.\n",
        "2. Select only columns \"Engine HP\", \"Engine Cylinders\".\n",
        "3. Now drop all duplicated rows using `drop_duplicates` method (you should get a dataframe with 9 rows).\n",
        "4. Get the underlying NumPy array. Let's call it `X`.\n",
        "5. Compute matrix-matrix multiplication between the transpose of `X` and `X`. To get the transpose, use `X.T`. Let's call the result `XTX`.\n",
        "6. Invert `XTX`.\n",
        "7. Create an array `y` with values `[1100, 800, 750, 850, 1300, 1000, 1000, 1300, 800]`.\n",
        "8. Multiply the inverse of `XTX` with the transpose of `X`, and then multiply the result by `y`. Call the result `w`.\n",
        "9. What's the value of the first element of `w`?"
      ]
    },
    {
      "cell_type": "code",
      "execution_count": null,
      "id": "3002ec54",
      "metadata": {
        "id": "3002ec54",
        "outputId": "104561a8-256e-490c-c7f2-56ecd074dae5",
        "colab": {
          "base_uri": "https://localhost:8080/",
          "height": 332
        }
      },
      "outputs": [
        {
          "output_type": "execute_result",
          "data": {
            "text/plain": [
              "      Engine HP  Engine Cylinders\n",
              "3912      189.0               4.0\n",
              "3913      218.0               4.0\n",
              "3918      217.0               4.0\n",
              "4216      350.0               8.0\n",
              "4257      400.0               6.0\n",
              "4259      276.0               6.0\n",
              "4262      345.0               6.0\n",
              "4292      257.0               4.0\n",
              "4293      240.0               4.0"
            ],
            "text/html": [
              "\n",
              "  <div id=\"df-5e518f07-983f-4d21-9f95-e9e5caa6a110\">\n",
              "    <div class=\"colab-df-container\">\n",
              "      <div>\n",
              "<style scoped>\n",
              "    .dataframe tbody tr th:only-of-type {\n",
              "        vertical-align: middle;\n",
              "    }\n",
              "\n",
              "    .dataframe tbody tr th {\n",
              "        vertical-align: top;\n",
              "    }\n",
              "\n",
              "    .dataframe thead th {\n",
              "        text-align: right;\n",
              "    }\n",
              "</style>\n",
              "<table border=\"1\" class=\"dataframe\">\n",
              "  <thead>\n",
              "    <tr style=\"text-align: right;\">\n",
              "      <th></th>\n",
              "      <th>Engine HP</th>\n",
              "      <th>Engine Cylinders</th>\n",
              "    </tr>\n",
              "  </thead>\n",
              "  <tbody>\n",
              "    <tr>\n",
              "      <th>3912</th>\n",
              "      <td>189.0</td>\n",
              "      <td>4.0</td>\n",
              "    </tr>\n",
              "    <tr>\n",
              "      <th>3913</th>\n",
              "      <td>218.0</td>\n",
              "      <td>4.0</td>\n",
              "    </tr>\n",
              "    <tr>\n",
              "      <th>3918</th>\n",
              "      <td>217.0</td>\n",
              "      <td>4.0</td>\n",
              "    </tr>\n",
              "    <tr>\n",
              "      <th>4216</th>\n",
              "      <td>350.0</td>\n",
              "      <td>8.0</td>\n",
              "    </tr>\n",
              "    <tr>\n",
              "      <th>4257</th>\n",
              "      <td>400.0</td>\n",
              "      <td>6.0</td>\n",
              "    </tr>\n",
              "    <tr>\n",
              "      <th>4259</th>\n",
              "      <td>276.0</td>\n",
              "      <td>6.0</td>\n",
              "    </tr>\n",
              "    <tr>\n",
              "      <th>4262</th>\n",
              "      <td>345.0</td>\n",
              "      <td>6.0</td>\n",
              "    </tr>\n",
              "    <tr>\n",
              "      <th>4292</th>\n",
              "      <td>257.0</td>\n",
              "      <td>4.0</td>\n",
              "    </tr>\n",
              "    <tr>\n",
              "      <th>4293</th>\n",
              "      <td>240.0</td>\n",
              "      <td>4.0</td>\n",
              "    </tr>\n",
              "  </tbody>\n",
              "</table>\n",
              "</div>\n",
              "      <button class=\"colab-df-convert\" onclick=\"convertToInteractive('df-5e518f07-983f-4d21-9f95-e9e5caa6a110')\"\n",
              "              title=\"Convert this dataframe to an interactive table.\"\n",
              "              style=\"display:none;\">\n",
              "        \n",
              "  <svg xmlns=\"http://www.w3.org/2000/svg\" height=\"24px\"viewBox=\"0 0 24 24\"\n",
              "       width=\"24px\">\n",
              "    <path d=\"M0 0h24v24H0V0z\" fill=\"none\"/>\n",
              "    <path d=\"M18.56 5.44l.94 2.06.94-2.06 2.06-.94-2.06-.94-.94-2.06-.94 2.06-2.06.94zm-11 1L8.5 8.5l.94-2.06 2.06-.94-2.06-.94L8.5 2.5l-.94 2.06-2.06.94zm10 10l.94 2.06.94-2.06 2.06-.94-2.06-.94-.94-2.06-.94 2.06-2.06.94z\"/><path d=\"M17.41 7.96l-1.37-1.37c-.4-.4-.92-.59-1.43-.59-.52 0-1.04.2-1.43.59L10.3 9.45l-7.72 7.72c-.78.78-.78 2.05 0 2.83L4 21.41c.39.39.9.59 1.41.59.51 0 1.02-.2 1.41-.59l7.78-7.78 2.81-2.81c.8-.78.8-2.07 0-2.86zM5.41 20L4 18.59l7.72-7.72 1.47 1.35L5.41 20z\"/>\n",
              "  </svg>\n",
              "      </button>\n",
              "      \n",
              "  <style>\n",
              "    .colab-df-container {\n",
              "      display:flex;\n",
              "      flex-wrap:wrap;\n",
              "      gap: 12px;\n",
              "    }\n",
              "\n",
              "    .colab-df-convert {\n",
              "      background-color: #E8F0FE;\n",
              "      border: none;\n",
              "      border-radius: 50%;\n",
              "      cursor: pointer;\n",
              "      display: none;\n",
              "      fill: #1967D2;\n",
              "      height: 32px;\n",
              "      padding: 0 0 0 0;\n",
              "      width: 32px;\n",
              "    }\n",
              "\n",
              "    .colab-df-convert:hover {\n",
              "      background-color: #E2EBFA;\n",
              "      box-shadow: 0px 1px 2px rgba(60, 64, 67, 0.3), 0px 1px 3px 1px rgba(60, 64, 67, 0.15);\n",
              "      fill: #174EA6;\n",
              "    }\n",
              "\n",
              "    [theme=dark] .colab-df-convert {\n",
              "      background-color: #3B4455;\n",
              "      fill: #D2E3FC;\n",
              "    }\n",
              "\n",
              "    [theme=dark] .colab-df-convert:hover {\n",
              "      background-color: #434B5C;\n",
              "      box-shadow: 0px 1px 3px 1px rgba(0, 0, 0, 0.15);\n",
              "      filter: drop-shadow(0px 1px 2px rgba(0, 0, 0, 0.3));\n",
              "      fill: #FFFFFF;\n",
              "    }\n",
              "  </style>\n",
              "\n",
              "      <script>\n",
              "        const buttonEl =\n",
              "          document.querySelector('#df-5e518f07-983f-4d21-9f95-e9e5caa6a110 button.colab-df-convert');\n",
              "        buttonEl.style.display =\n",
              "          google.colab.kernel.accessAllowed ? 'block' : 'none';\n",
              "\n",
              "        async function convertToInteractive(key) {\n",
              "          const element = document.querySelector('#df-5e518f07-983f-4d21-9f95-e9e5caa6a110');\n",
              "          const dataTable =\n",
              "            await google.colab.kernel.invokeFunction('convertToInteractive',\n",
              "                                                     [key], {});\n",
              "          if (!dataTable) return;\n",
              "\n",
              "          const docLinkHtml = 'Like what you see? Visit the ' +\n",
              "            '<a target=\"_blank\" href=https://colab.research.google.com/notebooks/data_table.ipynb>data table notebook</a>'\n",
              "            + ' to learn more about interactive tables.';\n",
              "          element.innerHTML = '';\n",
              "          dataTable['output_type'] = 'display_data';\n",
              "          await google.colab.output.renderOutput(dataTable, element);\n",
              "          const docLink = document.createElement('div');\n",
              "          docLink.innerHTML = docLinkHtml;\n",
              "          element.appendChild(docLink);\n",
              "        }\n",
              "      </script>\n",
              "    </div>\n",
              "  </div>\n",
              "  "
            ]
          },
          "metadata": {},
          "execution_count": 13
        }
      ],
      "source": [
        "lotus_df = data[data['Make'] == 'Lotus']\n",
        "lotus_df = lotus_df[['Engine HP', 'Engine Cylinders']]\n",
        "lotus_df = lotus_df.drop_duplicates()\n",
        "lotus_df"
      ]
    },
    {
      "cell_type": "code",
      "source": [
        "X = lotus_df.to_numpy()\n",
        "XTX = X.T @ X\n",
        "XTX_inv = np.linalg.inv(XTX)\n",
        "XTX_inv"
      ],
      "metadata": {
        "colab": {
          "base_uri": "https://localhost:8080/"
        },
        "id": "gOKb01VxqqL0",
        "outputId": "3ea94af3-2927-42ba-fd73-ead0daaed7d7"
      },
      "id": "gOKb01VxqqL0",
      "execution_count": null,
      "outputs": [
        {
          "output_type": "execute_result",
          "data": {
            "text/plain": [
              "array([[ 5.53084235e-05, -2.94319825e-03],\n",
              "       [-2.94319825e-03,  1.60588447e-01]])"
            ]
          },
          "metadata": {},
          "execution_count": 14
        }
      ]
    },
    {
      "cell_type": "code",
      "execution_count": null,
      "id": "e0a2e43c",
      "metadata": {
        "id": "e0a2e43c"
      },
      "outputs": [],
      "source": [
        "y = np.array([1100, 800, 750, 850, 1300, 1000, 1000, 1300, 800])"
      ]
    },
    {
      "cell_type": "code",
      "execution_count": null,
      "id": "2449151d",
      "metadata": {
        "id": "2449151d"
      },
      "outputs": [],
      "source": [
        "w = (XTX_inv @ X.T) @ y"
      ]
    },
    {
      "cell_type": "code",
      "execution_count": null,
      "id": "c5e7fc75",
      "metadata": {
        "id": "c5e7fc75",
        "outputId": "ccb80238-ae8c-4210-d3f4-cba73ba65af8",
        "colab": {
          "base_uri": "https://localhost:8080/"
        }
      },
      "outputs": [
        {
          "output_type": "execute_result",
          "data": {
            "text/plain": [
              "4.594944810094551"
            ]
          },
          "metadata": {},
          "execution_count": 17
        }
      ],
      "source": [
        "w[0]"
      ]
    },
    {
      "cell_type": "markdown",
      "source": [
        "> **Note**: we just implemented normal equation\n",
        "\n",
        "\n",
        "$$w = (X^T X)^{-1} X^T y$$\n",
        "\n",
        "\n",
        "We'll talk about it more in the next week (Machine Learning for Regression)"
      ],
      "metadata": {
        "id": "wKnwSNmjn2gT"
      },
      "id": "wKnwSNmjn2gT"
    }
  ],
  "metadata": {
    "kernelspec": {
      "display_name": "Python 3 (ipykernel)",
      "language": "python",
      "name": "python3"
    },
    "language_info": {
      "codemirror_mode": {
        "name": "ipython",
        "version": 3
      },
      "file_extension": ".py",
      "mimetype": "text/x-python",
      "name": "python",
      "nbconvert_exporter": "python",
      "pygments_lexer": "ipython3",
      "version": "3.8.10"
    },
    "colab": {
      "provenance": [],
      "collapsed_sections": []
    }
  },
  "nbformat": 4,
  "nbformat_minor": 5
}