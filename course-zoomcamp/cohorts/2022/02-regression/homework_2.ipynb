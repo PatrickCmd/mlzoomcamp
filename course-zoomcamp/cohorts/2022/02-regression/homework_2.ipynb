{
  "cells": [
    {
      "cell_type": "markdown",
      "metadata": {
        "id": "1RP5ocnmvaNJ"
      },
      "source": [
        "**INITIALIZATION:**"
      ]
    },
    {
      "cell_type": "code",
      "execution_count": 1,
      "metadata": {
        "id": "9UkFwRCfs0oo"
      },
      "outputs": [],
      "source": [
        "#@ IMPORTING LIBRARIES AND DEPENDENCIES:\n",
        "import numpy as np\n",
        "import pandas as pd\n",
        "import seaborn as sns\n",
        "import matplotlib.pyplot as plt\n",
        "from sklearn.linear_model import LinearRegression"
      ]
    },
    {
      "cell_type": "markdown",
      "metadata": {
        "id": "XAWt3FaGvi2V"
      },
      "source": [
        "**IMPORTING DATASET:**"
      ]
    },
    {
      "cell_type": "code",
      "execution_count": 2,
      "metadata": {
        "id": "qZ3ySstmvWhk"
      },
      "outputs": [],
      "source": [
        "#@ IMPORTING DATASET:\n",
        "PATH = \"./housing.csv\"\n",
        "select_cols = [\"longitude\", \"latitude\", \"housing_median_age\", \"total_rooms\", \"total_bedrooms\", \"population\", \"households\", \n",
        "               \"median_income\", \"median_house_value\"]\n",
        "data = pd.read_csv(PATH, usecols=select_cols)"
      ]
    },
    {
      "cell_type": "code",
      "execution_count": 3,
      "metadata": {
        "colab": {
          "base_uri": "https://localhost:8080/"
        },
        "id": "jQ_W08Z5xcdr",
        "outputId": "6111a570-a2c9-491c-afbc-db1396070970"
      },
      "outputs": [
        {
          "name": "stdout",
          "output_type": "stream",
          "text": [
            "(20640, 9)\n"
          ]
        }
      ],
      "source": [
        "#@ INSPECTING DATAFRAME:\n",
        "print(data.shape)"
      ]
    },
    {
      "cell_type": "code",
      "execution_count": 4,
      "metadata": {
        "colab": {
          "base_uri": "https://localhost:8080/",
          "height": 427
        },
        "id": "CCXyC6J-xixG",
        "outputId": "0856f585-0283-439d-ec79-7f734ba0b03f"
      },
      "outputs": [
        {
          "data": {
            "text/html": [
              "\n",
              "  <div id=\"df-170438c0-6d93-4740-b91b-4703f221e85c\">\n",
              "    <div class=\"colab-df-container\">\n",
              "      <div>\n",
              "<style scoped>\n",
              "    .dataframe tbody tr th:only-of-type {\n",
              "        vertical-align: middle;\n",
              "    }\n",
              "\n",
              "    .dataframe tbody tr th {\n",
              "        vertical-align: top;\n",
              "    }\n",
              "\n",
              "    .dataframe thead th {\n",
              "        text-align: right;\n",
              "    }\n",
              "</style>\n",
              "<table border=\"1\" class=\"dataframe\">\n",
              "  <thead>\n",
              "    <tr style=\"text-align: right;\">\n",
              "      <th></th>\n",
              "      <th>longitude</th>\n",
              "      <th>latitude</th>\n",
              "      <th>housing_median_age</th>\n",
              "      <th>total_rooms</th>\n",
              "      <th>total_bedrooms</th>\n",
              "      <th>population</th>\n",
              "      <th>households</th>\n",
              "      <th>median_income</th>\n",
              "      <th>median_house_value</th>\n",
              "    </tr>\n",
              "  </thead>\n",
              "  <tbody>\n",
              "    <tr>\n",
              "      <th>0</th>\n",
              "      <td>-122.23</td>\n",
              "      <td>37.88</td>\n",
              "      <td>41.0</td>\n",
              "      <td>880.0</td>\n",
              "      <td>129.0</td>\n",
              "      <td>322.0</td>\n",
              "      <td>126.0</td>\n",
              "      <td>8.3252</td>\n",
              "      <td>452600.0</td>\n",
              "    </tr>\n",
              "    <tr>\n",
              "      <th>1</th>\n",
              "      <td>-122.22</td>\n",
              "      <td>37.86</td>\n",
              "      <td>21.0</td>\n",
              "      <td>7099.0</td>\n",
              "      <td>1106.0</td>\n",
              "      <td>2401.0</td>\n",
              "      <td>1138.0</td>\n",
              "      <td>8.3014</td>\n",
              "      <td>358500.0</td>\n",
              "    </tr>\n",
              "    <tr>\n",
              "      <th>2</th>\n",
              "      <td>-122.24</td>\n",
              "      <td>37.85</td>\n",
              "      <td>52.0</td>\n",
              "      <td>1467.0</td>\n",
              "      <td>190.0</td>\n",
              "      <td>496.0</td>\n",
              "      <td>177.0</td>\n",
              "      <td>7.2574</td>\n",
              "      <td>352100.0</td>\n",
              "    </tr>\n",
              "    <tr>\n",
              "      <th>3</th>\n",
              "      <td>-122.25</td>\n",
              "      <td>37.85</td>\n",
              "      <td>52.0</td>\n",
              "      <td>1274.0</td>\n",
              "      <td>235.0</td>\n",
              "      <td>558.0</td>\n",
              "      <td>219.0</td>\n",
              "      <td>5.6431</td>\n",
              "      <td>341300.0</td>\n",
              "    </tr>\n",
              "    <tr>\n",
              "      <th>4</th>\n",
              "      <td>-122.25</td>\n",
              "      <td>37.85</td>\n",
              "      <td>52.0</td>\n",
              "      <td>1627.0</td>\n",
              "      <td>280.0</td>\n",
              "      <td>565.0</td>\n",
              "      <td>259.0</td>\n",
              "      <td>3.8462</td>\n",
              "      <td>342200.0</td>\n",
              "    </tr>\n",
              "    <tr>\n",
              "      <th>5</th>\n",
              "      <td>-122.25</td>\n",
              "      <td>37.85</td>\n",
              "      <td>52.0</td>\n",
              "      <td>919.0</td>\n",
              "      <td>213.0</td>\n",
              "      <td>413.0</td>\n",
              "      <td>193.0</td>\n",
              "      <td>4.0368</td>\n",
              "      <td>269700.0</td>\n",
              "    </tr>\n",
              "    <tr>\n",
              "      <th>6</th>\n",
              "      <td>-122.25</td>\n",
              "      <td>37.84</td>\n",
              "      <td>52.0</td>\n",
              "      <td>2535.0</td>\n",
              "      <td>489.0</td>\n",
              "      <td>1094.0</td>\n",
              "      <td>514.0</td>\n",
              "      <td>3.6591</td>\n",
              "      <td>299200.0</td>\n",
              "    </tr>\n",
              "    <tr>\n",
              "      <th>7</th>\n",
              "      <td>-122.25</td>\n",
              "      <td>37.84</td>\n",
              "      <td>52.0</td>\n",
              "      <td>3104.0</td>\n",
              "      <td>687.0</td>\n",
              "      <td>1157.0</td>\n",
              "      <td>647.0</td>\n",
              "      <td>3.1200</td>\n",
              "      <td>241400.0</td>\n",
              "    </tr>\n",
              "    <tr>\n",
              "      <th>8</th>\n",
              "      <td>-122.26</td>\n",
              "      <td>37.84</td>\n",
              "      <td>42.0</td>\n",
              "      <td>2555.0</td>\n",
              "      <td>665.0</td>\n",
              "      <td>1206.0</td>\n",
              "      <td>595.0</td>\n",
              "      <td>2.0804</td>\n",
              "      <td>226700.0</td>\n",
              "    </tr>\n",
              "    <tr>\n",
              "      <th>9</th>\n",
              "      <td>-122.25</td>\n",
              "      <td>37.84</td>\n",
              "      <td>52.0</td>\n",
              "      <td>3549.0</td>\n",
              "      <td>707.0</td>\n",
              "      <td>1551.0</td>\n",
              "      <td>714.0</td>\n",
              "      <td>3.6912</td>\n",
              "      <td>261100.0</td>\n",
              "    </tr>\n",
              "  </tbody>\n",
              "</table>\n",
              "</div>\n",
              "      <button class=\"colab-df-convert\" onclick=\"convertToInteractive('df-170438c0-6d93-4740-b91b-4703f221e85c')\"\n",
              "              title=\"Convert this dataframe to an interactive table.\"\n",
              "              style=\"display:none;\">\n",
              "        \n",
              "  <svg xmlns=\"http://www.w3.org/2000/svg\" height=\"24px\"viewBox=\"0 0 24 24\"\n",
              "       width=\"24px\">\n",
              "    <path d=\"M0 0h24v24H0V0z\" fill=\"none\"/>\n",
              "    <path d=\"M18.56 5.44l.94 2.06.94-2.06 2.06-.94-2.06-.94-.94-2.06-.94 2.06-2.06.94zm-11 1L8.5 8.5l.94-2.06 2.06-.94-2.06-.94L8.5 2.5l-.94 2.06-2.06.94zm10 10l.94 2.06.94-2.06 2.06-.94-2.06-.94-.94-2.06-.94 2.06-2.06.94z\"/><path d=\"M17.41 7.96l-1.37-1.37c-.4-.4-.92-.59-1.43-.59-.52 0-1.04.2-1.43.59L10.3 9.45l-7.72 7.72c-.78.78-.78 2.05 0 2.83L4 21.41c.39.39.9.59 1.41.59.51 0 1.02-.2 1.41-.59l7.78-7.78 2.81-2.81c.8-.78.8-2.07 0-2.86zM5.41 20L4 18.59l7.72-7.72 1.47 1.35L5.41 20z\"/>\n",
              "  </svg>\n",
              "      </button>\n",
              "      \n",
              "  <style>\n",
              "    .colab-df-container {\n",
              "      display:flex;\n",
              "      flex-wrap:wrap;\n",
              "      gap: 12px;\n",
              "    }\n",
              "\n",
              "    .colab-df-convert {\n",
              "      background-color: #E8F0FE;\n",
              "      border: none;\n",
              "      border-radius: 50%;\n",
              "      cursor: pointer;\n",
              "      display: none;\n",
              "      fill: #1967D2;\n",
              "      height: 32px;\n",
              "      padding: 0 0 0 0;\n",
              "      width: 32px;\n",
              "    }\n",
              "\n",
              "    .colab-df-convert:hover {\n",
              "      background-color: #E2EBFA;\n",
              "      box-shadow: 0px 1px 2px rgba(60, 64, 67, 0.3), 0px 1px 3px 1px rgba(60, 64, 67, 0.15);\n",
              "      fill: #174EA6;\n",
              "    }\n",
              "\n",
              "    [theme=dark] .colab-df-convert {\n",
              "      background-color: #3B4455;\n",
              "      fill: #D2E3FC;\n",
              "    }\n",
              "\n",
              "    [theme=dark] .colab-df-convert:hover {\n",
              "      background-color: #434B5C;\n",
              "      box-shadow: 0px 1px 3px 1px rgba(0, 0, 0, 0.15);\n",
              "      filter: drop-shadow(0px 1px 2px rgba(0, 0, 0, 0.3));\n",
              "      fill: #FFFFFF;\n",
              "    }\n",
              "  </style>\n",
              "\n",
              "      <script>\n",
              "        const buttonEl =\n",
              "          document.querySelector('#df-170438c0-6d93-4740-b91b-4703f221e85c button.colab-df-convert');\n",
              "        buttonEl.style.display =\n",
              "          google.colab.kernel.accessAllowed ? 'block' : 'none';\n",
              "\n",
              "        async function convertToInteractive(key) {\n",
              "          const element = document.querySelector('#df-170438c0-6d93-4740-b91b-4703f221e85c');\n",
              "          const dataTable =\n",
              "            await google.colab.kernel.invokeFunction('convertToInteractive',\n",
              "                                                     [key], {});\n",
              "          if (!dataTable) return;\n",
              "\n",
              "          const docLinkHtml = 'Like what you see? Visit the ' +\n",
              "            '<a target=\"_blank\" href=https://colab.research.google.com/notebooks/data_table.ipynb>data table notebook</a>'\n",
              "            + ' to learn more about interactive tables.';\n",
              "          element.innerHTML = '';\n",
              "          dataTable['output_type'] = 'display_data';\n",
              "          await google.colab.output.renderOutput(dataTable, element);\n",
              "          const docLink = document.createElement('div');\n",
              "          docLink.innerHTML = docLinkHtml;\n",
              "          element.appendChild(docLink);\n",
              "        }\n",
              "      </script>\n",
              "    </div>\n",
              "  </div>\n",
              "  "
            ],
            "text/plain": [
              "   longitude  latitude  housing_median_age  total_rooms  total_bedrooms  \\\n",
              "0    -122.23     37.88                41.0        880.0           129.0   \n",
              "1    -122.22     37.86                21.0       7099.0          1106.0   \n",
              "2    -122.24     37.85                52.0       1467.0           190.0   \n",
              "3    -122.25     37.85                52.0       1274.0           235.0   \n",
              "4    -122.25     37.85                52.0       1627.0           280.0   \n",
              "5    -122.25     37.85                52.0        919.0           213.0   \n",
              "6    -122.25     37.84                52.0       2535.0           489.0   \n",
              "7    -122.25     37.84                52.0       3104.0           687.0   \n",
              "8    -122.26     37.84                42.0       2555.0           665.0   \n",
              "9    -122.25     37.84                52.0       3549.0           707.0   \n",
              "\n",
              "   population  households  median_income  median_house_value  \n",
              "0       322.0       126.0         8.3252            452600.0  \n",
              "1      2401.0      1138.0         8.3014            358500.0  \n",
              "2       496.0       177.0         7.2574            352100.0  \n",
              "3       558.0       219.0         5.6431            341300.0  \n",
              "4       565.0       259.0         3.8462            342200.0  \n",
              "5       413.0       193.0         4.0368            269700.0  \n",
              "6      1094.0       514.0         3.6591            299200.0  \n",
              "7      1157.0       647.0         3.1200            241400.0  \n",
              "8      1206.0       595.0         2.0804            226700.0  \n",
              "9      1551.0       714.0         3.6912            261100.0  "
            ]
          },
          "execution_count": 4,
          "metadata": {},
          "output_type": "execute_result"
        }
      ],
      "source": [
        "#@ INSPECTING DATAFRAME:\n",
        "data.head(10)"
      ]
    },
    {
      "cell_type": "markdown",
      "metadata": {
        "id": "g3Xwa_AJx-AF"
      },
      "source": [
        "**EXPLORATORY DATA ANALYSIS:**"
      ]
    },
    {
      "cell_type": "code",
      "execution_count": 5,
      "metadata": {
        "colab": {
          "base_uri": "https://localhost:8080/"
        },
        "id": "KVJGwsquxpw1",
        "outputId": "5ea93126-5e5a-4ef3-a921-467b5a246b38"
      },
      "outputs": [
        {
          "name": "stdout",
          "output_type": "stream",
          "text": [
            "<class 'pandas.core.frame.DataFrame'>\n",
            "RangeIndex: 20640 entries, 0 to 20639\n",
            "Data columns (total 9 columns):\n",
            " #   Column              Non-Null Count  Dtype  \n",
            "---  ------              --------------  -----  \n",
            " 0   longitude           20640 non-null  float64\n",
            " 1   latitude            20640 non-null  float64\n",
            " 2   housing_median_age  20640 non-null  float64\n",
            " 3   total_rooms         20640 non-null  float64\n",
            " 4   total_bedrooms      20433 non-null  float64\n",
            " 5   population          20640 non-null  float64\n",
            " 6   households          20640 non-null  float64\n",
            " 7   median_income       20640 non-null  float64\n",
            " 8   median_house_value  20640 non-null  float64\n",
            "dtypes: float64(9)\n",
            "memory usage: 1.4 MB\n"
          ]
        }
      ],
      "source": [
        "#@ DATAFRAME INFORMATION:\n",
        "data.info()"
      ]
    },
    {
      "cell_type": "markdown",
      "metadata": {
        "id": "RFHfkRM9zxJ-"
      },
      "source": [
        "- Answer for Questions 1: \"total_bedrooms\" = 207"
      ]
    },
    {
      "cell_type": "markdown",
      "metadata": {
        "id": "VQKQa5XZ0wAO"
      },
      "source": [
        "**NULL VALUES CHECKER:**"
      ]
    },
    {
      "cell_type": "code",
      "execution_count": 6,
      "metadata": {
        "colab": {
          "base_uri": "https://localhost:8080/"
        },
        "id": "fSX3EYwHyW_V",
        "outputId": "594b146e-7a6e-4ec7-a2e1-f80391b13b26"
      },
      "outputs": [
        {
          "name": "stdout",
          "output_type": "stream",
          "text": [
            "total_bedrooms    1.002907\n",
            "dtype: float64\n"
          ]
        }
      ],
      "source": [
        "#@ INSPECTING NULL VALUES:\n",
        "incomplete = data.isna().mean()*100\n",
        "print(incomplete[incomplete > 0])"
      ]
    },
    {
      "cell_type": "code",
      "execution_count": 7,
      "metadata": {
        "colab": {
          "base_uri": "https://localhost:8080/"
        },
        "id": "egrG0MAr0W8S",
        "outputId": "e46e20de-4ff3-443e-9057-63edc08eb65d"
      },
      "outputs": [
        {
          "data": {
            "text/plain": [
              "longitude             False\n",
              "latitude              False\n",
              "housing_median_age    False\n",
              "total_rooms           False\n",
              "total_bedrooms         True\n",
              "population            False\n",
              "households            False\n",
              "median_income         False\n",
              "median_house_value    False\n",
              "dtype: bool"
            ]
          },
          "execution_count": 7,
          "metadata": {},
          "output_type": "execute_result"
        }
      ],
      "source": [
        "#@ INSPECTING NULL VALUES:\n",
        "data.isna().any()"
      ]
    },
    {
      "cell_type": "markdown",
      "metadata": {
        "id": "QAieBTSC06zL"
      },
      "source": [
        "**DUPLICATES:**"
      ]
    },
    {
      "cell_type": "code",
      "execution_count": 8,
      "metadata": {
        "colab": {
          "base_uri": "https://localhost:8080/"
        },
        "id": "GrWi3uy40gLg",
        "outputId": "700c43e6-16e1-4f04-dded-8ac4962cc121"
      },
      "outputs": [
        {
          "data": {
            "text/plain": [
              "False    20640\n",
              "dtype: int64"
            ]
          },
          "execution_count": 8,
          "metadata": {},
          "output_type": "execute_result"
        }
      ],
      "source": [
        "#@ INSPECTING DUPLICATES:\n",
        "data.duplicated().value_counts()"
      ]
    },
    {
      "cell_type": "markdown",
      "metadata": {
        "id": "MxFu2alh1R4Y"
      },
      "source": [
        "**DESCRIPTIVE ANALYSIS:**"
      ]
    },
    {
      "cell_type": "code",
      "execution_count": 9,
      "metadata": {
        "colab": {
          "base_uri": "https://localhost:8080/",
          "height": 396
        },
        "id": "VjZYolWL1PCq",
        "outputId": "b17bccb8-4212-4513-dcd2-60ddcf706d2b"
      },
      "outputs": [
        {
          "data": {
            "text/html": [
              "\n",
              "  <div id=\"df-871b834e-bb3c-49de-92d5-e0fdbcf662af\">\n",
              "    <div class=\"colab-df-container\">\n",
              "      <div>\n",
              "<style scoped>\n",
              "    .dataframe tbody tr th:only-of-type {\n",
              "        vertical-align: middle;\n",
              "    }\n",
              "\n",
              "    .dataframe tbody tr th {\n",
              "        vertical-align: top;\n",
              "    }\n",
              "\n",
              "    .dataframe thead th {\n",
              "        text-align: right;\n",
              "    }\n",
              "</style>\n",
              "<table border=\"1\" class=\"dataframe\">\n",
              "  <thead>\n",
              "    <tr style=\"text-align: right;\">\n",
              "      <th></th>\n",
              "      <th>count</th>\n",
              "      <th>mean</th>\n",
              "      <th>std</th>\n",
              "      <th>min</th>\n",
              "      <th>0%</th>\n",
              "      <th>10%</th>\n",
              "      <th>25%</th>\n",
              "      <th>50%</th>\n",
              "      <th>75%</th>\n",
              "      <th>90%</th>\n",
              "      <th>95%</th>\n",
              "      <th>99%</th>\n",
              "      <th>max</th>\n",
              "    </tr>\n",
              "  </thead>\n",
              "  <tbody>\n",
              "    <tr>\n",
              "      <th>longitude</th>\n",
              "      <td>20640.0</td>\n",
              "      <td>-119.569704</td>\n",
              "      <td>2.003532</td>\n",
              "      <td>-124.3500</td>\n",
              "      <td>-124.3500</td>\n",
              "      <td>-122.2900</td>\n",
              "      <td>-121.8000</td>\n",
              "      <td>-118.4900</td>\n",
              "      <td>-118.01000</td>\n",
              "      <td>-117.25000</td>\n",
              "      <td>-117.080000</td>\n",
              "      <td>-116.29000</td>\n",
              "      <td>-114.3100</td>\n",
              "    </tr>\n",
              "    <tr>\n",
              "      <th>latitude</th>\n",
              "      <td>20640.0</td>\n",
              "      <td>35.631861</td>\n",
              "      <td>2.135952</td>\n",
              "      <td>32.5400</td>\n",
              "      <td>32.5400</td>\n",
              "      <td>33.6300</td>\n",
              "      <td>33.9300</td>\n",
              "      <td>34.2600</td>\n",
              "      <td>37.71000</td>\n",
              "      <td>38.48000</td>\n",
              "      <td>38.960000</td>\n",
              "      <td>40.62610</td>\n",
              "      <td>41.9500</td>\n",
              "    </tr>\n",
              "    <tr>\n",
              "      <th>housing_median_age</th>\n",
              "      <td>20640.0</td>\n",
              "      <td>28.639486</td>\n",
              "      <td>12.585558</td>\n",
              "      <td>1.0000</td>\n",
              "      <td>1.0000</td>\n",
              "      <td>13.0000</td>\n",
              "      <td>18.0000</td>\n",
              "      <td>29.0000</td>\n",
              "      <td>37.00000</td>\n",
              "      <td>46.00000</td>\n",
              "      <td>52.000000</td>\n",
              "      <td>52.00000</td>\n",
              "      <td>52.0000</td>\n",
              "    </tr>\n",
              "    <tr>\n",
              "      <th>total_rooms</th>\n",
              "      <td>20640.0</td>\n",
              "      <td>2635.763081</td>\n",
              "      <td>2181.615252</td>\n",
              "      <td>2.0000</td>\n",
              "      <td>2.0000</td>\n",
              "      <td>941.0000</td>\n",
              "      <td>1447.7500</td>\n",
              "      <td>2127.0000</td>\n",
              "      <td>3148.00000</td>\n",
              "      <td>4651.50000</td>\n",
              "      <td>6213.200000</td>\n",
              "      <td>11212.11000</td>\n",
              "      <td>39320.0000</td>\n",
              "    </tr>\n",
              "    <tr>\n",
              "      <th>total_bedrooms</th>\n",
              "      <td>20433.0</td>\n",
              "      <td>537.870553</td>\n",
              "      <td>421.385070</td>\n",
              "      <td>1.0000</td>\n",
              "      <td>1.0000</td>\n",
              "      <td>198.0000</td>\n",
              "      <td>296.0000</td>\n",
              "      <td>435.0000</td>\n",
              "      <td>647.00000</td>\n",
              "      <td>965.00000</td>\n",
              "      <td>1275.400000</td>\n",
              "      <td>2221.36000</td>\n",
              "      <td>6445.0000</td>\n",
              "    </tr>\n",
              "    <tr>\n",
              "      <th>population</th>\n",
              "      <td>20640.0</td>\n",
              "      <td>1425.476744</td>\n",
              "      <td>1132.462122</td>\n",
              "      <td>3.0000</td>\n",
              "      <td>3.0000</td>\n",
              "      <td>510.0000</td>\n",
              "      <td>787.0000</td>\n",
              "      <td>1166.0000</td>\n",
              "      <td>1725.00000</td>\n",
              "      <td>2566.00000</td>\n",
              "      <td>3288.000000</td>\n",
              "      <td>5805.83000</td>\n",
              "      <td>35682.0000</td>\n",
              "    </tr>\n",
              "    <tr>\n",
              "      <th>households</th>\n",
              "      <td>20640.0</td>\n",
              "      <td>499.539680</td>\n",
              "      <td>382.329753</td>\n",
              "      <td>1.0000</td>\n",
              "      <td>1.0000</td>\n",
              "      <td>184.0000</td>\n",
              "      <td>280.0000</td>\n",
              "      <td>409.0000</td>\n",
              "      <td>605.00000</td>\n",
              "      <td>890.00000</td>\n",
              "      <td>1162.000000</td>\n",
              "      <td>1982.66000</td>\n",
              "      <td>6082.0000</td>\n",
              "    </tr>\n",
              "    <tr>\n",
              "      <th>median_income</th>\n",
              "      <td>20640.0</td>\n",
              "      <td>3.870671</td>\n",
              "      <td>1.899822</td>\n",
              "      <td>0.4999</td>\n",
              "      <td>0.4999</td>\n",
              "      <td>1.9038</td>\n",
              "      <td>2.5634</td>\n",
              "      <td>3.5348</td>\n",
              "      <td>4.74325</td>\n",
              "      <td>6.15921</td>\n",
              "      <td>7.300305</td>\n",
              "      <td>10.59654</td>\n",
              "      <td>15.0001</td>\n",
              "    </tr>\n",
              "    <tr>\n",
              "      <th>median_house_value</th>\n",
              "      <td>20640.0</td>\n",
              "      <td>206855.816909</td>\n",
              "      <td>115395.615874</td>\n",
              "      <td>14999.0000</td>\n",
              "      <td>14999.0000</td>\n",
              "      <td>82300.0000</td>\n",
              "      <td>119600.0000</td>\n",
              "      <td>179700.0000</td>\n",
              "      <td>264725.00000</td>\n",
              "      <td>376600.00000</td>\n",
              "      <td>489810.000000</td>\n",
              "      <td>500001.00000</td>\n",
              "      <td>500001.0000</td>\n",
              "    </tr>\n",
              "  </tbody>\n",
              "</table>\n",
              "</div>\n",
              "      <button class=\"colab-df-convert\" onclick=\"convertToInteractive('df-871b834e-bb3c-49de-92d5-e0fdbcf662af')\"\n",
              "              title=\"Convert this dataframe to an interactive table.\"\n",
              "              style=\"display:none;\">\n",
              "        \n",
              "  <svg xmlns=\"http://www.w3.org/2000/svg\" height=\"24px\"viewBox=\"0 0 24 24\"\n",
              "       width=\"24px\">\n",
              "    <path d=\"M0 0h24v24H0V0z\" fill=\"none\"/>\n",
              "    <path d=\"M18.56 5.44l.94 2.06.94-2.06 2.06-.94-2.06-.94-.94-2.06-.94 2.06-2.06.94zm-11 1L8.5 8.5l.94-2.06 2.06-.94-2.06-.94L8.5 2.5l-.94 2.06-2.06.94zm10 10l.94 2.06.94-2.06 2.06-.94-2.06-.94-.94-2.06-.94 2.06-2.06.94z\"/><path d=\"M17.41 7.96l-1.37-1.37c-.4-.4-.92-.59-1.43-.59-.52 0-1.04.2-1.43.59L10.3 9.45l-7.72 7.72c-.78.78-.78 2.05 0 2.83L4 21.41c.39.39.9.59 1.41.59.51 0 1.02-.2 1.41-.59l7.78-7.78 2.81-2.81c.8-.78.8-2.07 0-2.86zM5.41 20L4 18.59l7.72-7.72 1.47 1.35L5.41 20z\"/>\n",
              "  </svg>\n",
              "      </button>\n",
              "      \n",
              "  <style>\n",
              "    .colab-df-container {\n",
              "      display:flex;\n",
              "      flex-wrap:wrap;\n",
              "      gap: 12px;\n",
              "    }\n",
              "\n",
              "    .colab-df-convert {\n",
              "      background-color: #E8F0FE;\n",
              "      border: none;\n",
              "      border-radius: 50%;\n",
              "      cursor: pointer;\n",
              "      display: none;\n",
              "      fill: #1967D2;\n",
              "      height: 32px;\n",
              "      padding: 0 0 0 0;\n",
              "      width: 32px;\n",
              "    }\n",
              "\n",
              "    .colab-df-convert:hover {\n",
              "      background-color: #E2EBFA;\n",
              "      box-shadow: 0px 1px 2px rgba(60, 64, 67, 0.3), 0px 1px 3px 1px rgba(60, 64, 67, 0.15);\n",
              "      fill: #174EA6;\n",
              "    }\n",
              "\n",
              "    [theme=dark] .colab-df-convert {\n",
              "      background-color: #3B4455;\n",
              "      fill: #D2E3FC;\n",
              "    }\n",
              "\n",
              "    [theme=dark] .colab-df-convert:hover {\n",
              "      background-color: #434B5C;\n",
              "      box-shadow: 0px 1px 3px 1px rgba(0, 0, 0, 0.15);\n",
              "      filter: drop-shadow(0px 1px 2px rgba(0, 0, 0, 0.3));\n",
              "      fill: #FFFFFF;\n",
              "    }\n",
              "  </style>\n",
              "\n",
              "      <script>\n",
              "        const buttonEl =\n",
              "          document.querySelector('#df-871b834e-bb3c-49de-92d5-e0fdbcf662af button.colab-df-convert');\n",
              "        buttonEl.style.display =\n",
              "          google.colab.kernel.accessAllowed ? 'block' : 'none';\n",
              "\n",
              "        async function convertToInteractive(key) {\n",
              "          const element = document.querySelector('#df-871b834e-bb3c-49de-92d5-e0fdbcf662af');\n",
              "          const dataTable =\n",
              "            await google.colab.kernel.invokeFunction('convertToInteractive',\n",
              "                                                     [key], {});\n",
              "          if (!dataTable) return;\n",
              "\n",
              "          const docLinkHtml = 'Like what you see? Visit the ' +\n",
              "            '<a target=\"_blank\" href=https://colab.research.google.com/notebooks/data_table.ipynb>data table notebook</a>'\n",
              "            + ' to learn more about interactive tables.';\n",
              "          element.innerHTML = '';\n",
              "          dataTable['output_type'] = 'display_data';\n",
              "          await google.colab.output.renderOutput(dataTable, element);\n",
              "          const docLink = document.createElement('div');\n",
              "          docLink.innerHTML = docLinkHtml;\n",
              "          element.appendChild(docLink);\n",
              "        }\n",
              "      </script>\n",
              "    </div>\n",
              "  </div>\n",
              "  "
            ],
            "text/plain": [
              "                      count           mean            std         min  \\\n",
              "longitude           20640.0    -119.569704       2.003532   -124.3500   \n",
              "latitude            20640.0      35.631861       2.135952     32.5400   \n",
              "housing_median_age  20640.0      28.639486      12.585558      1.0000   \n",
              "total_rooms         20640.0    2635.763081    2181.615252      2.0000   \n",
              "total_bedrooms      20433.0     537.870553     421.385070      1.0000   \n",
              "population          20640.0    1425.476744    1132.462122      3.0000   \n",
              "households          20640.0     499.539680     382.329753      1.0000   \n",
              "median_income       20640.0       3.870671       1.899822      0.4999   \n",
              "median_house_value  20640.0  206855.816909  115395.615874  14999.0000   \n",
              "\n",
              "                            0%         10%          25%          50%  \\\n",
              "longitude            -124.3500   -122.2900    -121.8000    -118.4900   \n",
              "latitude               32.5400     33.6300      33.9300      34.2600   \n",
              "housing_median_age      1.0000     13.0000      18.0000      29.0000   \n",
              "total_rooms             2.0000    941.0000    1447.7500    2127.0000   \n",
              "total_bedrooms          1.0000    198.0000     296.0000     435.0000   \n",
              "population              3.0000    510.0000     787.0000    1166.0000   \n",
              "households              1.0000    184.0000     280.0000     409.0000   \n",
              "median_income           0.4999      1.9038       2.5634       3.5348   \n",
              "median_house_value  14999.0000  82300.0000  119600.0000  179700.0000   \n",
              "\n",
              "                             75%           90%            95%           99%  \\\n",
              "longitude             -118.01000    -117.25000    -117.080000    -116.29000   \n",
              "latitude                37.71000      38.48000      38.960000      40.62610   \n",
              "housing_median_age      37.00000      46.00000      52.000000      52.00000   \n",
              "total_rooms           3148.00000    4651.50000    6213.200000   11212.11000   \n",
              "total_bedrooms         647.00000     965.00000    1275.400000    2221.36000   \n",
              "population            1725.00000    2566.00000    3288.000000    5805.83000   \n",
              "households             605.00000     890.00000    1162.000000    1982.66000   \n",
              "median_income            4.74325       6.15921       7.300305      10.59654   \n",
              "median_house_value  264725.00000  376600.00000  489810.000000  500001.00000   \n",
              "\n",
              "                            max  \n",
              "longitude             -114.3100  \n",
              "latitude                41.9500  \n",
              "housing_median_age      52.0000  \n",
              "total_rooms          39320.0000  \n",
              "total_bedrooms        6445.0000  \n",
              "population           35682.0000  \n",
              "households            6082.0000  \n",
              "median_income           15.0001  \n",
              "median_house_value  500001.0000  "
            ]
          },
          "execution_count": 9,
          "metadata": {},
          "output_type": "execute_result"
        }
      ],
      "source": [
        "#@ INITIALIZING DESCRIPTIVE ANALYSIS:\n",
        "data.describe(percentiles=[.0, .25, .5, .75, .9, .95, .99, .1]).T"
      ]
    },
    {
      "cell_type": "code",
      "execution_count": 10,
      "metadata": {
        "colab": {
          "base_uri": "https://localhost:8080/"
        },
        "id": "he_Rn01H1b8-",
        "outputId": "64924146-11b0-41b9-ad73-eb3ef887eca5"
      },
      "outputs": [
        {
          "data": {
            "text/plain": [
              "1166.0"
            ]
          },
          "execution_count": 10,
          "metadata": {},
          "output_type": "execute_result"
        }
      ],
      "source": [
        "#@ INSPECTING MEDIAN:\n",
        "np.median(data['population'])"
      ]
    },
    {
      "cell_type": "markdown",
      "metadata": {
        "id": "B9ixoCCY1sqP"
      },
      "source": [
        "- Answer for Question 2: \"population\" = 1166.0"
      ]
    },
    {
      "cell_type": "code",
      "execution_count": 11,
      "metadata": {
        "colab": {
          "base_uri": "https://localhost:8080/",
          "height": 575
        },
        "id": "ZnG-XO6_1o7P",
        "outputId": "092b100e-95b3-4bf1-e827-5e179d22ccc0"
      },
      "outputs": [
        {
          "data": {
            "image/png": "[encoded data removed]",
            "text/plain": [
              "<Figure size 1080x720 with 9 Axes>"
            ]
          },
          "metadata": {
            "needs_background": "light"
          },
          "output_type": "display_data"
        }
      ],
      "source": [
        "#@ INSPECTING HISTOGRAM:\n",
        "fig = plt.figure(figsize=(15,10))\n",
        "ax = plt.gca()\n",
        "data.hist(bins=100, ax=ax, layout=(3, 3), column=[\"longitude\", \"latitude\", \"housing_median_age\", \"total_rooms\", \"total_bedrooms\", \n",
        "                                                  \"population\", \"households\", \"median_income\", \"median_house_value\"])\n",
        "plt.tight_layout()\n",
        "plt.show()"
      ]
    },
    {
      "cell_type": "code",
      "execution_count": 12,
      "metadata": {
        "colab": {
          "base_uri": "https://localhost:8080/",
          "height": 308
        },
        "id": "zGjZbXO22t8y",
        "outputId": "2b39d4f4-1d73-4c6a-f28d-2e8e749009b4"
      },
      "outputs": [
        {
          "data": {
            "text/plain": [
              "<matplotlib.axes._subplots.AxesSubplot at 0x7ff6b4018510>"
            ]
          },
          "execution_count": 12,
          "metadata": {},
          "output_type": "execute_result"
        },
        {
          "data": {
            "image/png": "[encoded data removed]",
            "text/plain": [
              "<Figure size 432x288 with 1 Axes>"
            ]
          },
          "metadata": {
            "needs_background": "light"
          },
          "output_type": "display_data"
        }
      ],
      "source": [
        "#@ INSPECTING HOUSE VALUES:\n",
        "sns.distplot(data.median_house_value)"
      ]
    },
    {
      "cell_type": "code",
      "execution_count": 13,
      "metadata": {
        "colab": {
          "base_uri": "https://localhost:8080/",
          "height": 297
        },
        "id": "7yfsHu0iFG0_",
        "outputId": "dceb831e-dc54-4920-9584-7b11a309c074"
      },
      "outputs": [
        {
          "data": {
            "text/plain": [
              "<matplotlib.axes._subplots.AxesSubplot at 0x7ff6b3f598d0>"
            ]
          },
          "execution_count": 13,
          "metadata": {},
          "output_type": "execute_result"
        },
        {
          "data": {
            "image/png": "[encoded data removed]",
            "text/plain": [
              "<Figure size 432x288 with 1 Axes>"
            ]
          },
          "metadata": {
            "needs_background": "light"
          },
          "output_type": "display_data"
        }
      ],
      "source": [
        "#@ INSPECTING HOUSE VALUES:\n",
        "sns.distplot(np.log1p(data.median_house_value))"
      ]
    },
    {
      "cell_type": "markdown",
      "metadata": {
        "id": "MNUZvPreFXRc"
      },
      "source": [
        "**SIMPLE LINEAR REGRESSION:**"
      ]
    },
    {
      "cell_type": "code",
      "execution_count": 14,
      "metadata": {
        "id": "HBDdrHPNFUtm"
      },
      "outputs": [],
      "source": [
        "#@ FUNCTION FOR LINEAR REGRESSION:\n",
        "def train_linear_regression(X, y):\n",
        "    ones = np.ones(X.shape[0])\n",
        "    X = np.column_stack([ones, X])\n",
        "\n",
        "    XTX = X.T.dot(X)\n",
        "    XTX_inv = np.linalg.inv(XTX)\n",
        "    w = XTX_inv.dot(X.T).dot(y)\n",
        "    \n",
        "    return w[0], w[1:]"
      ]
    },
    {
      "cell_type": "markdown",
      "metadata": {
        "id": "J14sroxlFpl5"
      },
      "source": [
        "**DATASET PREPARATION:**"
      ]
    },
    {
      "cell_type": "code",
      "execution_count": 15,
      "metadata": {
        "id": "CW5IYdDnFnGM"
      },
      "outputs": [],
      "source": [
        "#@ SPLITTING THE DATASET:\n",
        "n = len(data)\n",
        "n_val = int(0.2 * n)\n",
        "n_test = int(0.2 * n)\n",
        "n_train = n - (n_val + n_test)\n",
        "\n",
        "#@ SHUFFLING DATASET:\n",
        "idx = np.arange(n)\n",
        "np.random.seed(42)\n",
        "np.random.shuffle(idx)\n",
        "df_shuffled = data.iloc[idx]"
      ]
    },
    {
      "cell_type": "code",
      "execution_count": 16,
      "metadata": {
        "id": "va8Am7MiF-f1"
      },
      "outputs": [],
      "source": [
        "#@ PREPARING THE DATASET:\n",
        "df_train = df_shuffled.iloc[:n_train].copy()\n",
        "df_val = df_shuffled.iloc[n_train:n_train+n_val].copy()\n",
        "df_test = df_shuffled.iloc[n_train+n_val:].copy()\n",
        "\n",
        "df_train = df_train.reset_index(drop=True)\n",
        "df_val = df_val.reset_index(drop=True)\n",
        "df_test = df_test.reset_index(drop=True)"
      ]
    },
    {
      "cell_type": "code",
      "execution_count": 17,
      "metadata": {
        "id": "hdH9RtDRGFy2"
      },
      "outputs": [],
      "source": [
        "#@ PREPARING THE LABELS:\n",
        "y_train_orig = df_train.median_house_value.values\n",
        "y_val_orig = df_val.median_house_value.values\n",
        "y_test_orig = df_test.median_house_value.values\n",
        "\n",
        "y_train = np.log1p(y_train_orig)\n",
        "y_val = np.log1p(y_val_orig)\n",
        "y_test = np.log1p(y_test_orig)"
      ]
    },
    {
      "cell_type": "code",
      "execution_count": 18,
      "metadata": {
        "id": "z925mwhUGVc0"
      },
      "outputs": [],
      "source": [
        "#@ DELETING DATASET:\n",
        "del df_train['median_house_value']\n",
        "del df_val['median_house_value']\n",
        "del df_test['median_house_value']"
      ]
    },
    {
      "cell_type": "code",
      "execution_count": 19,
      "metadata": {
        "id": "cVkklBf7Gf_J"
      },
      "outputs": [],
      "source": [
        "#@ PREPARING THE DATASET:\n",
        "check=[\"longitude\", \"latitude\", \"housing_median_age\", \"total_rooms\", \"total_bedrooms\", \n",
        "       \"population\", \"households\", \"median_income\"]\n",
        "\n",
        "#@ DEFINING FUNCTION:\n",
        "def prepare_X(df, fillna_value):\n",
        "    df_num = df[check]\n",
        "    df_num = df_num.fillna(fillna_value)\n",
        "    X = df_num.values\n",
        "    return X"
      ]
    },
    {
      "cell_type": "code",
      "execution_count": 20,
      "metadata": {
        "id": "ghS0GSquHB9g"
      },
      "outputs": [],
      "source": [
        "#@ FUNCTION FOR RMSE VALUES:\n",
        "def rmse(y, y_pred):\n",
        "    error = y_pred - y\n",
        "    mse = (error ** 2).mean()\n",
        "    return np.sqrt(mse)"
      ]
    },
    {
      "cell_type": "code",
      "execution_count": 21,
      "metadata": {
        "id": "4viqmybcHLzV"
      },
      "outputs": [],
      "source": [
        "#@ FILLING MISSING VALUES:\n",
        "mean = df_train.total_bedrooms.mean()\n",
        "\n",
        "X_mean_train = prepare_X(df_train, fillna_value=mean)\n",
        "w_0_mean, w_mean = train_linear_regression(X_mean_train, y_train)"
      ]
    },
    {
      "cell_type": "code",
      "execution_count": 22,
      "metadata": {
        "id": "s_4PaznAHhv8"
      },
      "outputs": [],
      "source": [
        "#@ FILLING MISSING VALUES:\n",
        "X_mean_val = prepare_X(df_val, fillna_value=mean)\n",
        "y_mean_pred_val = w_0_mean + X_mean_val.dot(w_mean)"
      ]
    },
    {
      "cell_type": "code",
      "execution_count": 23,
      "metadata": {
        "colab": {
          "base_uri": "https://localhost:8080/"
        },
        "id": "N_r9PQRGHxcp",
        "outputId": "476081b0-c324-453e-dde5-5383a4a9c379"
      },
      "outputs": [
        {
          "data": {
            "text/plain": [
              "0.33"
            ]
          },
          "execution_count": 23,
          "metadata": {},
          "output_type": "execute_result"
        }
      ],
      "source": [
        "#@ GETTING RMSE SCORE:\n",
        "np.round(rmse(y_val, y_mean_pred_val),2)"
      ]
    },
    {
      "cell_type": "code",
      "execution_count": 24,
      "metadata": {
        "id": "mXh34MibH3c-"
      },
      "outputs": [],
      "source": [
        "#@ PREPARIN DATASET:\n",
        "X_null_train = prepare_X(df_train, fillna_value=0)\n",
        "w_0_null, w_null = train_linear_regression(X_null_train, y_train)"
      ]
    },
    {
      "cell_type": "code",
      "execution_count": 25,
      "metadata": {
        "id": "H1o8ZcPpH-MY"
      },
      "outputs": [],
      "source": [
        "#@ PREPARING DATASET:\n",
        "X_null_val = prepare_X(df_val, fillna_value=0)\n",
        "y_null_pred_val = w_0_null + X_null_val.dot(w_null)"
      ]
    },
    {
      "cell_type": "code",
      "execution_count": 26,
      "metadata": {
        "colab": {
          "base_uri": "https://localhost:8080/"
        },
        "id": "z4X81LrYIJJY",
        "outputId": "c61d1c8b-b013-4e8c-f6fc-9bc9184b31bc"
      },
      "outputs": [
        {
          "data": {
            "text/plain": [
              "0.33"
            ]
          },
          "execution_count": 26,
          "metadata": {},
          "output_type": "execute_result"
        }
      ],
      "source": [
        "#@ GETTING RMSE SCORE:\n",
        "np.round(rmse(y_val, y_null_pred_val),2)"
      ]
    },
    {
      "cell_type": "markdown",
      "metadata": {
        "id": "yjx1upBOIaXQ"
      },
      "source": [
        "- Answer for Question 3: Both are equally good. "
      ]
    },
    {
      "cell_type": "markdown",
      "metadata": {
        "id": "iGS-whO0IgtR"
      },
      "source": [
        "**REGULARIZATION:**"
      ]
    },
    {
      "cell_type": "code",
      "execution_count": 27,
      "metadata": {
        "id": "y_SPeyMyIWv9"
      },
      "outputs": [],
      "source": [
        "#@ FUNCTION FOR TRAINING LINEAR REGRESSION:\n",
        "def train_linear_regression_reg(X, y, r=0.0):\n",
        "    ones = np.ones(X.shape[0])\n",
        "    X = np.column_stack([ones, X])\n",
        "\n",
        "    XTX = X.T.dot(X)\n",
        "    reg = r * np.eye(XTX.shape[0])\n",
        "    XTX = XTX + reg\n",
        "\n",
        "    XTX_inv = np.linalg.inv(XTX)\n",
        "    w = XTX_inv.dot(X.T).dot(y)\n",
        "    \n",
        "    return w[0], w[1:]"
      ]
    },
    {
      "cell_type": "code",
      "execution_count": 28,
      "metadata": {
        "colab": {
          "base_uri": "https://localhost:8080/"
        },
        "id": "zaIpundGItWc",
        "outputId": "1f37a174-d171-4852-c6a8-70549959c546"
      },
      "outputs": [
        {
          "name": "stdout",
          "output_type": "stream",
          "text": [
            "0 -11.686975242036546 0.33\n",
            "1e-06 -11.686959175728921 0.33\n",
            "0.0001 -11.685368865034667 0.33\n",
            "0.001 -11.670931317799797 0.33\n",
            "0.01 -11.528493585632091 0.33\n",
            "0.1 -10.274500282195673 0.33\n",
            "1 -4.920480897742212 0.33\n",
            "5 -1.482095745621172 0.34\n",
            "10 -0.7899311831779245 0.34\n"
          ]
        }
      ],
      "source": [
        "#@ INSPECTING THE RESULTS:\n",
        "for r in [0, 0.000001, 0.0001, 0.001, 0.01, 0.1, 1, 5, 10]:\n",
        "    w_0, w = train_linear_regression_reg(X_null_train, y_train, r=r)\n",
        "    y_null_reg_val = w_0 + X_null_val.dot(w)\n",
        "    rmse_val = np.round(rmse(y_val, y_null_reg_val),2)\n",
        "    print(r, w_0, rmse_val)"
      ]
    },
    {
      "cell_type": "markdown",
      "metadata": {
        "id": "8ENR1JlBJAd0"
      },
      "source": [
        "- Answer for Question 4 is 0."
      ]
    },
    {
      "cell_type": "markdown",
      "metadata": {
        "id": "KqorBbOsJGeD"
      },
      "source": [
        "**SEED CHECKING:**"
      ]
    },
    {
      "cell_type": "code",
      "execution_count": 29,
      "metadata": {
        "colab": {
          "base_uri": "https://localhost:8080/"
        },
        "id": "wuHhwt5gI0Xw",
        "outputId": "3e5a0d87-b178-4129-e2b7-8a5af7b4bb98"
      },
      "outputs": [
        {
          "name": "stdout",
          "output_type": "stream",
          "text": [
            "0 -11.900382138125133 0.34\n",
            "1 -11.732757372921618 0.34\n",
            "2 -11.806729361193014 0.33\n",
            "3 -11.587900347753235 0.34\n",
            "4 -11.38947058831824 0.34\n",
            "5 -11.447114275587968 0.34\n",
            "6 -11.370516351548385 0.35\n",
            "7 -12.47344891889502 0.34\n",
            "8 -11.800287429792748 0.35\n",
            "9 -11.459046830736924 0.34\n"
          ]
        }
      ],
      "source": [
        "#@ CHECKING THE RMSE SCORES:\n",
        "rmse_list = []\n",
        "\n",
        "for r in [0, 1, 2, 3, 4, 5, 6, 7, 8, 9]:\n",
        "\n",
        "    idx = np.arange(n)\n",
        "    np.random.seed(r)\n",
        "    np.random.shuffle(idx)\n",
        "\n",
        "    df_shuffled = data.iloc[idx]\n",
        "    \n",
        "    df_train = df_shuffled.iloc[:n_train].copy()\n",
        "    df_val = df_shuffled.iloc[n_train:n_train+n_val].copy()\n",
        "    df_test = df_shuffled.iloc[n_train+n_val:].copy()\n",
        "\n",
        "    df_train = df_train.reset_index(drop=True)\n",
        "    df_val = df_val.reset_index(drop=True)\n",
        "    df_test = df_test.reset_index(drop=True)\n",
        "    \n",
        "    y_train_orig = df_train.median_house_value.values\n",
        "    y_val_orig = df_val.median_house_value.values\n",
        "    y_test_orig = df_test.median_house_value.values\n",
        "\n",
        "    y_train = np.log1p(y_train_orig)\n",
        "    y_val = np.log1p(y_val_orig)\n",
        "    y_test = np.log1p(y_test_orig)\n",
        "    \n",
        "    del df_train['median_house_value']\n",
        "    del df_val['median_house_value']\n",
        "    del df_test['median_house_value']\n",
        "    \n",
        "    X_null_train = prepare_X(df_train, fillna_value=0)\n",
        "    w_0, w = train_linear_regression(X_null_train, y_train)\n",
        "    \n",
        "    X_null_val = prepare_X(df_val, fillna_value=0)\n",
        "    y_null_reg_val = w_0 + X_null_val.dot(w)\n",
        "    rmse_val = np.round(rmse(y_val, y_null_reg_val),2)\n",
        "    \n",
        "    rmse_list.append(rmse_val)\n",
        "    \n",
        "    print(r, w_0, rmse_val)"
      ]
    },
    {
      "cell_type": "code",
      "execution_count": 30,
      "metadata": {
        "colab": {
          "base_uri": "https://localhost:8080/"
        },
        "id": "GumoEItZJuL5",
        "outputId": "a1e0c55c-1f4b-41a5-8963-86091788d570"
      },
      "outputs": [
        {
          "data": {
            "text/plain": [
              "[0.34, 0.34, 0.33, 0.34, 0.34, 0.34, 0.35, 0.34, 0.35, 0.34]"
            ]
          },
          "execution_count": 30,
          "metadata": {},
          "output_type": "execute_result"
        }
      ],
      "source": [
        "#@ INSPECTING THE RMSE LIST:\n",
        "rmse_list"
      ]
    },
    {
      "cell_type": "code",
      "execution_count": 31,
      "metadata": {
        "colab": {
          "base_uri": "https://localhost:8080/"
        },
        "id": "tOnf52uTJ0SA",
        "outputId": "651f32da-a721-40ec-df76-634ef0b7e287"
      },
      "outputs": [
        {
          "data": {
            "text/plain": [
              "0.005"
            ]
          },
          "execution_count": 31,
          "metadata": {},
          "output_type": "execute_result"
        }
      ],
      "source": [
        "#@ INSPECTING THE RMSE:\n",
        "np.round(np.std(rmse_list),3)"
      ]
    },
    {
      "cell_type": "markdown",
      "metadata": {
        "id": "zfPe-g-MM7M-"
      },
      "source": [
        "- Answer for Question 5 is 0.005."
      ]
    },
    {
      "cell_type": "markdown",
      "metadata": {
        "id": "cNo8umsEJ9kz"
      },
      "source": [
        "**SEED AND REGULARIZATION:**"
      ]
    },
    {
      "cell_type": "code",
      "execution_count": 32,
      "metadata": {
        "id": "0jLYwSnHJ7dB"
      },
      "outputs": [],
      "source": [
        "#@ INITIALIZING SEED AND REGULARIZATION:\n",
        "r = 9\n",
        "\n",
        "idx = np.arange(n)\n",
        "np.random.seed(r)\n",
        "np.random.shuffle(idx)\n",
        "\n",
        "df_shuffled = data.iloc[idx]\n",
        "    \n",
        "df_train = df_shuffled.iloc[:n_train].copy()\n",
        "df_val = df_shuffled.iloc[n_train:n_train+n_val].copy()\n",
        "df_test = df_shuffled.iloc[n_train+n_val:].copy()\n",
        "\n",
        "frames = [df_train, df_val]\n",
        "df_train_val = pd.concat(frames)\n",
        "\n",
        "df_train_val = df_train_val.reset_index(drop=True)\n",
        "df_test = df_test.reset_index(drop=True)\n",
        "\n",
        "y_train_val_orig = df_train_val.median_house_value.values\n",
        "y_test_orig = df_test.median_house_value.values\n",
        "\n",
        "y_train_val = np.log1p(y_train_val_orig)\n",
        "y_test = np.log1p(y_test_orig)\n",
        "\n",
        "del df_train_val['median_house_value']\n",
        "del df_test['median_house_value']"
      ]
    },
    {
      "cell_type": "code",
      "execution_count": 33,
      "metadata": {
        "colab": {
          "base_uri": "https://localhost:8080/"
        },
        "id": "Z9JWRUMIKVXw",
        "outputId": "4204609f-18f4-4d9e-c160-f4b1d5278e54"
      },
      "outputs": [
        {
          "data": {
            "text/plain": [
              "0.35"
            ]
          },
          "execution_count": 33,
          "metadata": {},
          "output_type": "execute_result"
        }
      ],
      "source": [
        "#@ INSPECTING RMSE:\n",
        "X_null_train_val = prepare_X(df_train_val, fillna_value=0)\n",
        "w_0_train_val, w_train_val = train_linear_regression_reg(X_null_train_val, y_train_val, r=0.001)\n",
        "\n",
        "X_null_test = prepare_X(df_test, fillna_value=0)\n",
        "y_null_pred_test = w_0_train_val + X_null_test.dot(w_train_val)\n",
        "\n",
        "np.round(rmse(y_test, y_null_pred_test),2)"
      ]
    },
    {
      "cell_type": "markdown",
      "metadata": {
        "id": "7V9Bi9vZKeEU"
      },
      "source": [
        "- Answer for Question 6 is 0.35."
      ]
    }
  ],
  "metadata": {
    "colab": {
      "provenance": []
    },
    "kernelspec": {
      "display_name": "Python 3.8.13 ('chatbot')",
      "language": "python",
      "name": "python3"
    },
    "language_info": {
      "name": "python",
      "version": "3.8.13"
    },
    "vscode": {
      "interpreter": {
        "hash": "4cbf2951cde2f569b578b1df868513fa15c696ba1c73b34f313a3fcf610bb9ca"
      }
    }
  },
  "nbformat": 4,
  "nbformat_minor": 0
}
