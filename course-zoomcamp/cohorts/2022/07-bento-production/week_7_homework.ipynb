{
 "cells": [
  {
   "cell_type": "markdown",
   "id": "65f88458",
   "metadata": {},
   "source": [
    "## Homework\n",
    "\n",
    "> Note: sometimes your answer might not match one of the options exactly. That's fine. \n",
    "Select the option that's closest to your solution.\n",
    "\n",
    "The goal of this homework is to familiarize you with BentoML and how to build and test an ML production service.\n",
    "\n",
    "## Background\n",
    "\n",
    "You are a new recruit at ACME corp. Your manager is emailing you about your first assignment.\n",
    "\n",
    "\n",
    "## Email from your manager\n",
    "\n",
    "Good morning recruit! It's good to have you here! I have an assignment for you. I have a data scientist that's built\n",
    "a credit risk model in a jupyter notebook. I need you to run the notebook and save the model with BentoML and see\n",
    "how big the model is. If it's greater than a certain size, I'm going to have to request additional resources from \n",
    "our infra team. Please let me know how big it is.\n",
    "\n",
    "Thanks,\n",
    "\n",
    "Mr McManager\n",
    "\n",
    "\n",
    "## Question 1\n",
    "\n",
    "* Install BentoML\n",
    "* What's the version of BentoML you installed?\n",
    "* Use `--version` to find out"
   ]
  },
  {
   "cell_type": "code",
   "execution_count": 1,
   "id": "c7133c94",
   "metadata": {},
   "outputs": [
    {
     "name": "stdout",
     "output_type": "stream",
     "text": [
      "bentoml, version 1.0.7\r\n"
     ]
    }
   ],
   "source": [
    "!bentoml --version"
   ]
  },
  {
   "cell_type": "markdown",
   "id": "873eb8a6",
   "metadata": {},
   "source": [
    "## Question 2\n",
    "\n",
    "Run the notebook from module 6 and save the credit risk model with BentoML\n",
    "\n",
    "How big approximately is the saved BentoML model?\n",
    "\n",
    "* 924kb\n",
    "* 724kb\n",
    "* 114kb\n",
    "* 8kb"
   ]
  },
  {
   "cell_type": "code",
   "execution_count": 11,
   "id": "546c320b",
   "metadata": {},
   "outputs": [],
   "source": [
    "import pandas as pd\n",
    "import numpy as np\n",
    "\n",
    "from sklearn.model_selection import train_test_split\n",
    "from sklearn.feature_extraction import DictVectorizer\n",
    "import xgboost as xgb\n",
    "import bentoml"
   ]
  },
  {
   "cell_type": "code",
   "execution_count": 3,
   "id": "fa0def21",
   "metadata": {},
   "outputs": [],
   "source": [
    "data = 'https://raw.githubusercontent.com/alexeygrigorev/mlbookcamp-code/master/chapter-06-trees/CreditScoring.csv'"
   ]
  },
  {
   "cell_type": "code",
   "execution_count": 4,
   "id": "5066fc1f",
   "metadata": {},
   "outputs": [
    {
     "data": {
      "text/html": [
       "<div>\n",
       "<style scoped>\n",
       "    .dataframe tbody tr th:only-of-type {\n",
       "        vertical-align: middle;\n",
       "    }\n",
       "\n",
       "    .dataframe tbody tr th {\n",
       "        vertical-align: top;\n",
       "    }\n",
       "\n",
       "    .dataframe thead th {\n",
       "        text-align: right;\n",
       "    }\n",
       "</style>\n",
       "<table border=\"1\" class=\"dataframe\">\n",
       "  <thead>\n",
       "    <tr style=\"text-align: right;\">\n",
       "      <th></th>\n",
       "      <th>Status</th>\n",
       "      <th>Seniority</th>\n",
       "      <th>Home</th>\n",
       "      <th>Time</th>\n",
       "      <th>Age</th>\n",
       "      <th>Marital</th>\n",
       "      <th>Records</th>\n",
       "      <th>Job</th>\n",
       "      <th>Expenses</th>\n",
       "      <th>Income</th>\n",
       "      <th>Assets</th>\n",
       "      <th>Debt</th>\n",
       "      <th>Amount</th>\n",
       "      <th>Price</th>\n",
       "    </tr>\n",
       "  </thead>\n",
       "  <tbody>\n",
       "    <tr>\n",
       "      <th>0</th>\n",
       "      <td>1</td>\n",
       "      <td>9</td>\n",
       "      <td>1</td>\n",
       "      <td>60</td>\n",
       "      <td>30</td>\n",
       "      <td>2</td>\n",
       "      <td>1</td>\n",
       "      <td>3</td>\n",
       "      <td>73</td>\n",
       "      <td>129</td>\n",
       "      <td>0</td>\n",
       "      <td>0</td>\n",
       "      <td>800</td>\n",
       "      <td>846</td>\n",
       "    </tr>\n",
       "    <tr>\n",
       "      <th>1</th>\n",
       "      <td>1</td>\n",
       "      <td>17</td>\n",
       "      <td>1</td>\n",
       "      <td>60</td>\n",
       "      <td>58</td>\n",
       "      <td>3</td>\n",
       "      <td>1</td>\n",
       "      <td>1</td>\n",
       "      <td>48</td>\n",
       "      <td>131</td>\n",
       "      <td>0</td>\n",
       "      <td>0</td>\n",
       "      <td>1000</td>\n",
       "      <td>1658</td>\n",
       "    </tr>\n",
       "    <tr>\n",
       "      <th>2</th>\n",
       "      <td>2</td>\n",
       "      <td>10</td>\n",
       "      <td>2</td>\n",
       "      <td>36</td>\n",
       "      <td>46</td>\n",
       "      <td>2</td>\n",
       "      <td>2</td>\n",
       "      <td>3</td>\n",
       "      <td>90</td>\n",
       "      <td>200</td>\n",
       "      <td>3000</td>\n",
       "      <td>0</td>\n",
       "      <td>2000</td>\n",
       "      <td>2985</td>\n",
       "    </tr>\n",
       "    <tr>\n",
       "      <th>3</th>\n",
       "      <td>1</td>\n",
       "      <td>0</td>\n",
       "      <td>1</td>\n",
       "      <td>60</td>\n",
       "      <td>24</td>\n",
       "      <td>1</td>\n",
       "      <td>1</td>\n",
       "      <td>1</td>\n",
       "      <td>63</td>\n",
       "      <td>182</td>\n",
       "      <td>2500</td>\n",
       "      <td>0</td>\n",
       "      <td>900</td>\n",
       "      <td>1325</td>\n",
       "    </tr>\n",
       "    <tr>\n",
       "      <th>4</th>\n",
       "      <td>1</td>\n",
       "      <td>0</td>\n",
       "      <td>1</td>\n",
       "      <td>36</td>\n",
       "      <td>26</td>\n",
       "      <td>1</td>\n",
       "      <td>1</td>\n",
       "      <td>1</td>\n",
       "      <td>46</td>\n",
       "      <td>107</td>\n",
       "      <td>0</td>\n",
       "      <td>0</td>\n",
       "      <td>310</td>\n",
       "      <td>910</td>\n",
       "    </tr>\n",
       "  </tbody>\n",
       "</table>\n",
       "</div>"
      ],
      "text/plain": [
       "   Status  Seniority  Home  Time  Age  Marital  Records  Job  Expenses  \\\n",
       "0       1          9     1    60   30        2        1    3        73   \n",
       "1       1         17     1    60   58        3        1    1        48   \n",
       "2       2         10     2    36   46        2        2    3        90   \n",
       "3       1          0     1    60   24        1        1    1        63   \n",
       "4       1          0     1    36   26        1        1    1        46   \n",
       "\n",
       "   Income  Assets  Debt  Amount  Price  \n",
       "0     129       0     0     800    846  \n",
       "1     131       0     0    1000   1658  \n",
       "2     200    3000     0    2000   2985  \n",
       "3     182    2500     0     900   1325  \n",
       "4     107       0     0     310    910  "
      ]
     },
     "execution_count": 4,
     "metadata": {},
     "output_type": "execute_result"
    }
   ],
   "source": [
    "df  = pd.read_csv(data)\n",
    "df.head()"
   ]
  },
  {
   "cell_type": "code",
   "execution_count": 5,
   "id": "3829f709",
   "metadata": {},
   "outputs": [],
   "source": [
    "df.columns = df.columns.str.lower()\n",
    "\n",
    "status_values = {\n",
    "    1: 'ok',\n",
    "    2: 'default',\n",
    "    0: 'unk'\n",
    "}\n",
    "\n",
    "df.status = df.status.map(status_values)\n",
    "\n",
    "home_values = {\n",
    "    1: 'rent',\n",
    "    2: 'owner',\n",
    "    3: 'private',\n",
    "    4: 'ignore',\n",
    "    5: 'parents',\n",
    "    6: 'other',\n",
    "    0: 'unk'\n",
    "}\n",
    "\n",
    "df.home = df.home.map(home_values)\n",
    "\n",
    "marital_values = {\n",
    "    1: 'single',\n",
    "    2: 'married',\n",
    "    3: 'widow',\n",
    "    4: 'separated',\n",
    "    5: 'divorced',\n",
    "    0: 'unk'\n",
    "}\n",
    "\n",
    "df.marital = df.marital.map(marital_values)\n",
    "\n",
    "records_values = {\n",
    "    1: 'no',\n",
    "    2: 'yes',\n",
    "    0: 'unk'\n",
    "}\n",
    "\n",
    "df.records = df.records.map(records_values)\n",
    "\n",
    "job_values = {\n",
    "    1: 'fixed',\n",
    "    2: 'partime',\n",
    "    3: 'freelance',\n",
    "    4: 'others',\n",
    "    0: 'unk'\n",
    "}\n",
    "\n",
    "df.job = df.job.map(job_values)\n",
    "\n",
    "for c in ['income', 'assets', 'debt']:\n",
    "    df[c] = df[c].replace(to_replace=99999999, value=np.nan)\n",
    "\n",
    "df = df[df.status != 'unk'].reset_index(drop=True)"
   ]
  },
  {
   "cell_type": "code",
   "execution_count": 9,
   "id": "5b92b271",
   "metadata": {},
   "outputs": [],
   "source": [
    "df_train, df_test = train_test_split(df, test_size=0.2, random_state=11)\n",
    "\n",
    "df_train = df_train.reset_index(drop=True)\n",
    "df_test = df_test.reset_index(drop=True)\n",
    "\n",
    "y_train = (df_train.status == 'default').astype('int').values\n",
    "y_test = (df_test.status == 'default').astype('int').values\n",
    "\n",
    "del df_train['status']\n",
    "del df_test['status']"
   ]
  },
  {
   "cell_type": "code",
   "execution_count": 10,
   "id": "ad400b79",
   "metadata": {},
   "outputs": [],
   "source": [
    "dv = DictVectorizer(sparse=False)\n",
    "\n",
    "train_dicts = df_train.fillna(0).to_dict(orient='records')\n",
    "X_train = dv.fit_transform(train_dicts)\n",
    "\n",
    "test_dicts = df_test.fillna(0).to_dict(orient='records')\n",
    "X_test = dv.transform(test_dicts)"
   ]
  },
  {
   "cell_type": "code",
   "execution_count": 13,
   "id": "8062ed74",
   "metadata": {},
   "outputs": [],
   "source": [
    "dtrain = xgb.DMatrix(X_train, label=y_train)\n",
    "\n",
    "xgb_params = {\n",
    "    'eta': 0.1, \n",
    "    'max_depth': 3,\n",
    "    'min_child_weight': 1,\n",
    "\n",
    "    'objective': 'binary:logistic',\n",
    "    'eval_metric': 'auc',\n",
    "\n",
    "    'nthread': 8,\n",
    "    'seed': 1,\n",
    "    'verbosity': 1,\n",
    "}\n",
    "\n",
    "model = xgb.train(xgb_params, dtrain, num_boost_round=175)"
   ]
  },
  {
   "cell_type": "code",
   "execution_count": 14,
   "id": "f7d68144",
   "metadata": {},
   "outputs": [
    {
     "data": {
      "text/plain": [
       "Model(tag=\"credit_risk_model:ssuzyxsokktyhchj\", path=\"/Users/patrickwalukagga/bentoml/models/credit_risk_model/ssuzyxsokktyhchj/\")"
      ]
     },
     "execution_count": 14,
     "metadata": {},
     "output_type": "execute_result"
    }
   ],
   "source": [
    "bentoml.xgboost.save_model(\n",
    "    'credit_risk_model',\n",
    "    model,\n",
    "    custom_objects={\n",
    "        'dictVectorizer': dv\n",
    "    },\n",
    ")"
   ]
  },
  {
   "cell_type": "code",
   "execution_count": 15,
   "id": "2449a20b",
   "metadata": {},
   "outputs": [
    {
     "name": "stdout",
     "output_type": "stream",
     "text": [
      "\u001b[1m \u001b[0m\u001b[1mTag                         \u001b[0m\u001b[1m \u001b[0m\u001b[1m \u001b[0m\u001b[1mModule         \u001b[0m\u001b[1m \u001b[0m\u001b[1m \u001b[0m\u001b[1mSize      \u001b[0m\u001b[1m \u001b[0m\u001b[1m \u001b[0m\u001b[1mCreation Time      \u001b[0m\u001b[1m \u001b[0m\r\n",
      " credit_risk_model:ssuzyxsok…  bentoml.xgboost  197.77 KiB  2022-10-17 22:33:30 \r\n",
      " credit_risk_model:ftxkumcog…  bentoml.xgboost  197.80 KiB  2022-10-17 19:10:10 \r\n",
      " credit_risk_model:tdssyfcod…  bentoml.xgboost  197.77 KiB  2022-10-17 16:14:14 \r\n"
     ]
    }
   ],
   "source": [
    "!bentoml models list"
   ]
  },
  {
   "cell_type": "code",
   "execution_count": 16,
   "id": "72aa15e6",
   "metadata": {},
   "outputs": [
    {
     "name": "stdout",
     "output_type": "stream",
     "text": [
      "\u001b[38;2;249;38;114;48;2;39;40;34mname\u001b[0m\u001b[38;2;248;248;242;48;2;39;40;34m:\u001b[0m\u001b[38;2;248;248;242;48;2;39;40;34m \u001b[0m\u001b[48;2;39;40;34mcredit_risk_model\u001b[0m\u001b[48;2;39;40;34m                                                         \u001b[0m\r\n",
      "\u001b[38;2;249;38;114;48;2;39;40;34mversion\u001b[0m\u001b[38;2;248;248;242;48;2;39;40;34m:\u001b[0m\u001b[38;2;248;248;242;48;2;39;40;34m \u001b[0m\u001b[48;2;39;40;34mssuzyxsokktyhchj\u001b[0m\u001b[48;2;39;40;34m                                                       \u001b[0m\r\n",
      "\u001b[38;2;249;38;114;48;2;39;40;34mmodule\u001b[0m\u001b[38;2;248;248;242;48;2;39;40;34m:\u001b[0m\u001b[38;2;248;248;242;48;2;39;40;34m \u001b[0m\u001b[48;2;39;40;34mbentoml.xgboost\u001b[0m\u001b[48;2;39;40;34m                                                         \u001b[0m\r\n",
      "\u001b[38;2;249;38;114;48;2;39;40;34mlabels\u001b[0m\u001b[38;2;248;248;242;48;2;39;40;34m:\u001b[0m\u001b[38;2;248;248;242;48;2;39;40;34m \u001b[0m\u001b[48;2;39;40;34m{\u001b[0m\u001b[48;2;39;40;34m}\u001b[0m\u001b[48;2;39;40;34m                                                                      \u001b[0m\r\n",
      "\u001b[38;2;249;38;114;48;2;39;40;34moptions\u001b[0m\u001b[38;2;248;248;242;48;2;39;40;34m:\u001b[0m\u001b[48;2;39;40;34m                                                                        \u001b[0m\r\n",
      "\u001b[38;2;248;248;242;48;2;39;40;34m  \u001b[0m\u001b[38;2;249;38;114;48;2;39;40;34mmodel_class\u001b[0m\u001b[38;2;248;248;242;48;2;39;40;34m:\u001b[0m\u001b[38;2;248;248;242;48;2;39;40;34m \u001b[0m\u001b[48;2;39;40;34mBooster\u001b[0m\u001b[48;2;39;40;34m                                                          \u001b[0m\r\n",
      "\u001b[38;2;249;38;114;48;2;39;40;34mmetadata\u001b[0m\u001b[38;2;248;248;242;48;2;39;40;34m:\u001b[0m\u001b[38;2;248;248;242;48;2;39;40;34m \u001b[0m\u001b[48;2;39;40;34m{\u001b[0m\u001b[48;2;39;40;34m}\u001b[0m\u001b[48;2;39;40;34m                                                                    \u001b[0m\r\n",
      "\u001b[38;2;249;38;114;48;2;39;40;34mcontext\u001b[0m\u001b[38;2;248;248;242;48;2;39;40;34m:\u001b[0m\u001b[48;2;39;40;34m                                                                        \u001b[0m\r\n",
      "\u001b[38;2;248;248;242;48;2;39;40;34m  \u001b[0m\u001b[38;2;249;38;114;48;2;39;40;34mframework_name\u001b[0m\u001b[38;2;248;248;242;48;2;39;40;34m:\u001b[0m\u001b[38;2;248;248;242;48;2;39;40;34m \u001b[0m\u001b[48;2;39;40;34mxgboost\u001b[0m\u001b[48;2;39;40;34m                                                       \u001b[0m\r\n",
      "\u001b[38;2;248;248;242;48;2;39;40;34m  \u001b[0m\u001b[38;2;249;38;114;48;2;39;40;34mframework_versions\u001b[0m\u001b[38;2;248;248;242;48;2;39;40;34m:\u001b[0m\u001b[48;2;39;40;34m                                                           \u001b[0m\r\n",
      "\u001b[38;2;248;248;242;48;2;39;40;34m    \u001b[0m\u001b[38;2;249;38;114;48;2;39;40;34mxgboost\u001b[0m\u001b[38;2;248;248;242;48;2;39;40;34m:\u001b[0m\u001b[38;2;248;248;242;48;2;39;40;34m \u001b[0m\u001b[48;2;39;40;34m1.6.2\u001b[0m\u001b[48;2;39;40;34m                                                              \u001b[0m\r\n",
      "\u001b[38;2;248;248;242;48;2;39;40;34m  \u001b[0m\u001b[38;2;249;38;114;48;2;39;40;34mbentoml_version\u001b[0m\u001b[38;2;248;248;242;48;2;39;40;34m:\u001b[0m\u001b[38;2;248;248;242;48;2;39;40;34m \u001b[0m\u001b[48;2;39;40;34m1.0.7\u001b[0m\u001b[48;2;39;40;34m                                                        \u001b[0m\r\n",
      "\u001b[38;2;248;248;242;48;2;39;40;34m  \u001b[0m\u001b[38;2;249;38;114;48;2;39;40;34mpython_version\u001b[0m\u001b[38;2;248;248;242;48;2;39;40;34m:\u001b[0m\u001b[38;2;248;248;242;48;2;39;40;34m \u001b[0m\u001b[48;2;39;40;34m3.9.13\u001b[0m\u001b[48;2;39;40;34m                                                        \u001b[0m\r\n",
      "\u001b[38;2;249;38;114;48;2;39;40;34msignatures\u001b[0m\u001b[38;2;248;248;242;48;2;39;40;34m:\u001b[0m\u001b[48;2;39;40;34m                                                                     \u001b[0m\r\n",
      "\u001b[38;2;248;248;242;48;2;39;40;34m  \u001b[0m\u001b[38;2;249;38;114;48;2;39;40;34mpredict\u001b[0m\u001b[38;2;248;248;242;48;2;39;40;34m:\u001b[0m\u001b[48;2;39;40;34m                                                                      \u001b[0m\r\n",
      "\u001b[38;2;248;248;242;48;2;39;40;34m    \u001b[0m\u001b[38;2;249;38;114;48;2;39;40;34mbatchable\u001b[0m\u001b[38;2;248;248;242;48;2;39;40;34m:\u001b[0m\u001b[38;2;248;248;242;48;2;39;40;34m \u001b[0m\u001b[48;2;39;40;34mfalse\u001b[0m\u001b[48;2;39;40;34m                                                            \u001b[0m\r\n",
      "\u001b[38;2;249;38;114;48;2;39;40;34mapi_version\u001b[0m\u001b[38;2;248;248;242;48;2;39;40;34m:\u001b[0m\u001b[38;2;248;248;242;48;2;39;40;34m \u001b[0m\u001b[48;2;39;40;34mv2\u001b[0m\u001b[48;2;39;40;34m                                                                 \u001b[0m\r\n",
      "\u001b[38;2;249;38;114;48;2;39;40;34mcreation_time\u001b[0m\u001b[38;2;248;248;242;48;2;39;40;34m:\u001b[0m\u001b[38;2;248;248;242;48;2;39;40;34m \u001b[0m\u001b[38;2;230;219;116;48;2;39;40;34m'\u001b[0m\u001b[38;2;230;219;116;48;2;39;40;34m2022-10-17T19:33:30.679667+00:00\u001b[0m\u001b[38;2;230;219;116;48;2;39;40;34m'\u001b[0m\u001b[48;2;39;40;34m                               \u001b[0m\r\n",
      "\u001b[48;2;39;40;34m                                                                                \u001b[0m\r\n"
     ]
    }
   ],
   "source": [
    "!bentoml models get credit_risk_model:ssuzyxsokktyhchj"
   ]
  },
  {
   "cell_type": "code",
   "execution_count": 17,
   "id": "ffca5c8f",
   "metadata": {},
   "outputs": [
    {
     "name": "stdout",
     "output_type": "stream",
     "text": [
      "\u001b[1m{\u001b[0m\r\n",
      "  \u001b[1;34m\"name\"\u001b[0m: \u001b[32m\"credit_risk_model\"\u001b[0m,\r\n",
      "  \u001b[1;34m\"version\"\u001b[0m: \u001b[32m\"ssuzyxsokktyhchj\"\u001b[0m,\r\n",
      "  \u001b[1;34m\"module\"\u001b[0m: \u001b[32m\"bentoml.xgboost\"\u001b[0m,\r\n",
      "  \u001b[1;34m\"labels\"\u001b[0m: \u001b[1m{\u001b[0m\u001b[1m}\u001b[0m,\r\n",
      "  \u001b[1;34m\"options\"\u001b[0m: \u001b[1m{\u001b[0m\r\n",
      "    \u001b[1;34m\"model_class\"\u001b[0m: \u001b[32m\"Booster\"\u001b[0m\r\n",
      "  \u001b[1m}\u001b[0m,\r\n",
      "  \u001b[1;34m\"metadata\"\u001b[0m: \u001b[1m{\u001b[0m\u001b[1m}\u001b[0m,\r\n",
      "  \u001b[1;34m\"context\"\u001b[0m: \u001b[1m{\u001b[0m\r\n",
      "    \u001b[1;34m\"framework_name\"\u001b[0m: \u001b[32m\"xgboost\"\u001b[0m,\r\n",
      "    \u001b[1;34m\"framework_versions\"\u001b[0m: \u001b[1m{\u001b[0m\r\n",
      "      \u001b[1;34m\"xgboost\"\u001b[0m: \u001b[32m\"1.6.2\"\u001b[0m\r\n",
      "    \u001b[1m}\u001b[0m,\r\n",
      "    \u001b[1;34m\"bentoml_version\"\u001b[0m: \u001b[32m\"1.0.7\"\u001b[0m,\r\n",
      "    \u001b[1;34m\"python_version\"\u001b[0m: \u001b[32m\"3.9.13\"\u001b[0m\r\n",
      "  \u001b[1m}\u001b[0m,\r\n",
      "  \u001b[1;34m\"signatures\"\u001b[0m: \u001b[1m{\u001b[0m\r\n",
      "    \u001b[1;34m\"predict\"\u001b[0m: \u001b[1m{\u001b[0m\r\n",
      "      \u001b[1;34m\"batchable\"\u001b[0m: \u001b[3;91mfalse\u001b[0m\r\n",
      "    \u001b[1m}\u001b[0m\r\n",
      "  \u001b[1m}\u001b[0m,\r\n",
      "  \u001b[1;34m\"api_version\"\u001b[0m: \u001b[32m\"v2\"\u001b[0m,\r\n",
      "  \u001b[1;34m\"creation_time\"\u001b[0m: \u001b[32m\"2022-10-17T19:33:30.679667+00:00\"\u001b[0m\r\n",
      "\u001b[1m}\u001b[0m\r\n"
     ]
    }
   ],
   "source": [
    "!bentoml models get credit_risk_model:ssuzyxsokktyhchj --output=json"
   ]
  },
  {
   "cell_type": "markdown",
   "id": "baacc932",
   "metadata": {},
   "source": [
    "## Another email from your manager\n",
    "\n",
    "Great job recruit! Looks like I won't be having to go back to the procurement team. Thanks for the information.\n",
    "\n",
    "However, I just got word from one of the teams that's using one of our ML services and they're saying our service is \"broken\"\n",
    "and their trying to blame our model. I looked at the data their sending and it's completely bogus. I don't want them\n",
    "to send bad data to us and blame us for our models. Could you write a pydantic schema for the data that they should be sending?\n",
    "That way next time it will tell them it's their data that's bad and not our model.\n",
    "\n",
    "Thanks,\n",
    "\n",
    "Mr McManager\n",
    "\n",
    "## Question 3\n",
    "\n",
    "Say you have the following data that you're sending to your service:\n",
    "\n",
    "```json\n",
    "{\n",
    "  \"name\": \"Tim\",\n",
    "  \"age\": 37,\n",
    "  \"country\": \"US\",\n",
    "  \"rating\": 3.14\n",
    "}\n",
    "```"
   ]
  },
  {
   "cell_type": "code",
   "execution_count": 32,
   "id": "04b066bb",
   "metadata": {},
   "outputs": [
    {
     "name": "stdout",
     "output_type": "stream",
     "text": [
      "import numpy as np\r\n",
      "\r\n",
      "import bentoml\r\n",
      "from bentoml.io import JSON\r\n",
      "from pydantic import BaseModel\r\n",
      "\r\n",
      "\r\n",
      "class CreditApplication(BaseModel):\r\n",
      "    \"\"\"Pydantic schema for the data being sent\r\n",
      "\r\n",
      "    {\r\n",
      "        \"name\": \"Tim\",\r\n",
      "        \"age\": 37,\r\n",
      "        \"country\": \"US\",\r\n",
      "        \"rating\": 3.14\r\n",
      "    }\r\n",
      "    \"\"\"\r\n",
      "    name: str\r\n",
      "    age: int\r\n",
      "    country: str\r\n",
      "    rating: float\r\n"
     ]
    }
   ],
   "source": [
    "!cat service.py"
   ]
  },
  {
   "cell_type": "markdown",
   "id": "1df5d889",
   "metadata": {},
   "source": [
    "## Email from your CEO\n",
    "\n",
    "Good morning! I hear you're the one to go to if I need something done well! We've got a new model that a big client\n",
    "needs deployed ASAP. I need you to build a service with it and test it against the old model and make sure that it performs\n",
    "better, otherwise we're going to lose this client. All our hopes are with you!\n",
    "\n",
    "Thanks,\n",
    "\n",
    "CEO of Acme Corp\n",
    "\n",
    "## Question 4\n",
    "\n",
    "We've prepared a model for you that you can import using:\n",
    "\n",
    "```bash\n",
    "curl -O https://s3.us-west-2.amazonaws.com/bentoml.com/mlzoomcamp/coolmodel.bentomodel\n",
    "bentoml models import coolmodel.bentomodel\n",
    "```\n",
    "\n",
    "What version of scikit-learn was this model trained with?\n",
    "\n",
    "* 1.1.1\n",
    "* 1.1.2\n",
    "* 1.1.3\n",
    "* 1.1.4\n",
    "* 1.1.5"
   ]
  },
  {
   "cell_type": "code",
   "execution_count": 18,
   "id": "dc9d697f",
   "metadata": {},
   "outputs": [
    {
     "name": "stdout",
     "output_type": "stream",
     "text": [
      "  % Total    % Received % Xferd  Average Speed   Time    Time     Time  Current\n",
      "                                 Dload  Upload   Total   Spent    Left  Speed\n",
      "100  1724  100  1724    0     0    940      0  0:00:01  0:00:01 --:--:--   940\n"
     ]
    }
   ],
   "source": [
    "!curl -O https://s3.us-west-2.amazonaws.com/bentoml.com/mlzoomcamp/coolmodel.bentomodel"
   ]
  },
  {
   "cell_type": "code",
   "execution_count": 19,
   "id": "fc0bda8e",
   "metadata": {},
   "outputs": [
    {
     "name": "stdout",
     "output_type": "stream",
     "text": [
      "Model(tag=\"mlzoomcamp_homework:qtzdz3slg6mwwdu5\") imported\r\n"
     ]
    }
   ],
   "source": [
    "!bentoml models import coolmodel.bentomodel"
   ]
  },
  {
   "cell_type": "code",
   "execution_count": 20,
   "id": "77ca533e",
   "metadata": {},
   "outputs": [
    {
     "name": "stdout",
     "output_type": "stream",
     "text": [
      "\u001b[1m{\u001b[0m\r\n",
      "  \u001b[1;34m\"name\"\u001b[0m: \u001b[32m\"mlzoomcamp_homework\"\u001b[0m,\r\n",
      "  \u001b[1;34m\"version\"\u001b[0m: \u001b[32m\"qtzdz3slg6mwwdu5\"\u001b[0m,\r\n",
      "  \u001b[1;34m\"module\"\u001b[0m: \u001b[32m\"bentoml.sklearn\"\u001b[0m,\r\n",
      "  \u001b[1;34m\"labels\"\u001b[0m: \u001b[1m{\u001b[0m\u001b[1m}\u001b[0m,\r\n",
      "  \u001b[1;34m\"options\"\u001b[0m: \u001b[1m{\u001b[0m\u001b[1m}\u001b[0m,\r\n",
      "  \u001b[1;34m\"metadata\"\u001b[0m: \u001b[1m{\u001b[0m\u001b[1m}\u001b[0m,\r\n",
      "  \u001b[1;34m\"context\"\u001b[0m: \u001b[1m{\u001b[0m\r\n",
      "    \u001b[1;34m\"framework_name\"\u001b[0m: \u001b[32m\"sklearn\"\u001b[0m,\r\n",
      "    \u001b[1;34m\"framework_versions\"\u001b[0m: \u001b[1m{\u001b[0m\r\n",
      "      \u001b[1;34m\"scikit-learn\"\u001b[0m: \u001b[32m\"1.1.1\"\u001b[0m\r\n",
      "    \u001b[1m}\u001b[0m,\r\n",
      "    \u001b[1;34m\"bentoml_version\"\u001b[0m: \u001b[32m\"1.0.7\"\u001b[0m,\r\n",
      "    \u001b[1;34m\"python_version\"\u001b[0m: \u001b[32m\"3.9.12\"\u001b[0m\r\n",
      "  \u001b[1m}\u001b[0m,\r\n",
      "  \u001b[1;34m\"signatures\"\u001b[0m: \u001b[1m{\u001b[0m\r\n",
      "    \u001b[1;34m\"predict\"\u001b[0m: \u001b[1m{\u001b[0m\r\n",
      "      \u001b[1;34m\"batchable\"\u001b[0m: \u001b[3;91mfalse\u001b[0m\r\n",
      "    \u001b[1m}\u001b[0m\r\n",
      "  \u001b[1m}\u001b[0m,\r\n",
      "  \u001b[1;34m\"api_version\"\u001b[0m: \u001b[32m\"v1\"\u001b[0m,\r\n",
      "  \u001b[1;34m\"creation_time\"\u001b[0m: \u001b[32m\"2022-10-13T20:42:14.411084+00:00\"\u001b[0m\r\n",
      "\u001b[1m}\u001b[0m\r\n"
     ]
    }
   ],
   "source": [
    "!bentoml models get mlzoomcamp_homework:qtzdz3slg6mwwdu5 --output=json"
   ]
  },
  {
   "cell_type": "markdown",
   "id": "f82a2ac2",
   "metadata": {},
   "source": [
    "## Question 5 \n",
    "\n",
    "Create a bento out of this scikit-learn model. This will require installing scikit-learn like this:\n",
    "```bash\n",
    "pip install scikit-learn\n",
    "```\n",
    "\n",
    "Hint: The output type for this endpoint should be NumpyNdarray()\n",
    "\n",
    "Send this array to the bento:\n",
    "\n",
    "```\n",
    "[[6.4,3.5,4.5,1.2]]\n",
    "```\n",
    "\n",
    "You can use curl or the Swagger UI. What value does it return? \n",
    "\n",
    "* 0\n",
    "* 1\n",
    "* 2\n",
    "* 3"
   ]
  },
  {
   "cell_type": "markdown",
   "id": "98687548",
   "metadata": {},
   "source": [
    "#### Run command below to serve the homework_service\n",
    "```\n",
    "bentoml serve homework_service:svc --reload\n",
    "```"
   ]
  },
  {
   "cell_type": "code",
   "execution_count": 27,
   "id": "54dabef9",
   "metadata": {},
   "outputs": [
    {
     "data": {
      "text/plain": [
       "[1]"
      ]
     },
     "execution_count": 27,
     "metadata": {},
     "output_type": "execute_result"
    }
   ],
   "source": [
    "import requests\n",
    "\n",
    "result = requests.post(\n",
    "   \"http://127.0.0.1:3000/classify\",\n",
    "   headers={\"content-type\": \"application/json\"},\n",
    "   data=\"[[6.4, 3.5, 4.5, 1.2]]\",\n",
    ").json()\n",
    "result"
   ]
  },
  {
   "cell_type": "code",
   "execution_count": 28,
   "id": "1b9118e5",
   "metadata": {},
   "outputs": [
    {
     "name": "stdout",
     "output_type": "stream",
     "text": [
      "[1]"
     ]
    }
   ],
   "source": [
    "!curl -X POST \\\n",
    "   -H \"content-type: application/json\" \\\n",
    "   --data \"[[6.4, 3.5, 4.5, 1.2]]\" \\\n",
    "   http://127.0.0.1:3000/classify"
   ]
  },
  {
   "cell_type": "code",
   "execution_count": 26,
   "id": "42189528",
   "metadata": {},
   "outputs": [
    {
     "name": "stderr",
     "output_type": "stream",
     "text": [
      "'Runner.init_local' is for debugging and testing only.\n",
      "/Users/patrickwalukagga/.local/share/virtualenvs/mlzoomcamp-twe4lI-M/lib/python3.9/site-packages/sklearn/base.py:329: UserWarning: Trying to unpickle estimator SVC from version 1.1.1 when using version 1.1.2. This might lead to breaking code or invalid results. Use at your own risk. For more info please refer to:\n",
      "https://scikit-learn.org/stable/model_persistence.html#security-maintainability-limitations\n",
      "  warnings.warn(\n"
     ]
    },
    {
     "data": {
      "text/plain": [
       "array([1])"
      ]
     },
     "execution_count": 26,
     "metadata": {},
     "output_type": "execute_result"
    }
   ],
   "source": [
    "import bentoml\n",
    "\n",
    "model_ref = bentoml.sklearn.get(\"mlzoomcamp_homework:qtzdz3slg6mwwdu5\")\n",
    "model_runner = model_ref.to_runner()\n",
    "model_runner.init_local()\n",
    "model_runner.predict.run([[6.4, 3.5, 4.5, 1.2]])"
   ]
  },
  {
   "cell_type": "markdown",
   "id": "e3a0e8bf",
   "metadata": {},
   "source": [
    "## Question 6\n",
    "\n",
    "Ensure to serve your bento with `--production` for this question\n",
    "\n",
    "Install locust using:\n",
    "\n",
    "```bash\n",
    "pip install locust\n",
    "```\n",
    "\n",
    "Use the following locust file: [locustfile.py](locustfile.py)\n",
    "\n",
    "Ensure that it is pointed at your bento's endpoint (In case you didn't name your endpoint \"classify\")\n",
    "\n",
    "<img src=\"resources/classify-endpoint.png\">\n",
    "\n",
    "Configure 100 users with ramp time of 10 users per second. Click \"Start Swarming\" and ensure that it is working\n",
    "\n",
    "Now download a second model with this command:\n",
    "\n",
    "```bash\n",
    "curl -O https://s3.us-west-2.amazonaws.com/bentoml.com/mlzoomcamp/coolmodel2.bentomodel\n",
    "```\n",
    "\n",
    "Or you can download with this link as well:\n",
    "[https://s3.us-west-2.amazonaws.com/bentoml.com/mlzoomcamp/coolmodel2.bentomodel](https://s3.us-west-2.amazonaws.com/bentoml.com/mlzoomcamp/coolmodel2.bentomodel)\n",
    "\n",
    "Now import the model:\n",
    "\n",
    "```bash\n",
    "bentoml models import coolmodel2.bentomodel\n",
    "```\n",
    "\n",
    "Update your bento's runner tag and test with both models. Which model allows more traffic (more throughput) as you ramp up the traffic?\n",
    "Remember to turn off and turn on your bento service between changing the model tag. Use Ctl-C to close the service. Then call bentoml serve\n",
    "\n",
    "Test out the first model and the second model, which one performance better at higher volumes?\n",
    "\n",
    "* The first model\n",
    "* The second model"
   ]
  },
  {
   "cell_type": "code",
   "execution_count": 29,
   "id": "c59ec6db",
   "metadata": {},
   "outputs": [
    {
     "name": "stdout",
     "output_type": "stream",
     "text": [
      "  % Total    % Received % Xferd  Average Speed   Time    Time     Time  Current\n",
      "                                 Dload  Upload   Total   Spent    Left  Speed\n",
      "100  1728  100  1728    0     0   1097      0  0:00:01  0:00:01 --:--:--  1096\n"
     ]
    }
   ],
   "source": [
    "!curl -O https://s3.us-west-2.amazonaws.com/bentoml.com/mlzoomcamp/coolmodel2.bentomodel"
   ]
  },
  {
   "cell_type": "code",
   "execution_count": 30,
   "id": "b127e898",
   "metadata": {},
   "outputs": [
    {
     "name": "stdout",
     "output_type": "stream",
     "text": [
      "Model(tag=\"mlzoomcamp_homework:jsi67fslz6txydu5\") imported\r\n"
     ]
    }
   ],
   "source": [
    "!bentoml models import coolmodel2.bentomodel"
   ]
  },
  {
   "cell_type": "code",
   "execution_count": 31,
   "id": "93e55820",
   "metadata": {},
   "outputs": [
    {
     "name": "stdout",
     "output_type": "stream",
     "text": [
      "\u001b[1m{\u001b[0m\r\n",
      "  \u001b[1;34m\"name\"\u001b[0m: \u001b[32m\"mlzoomcamp_homework\"\u001b[0m,\r\n",
      "  \u001b[1;34m\"version\"\u001b[0m: \u001b[32m\"jsi67fslz6txydu5\"\u001b[0m,\r\n",
      "  \u001b[1;34m\"module\"\u001b[0m: \u001b[32m\"bentoml.sklearn\"\u001b[0m,\r\n",
      "  \u001b[1;34m\"labels\"\u001b[0m: \u001b[1m{\u001b[0m\u001b[1m}\u001b[0m,\r\n",
      "  \u001b[1;34m\"options\"\u001b[0m: \u001b[1m{\u001b[0m\u001b[1m}\u001b[0m,\r\n",
      "  \u001b[1;34m\"metadata\"\u001b[0m: \u001b[1m{\u001b[0m\u001b[1m}\u001b[0m,\r\n",
      "  \u001b[1;34m\"context\"\u001b[0m: \u001b[1m{\u001b[0m\r\n",
      "    \u001b[1;34m\"framework_name\"\u001b[0m: \u001b[32m\"sklearn\"\u001b[0m,\r\n",
      "    \u001b[1;34m\"framework_versions\"\u001b[0m: \u001b[1m{\u001b[0m\r\n",
      "      \u001b[1;34m\"scikit-learn\"\u001b[0m: \u001b[32m\"1.1.1\"\u001b[0m\r\n",
      "    \u001b[1m}\u001b[0m,\r\n",
      "    \u001b[1;34m\"bentoml_version\"\u001b[0m: \u001b[32m\"1.0.7\"\u001b[0m,\r\n",
      "    \u001b[1;34m\"python_version\"\u001b[0m: \u001b[32m\"3.9.12\"\u001b[0m\r\n",
      "  \u001b[1m}\u001b[0m,\r\n",
      "  \u001b[1;34m\"signatures\"\u001b[0m: \u001b[1m{\u001b[0m\r\n",
      "    \u001b[1;34m\"predict\"\u001b[0m: \u001b[1m{\u001b[0m\r\n",
      "      \u001b[1;34m\"batchable\"\u001b[0m: \u001b[3;92mtrue\u001b[0m,\r\n",
      "      \u001b[1;34m\"batch_dim\"\u001b[0m: \u001b[1m[\u001b[0m\r\n",
      "        \u001b[1;36m0\u001b[0m,\r\n",
      "        \u001b[1;36m0\u001b[0m\r\n",
      "      \u001b[1m]\u001b[0m\r\n",
      "    \u001b[1m}\u001b[0m\r\n",
      "  \u001b[1m}\u001b[0m,\r\n",
      "  \u001b[1;34m\"api_version\"\u001b[0m: \u001b[32m\"v1\"\u001b[0m,\r\n",
      "  \u001b[1;34m\"creation_time\"\u001b[0m: \u001b[32m\"2022-10-14T14:48:43.330446+00:00\"\u001b[0m\r\n",
      "\u001b[1m}\u001b[0m\r\n"
     ]
    }
   ],
   "source": [
    "!bentoml models get mlzoomcamp_homework:jsi67fslz6txydu5 --output=json"
   ]
  },
  {
   "cell_type": "markdown",
   "id": "45edc799",
   "metadata": {},
   "source": [
    "- **Second Model** gives better performance at higher volumes"
   ]
  },
  {
   "cell_type": "markdown",
   "id": "4be86f17",
   "metadata": {},
   "source": [
    "## Email from marketing\n",
    "\n",
    "Hello ML person! I hope this email finds you well. I've heard there's this cool new ML model called Stable Diffusion.\n",
    "I hear if you give it a description of a picture it will generate an image. We need a new company logo and I want it\n",
    "to be fierce but also cool, think you could help out?\n",
    "\n",
    "Thanks,\n",
    "\n",
    "Mike Marketer\n",
    "\n",
    "\n",
    "## Question 7 (optional)\n",
    "\n",
    "Go to this Bento deployment of Stable Diffusion: http://54.176.205.174/ (or deploy it yourself)\n",
    "\n",
    "Use the txt2image endpoint and update the prompt to: \"A cartoon dragon with sunglasses\". \n",
    "Don't change the seed, it should be 0 by default\n",
    "\n",
    "What is the resulting image?\n",
    "\n",
    "### #1\n",
    "<img src=\"resources/dragon1.jpeg\">\n",
    "\n",
    "### #2 \n",
    "<img src=\"resources/dragon2.jpeg\">\n",
    "\n",
    "### #3 \n",
    "<img src=\"resources/dragon3.jpeg\">\n",
    "\n",
    "### #4\n",
    "<img src=\"resources/dragon4.jpeg\">"
   ]
  },
  {
   "cell_type": "markdown",
   "id": "06629c6a",
   "metadata": {},
   "source": [
    "- **Image #3**"
   ]
  },
  {
   "cell_type": "markdown",
   "id": "b2e609d3",
   "metadata": {},
   "source": [
    "## Submit the results\n",
    "\n",
    "* Submit your results here: https://forms.gle/Hh9FWy6LGXk3wJYs8\n",
    "* You can submit your solution multiple times. In this case, only the last submission will be used \n",
    "* If your answer doesn't match options exactly, select the closest one"
   ]
  },
  {
   "cell_type": "code",
   "execution_count": null,
   "id": "b3d3d76a",
   "metadata": {},
   "outputs": [],
   "source": []
  }
 ],
 "metadata": {
  "kernelspec": {
   "display_name": "mlzoomcamp-twe4lI-M",
   "language": "python",
   "name": "mlzoomcamp-twe4li-m"
  },
  "language_info": {
   "codemirror_mode": {
    "name": "ipython",
    "version": 3
   },
   "file_extension": ".py",
   "mimetype": "text/x-python",
   "name": "python",
   "nbconvert_exporter": "python",
   "pygments_lexer": "ipython3",
   "version": "3.9.13"
  }
 },
 "nbformat": 4,
 "nbformat_minor": 5
}
