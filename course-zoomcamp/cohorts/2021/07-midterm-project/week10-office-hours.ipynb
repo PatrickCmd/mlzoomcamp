{
 "cells": [
  {
   "cell_type": "markdown",
   "id": "d3fb0207",
   "metadata": {},
   "source": [
    "- KNN\n",
    "- Scikit-learn pipelines"
   ]
  },
  {
   "cell_type": "code",
   "execution_count": 1,
   "id": "c540d91d",
   "metadata": {},
   "outputs": [],
   "source": [
    "import pandas as pd \n",
    "import numpy as np"
   ]
  },
  {
   "cell_type": "code",
   "execution_count": 3,
   "id": "1a2b1b5a",
   "metadata": {},
   "outputs": [],
   "source": [
    "df = pd.read_csv('AB_NYC_2019.csv', nrows=4000)"
   ]
  },
  {
   "cell_type": "code",
   "execution_count": 4,
   "id": "7527ae35",
   "metadata": {},
   "outputs": [],
   "source": [
    "from sklearn.neighbors import KNeighborsRegressor"
   ]
  },
  {
   "cell_type": "code",
   "execution_count": 5,
   "id": "afc0a7cd",
   "metadata": {},
   "outputs": [],
   "source": [
    "from sklearn.model_selection import train_test_split"
   ]
  },
  {
   "cell_type": "code",
   "execution_count": 6,
   "id": "ae4951cc",
   "metadata": {},
   "outputs": [],
   "source": [
    "df_train, df_val = train_test_split(df)"
   ]
  },
  {
   "cell_type": "code",
   "execution_count": 7,
   "id": "bf750d64",
   "metadata": {},
   "outputs": [
    {
     "data": {
      "text/plain": [
       "3000"
      ]
     },
     "execution_count": 7,
     "metadata": {},
     "output_type": "execute_result"
    }
   ],
   "source": [
    "len(df_train)"
   ]
  },
  {
   "cell_type": "code",
   "execution_count": 10,
   "id": "b19e5449",
   "metadata": {},
   "outputs": [],
   "source": [
    "X_train = df_train[['latitude', 'longitude']].fillna(0).values\n",
    "y_train = df_train.price.values"
   ]
  },
  {
   "cell_type": "code",
   "execution_count": 11,
   "id": "6f47164b",
   "metadata": {},
   "outputs": [],
   "source": [
    "X_val = df_val[['latitude', 'longitude']].fillna(0).values\n",
    "y_val = df_val.price.values"
   ]
  },
  {
   "cell_type": "code",
   "execution_count": 12,
   "id": "66a898c3",
   "metadata": {},
   "outputs": [],
   "source": [
    "knn = KNeighborsRegressor(n_neighbors=5)"
   ]
  },
  {
   "cell_type": "code",
   "execution_count": null,
   "id": "9efc2b5e",
   "metadata": {},
   "outputs": [],
   "source": []
  },
  {
   "cell_type": "code",
   "execution_count": 13,
   "id": "3660cd30",
   "metadata": {},
   "outputs": [
    {
     "data": {
      "text/plain": [
       "KNeighborsRegressor()"
      ]
     },
     "execution_count": 13,
     "metadata": {},
     "output_type": "execute_result"
    }
   ],
   "source": [
    "knn.fit(X_train, y_train)"
   ]
  },
  {
   "cell_type": "code",
   "execution_count": 15,
   "id": "48dcfd9c",
   "metadata": {},
   "outputs": [],
   "source": [
    "y_pred = knn.predict(X_val)"
   ]
  },
  {
   "cell_type": "code",
   "execution_count": null,
   "id": "500ec7c5",
   "metadata": {},
   "outputs": [],
   "source": [
    "for i in range(1, 50):\n",
    "    knn = KNeighborsRegressor(n_neighbors=i)\n",
    "    knn.fit(X_train, y_train)\n",
    "    \n",
    "    y_pred = knn.predict(X_val)\n",
    "    # rmse"
   ]
  },
  {
   "cell_type": "markdown",
   "id": "33e96506",
   "metadata": {},
   "source": [
    "## Pipelines"
   ]
  },
  {
   "cell_type": "code",
   "execution_count": 16,
   "id": "8ae907c3",
   "metadata": {},
   "outputs": [],
   "source": [
    "from sklearn.compose import ColumnTransformer\n",
    "from sklearn.feature_extraction.text import CountVectorizer\n",
    "from sklearn.preprocessing import OneHotEncoder"
   ]
  },
  {
   "cell_type": "code",
   "execution_count": 61,
   "id": "e4a80087",
   "metadata": {},
   "outputs": [],
   "source": [
    "df = pd.read_csv('AB_NYC_2019.csv', nrows=4000)"
   ]
  },
  {
   "cell_type": "code",
   "execution_count": 62,
   "id": "802b904b",
   "metadata": {},
   "outputs": [],
   "source": [
    "df['number_of_reviews'] = df['number_of_reviews'].fillna(0)"
   ]
  },
  {
   "cell_type": "code",
   "execution_count": 63,
   "id": "b43e2a7d",
   "metadata": {},
   "outputs": [],
   "source": [
    "df.name = df.name.fillna('')\n",
    "df.neighbourhood_group = df.neighbourhood_group.str.lower().str.replace(' ', '_').fillna('NA')\n",
    "df.neighbourhood = df.neighbourhood.str.lower().str.replace(' ', '_').fillna('NA')\n",
    "df.room_type = df.room_type.str.lower().str.replace(' ', '_').fillna('NA')"
   ]
  },
  {
   "cell_type": "code",
   "execution_count": 64,
   "id": "a14c0a72",
   "metadata": {},
   "outputs": [],
   "source": [
    "numerical = ['latitude',\n",
    "    'longitude',\n",
    "    'minimum_nights',\n",
    "    'number_of_reviews',\n",
    "    'reviews_per_month',\n",
    "    'calculated_host_listings_count',\n",
    "    'availability_365']"
   ]
  },
  {
   "cell_type": "code",
   "execution_count": 74,
   "id": "be5622da",
   "metadata": {},
   "outputs": [],
   "source": [
    "df[numerical] = df[numerical].fillna(0)"
   ]
  },
  {
   "cell_type": "code",
   "execution_count": 75,
   "id": "cdc930ca",
   "metadata": {},
   "outputs": [],
   "source": [
    "transformations = [\n",
    "    ('numerical', 'passthrough', numerical),\n",
    "    ('categories', OneHotEncoder(dtype='int32'),\n",
    "         ['neighbourhood_group', 'neighbourhood', 'room_type']),\n",
    "    ('name', CountVectorizer(min_df=100, dtype='int32'), 'name')\n",
    "]\n",
    "\n",
    "tranformer = ColumnTransformer(transformations, remainder='drop')\n"
   ]
  },
  {
   "cell_type": "code",
   "execution_count": 76,
   "id": "fad529b2",
   "metadata": {},
   "outputs": [],
   "source": []
  },
  {
   "cell_type": "code",
   "execution_count": 77,
   "id": "2d53e04d",
   "metadata": {},
   "outputs": [
    {
     "data": {
      "text/plain": [
       "ColumnTransformer(transformers=[('numerical', 'passthrough',\n",
       "                                 ['latitude', 'longitude', 'minimum_nights',\n",
       "                                  'number_of_reviews', 'reviews_per_month',\n",
       "                                  'calculated_host_listings_count',\n",
       "                                  'availability_365']),\n",
       "                                ('categories', OneHotEncoder(dtype='int32'),\n",
       "                                 ['neighbourhood_group', 'neighbourhood',\n",
       "                                  'room_type']),\n",
       "                                ('name',\n",
       "                                 CountVectorizer(dtype='int32', min_df=100),\n",
       "                                 'name')])"
      ]
     },
     "execution_count": 77,
     "metadata": {},
     "output_type": "execute_result"
    }
   ],
   "source": [
    "tranformer.fit(df)"
   ]
  },
  {
   "cell_type": "code",
   "execution_count": 79,
   "id": "4d79b93b",
   "metadata": {},
   "outputs": [],
   "source": [
    "X = tranformer.transform(df)"
   ]
  },
  {
   "cell_type": "code",
   "execution_count": 80,
   "id": "55e8021e",
   "metadata": {},
   "outputs": [],
   "source": [
    "y = df.price.values"
   ]
  },
  {
   "cell_type": "code",
   "execution_count": 81,
   "id": "7b9666f2",
   "metadata": {},
   "outputs": [],
   "source": [
    "from sklearn.linear_model import LinearRegression"
   ]
  },
  {
   "cell_type": "code",
   "execution_count": 82,
   "id": "b4248462",
   "metadata": {},
   "outputs": [
    {
     "data": {
      "text/plain": [
       "LinearRegression()"
      ]
     },
     "execution_count": 82,
     "metadata": {},
     "output_type": "execute_result"
    }
   ],
   "source": [
    "lr = LinearRegression()\n",
    "lr.fit(X, y)"
   ]
  },
  {
   "cell_type": "code",
   "execution_count": 83,
   "id": "36638860",
   "metadata": {},
   "outputs": [],
   "source": [
    "from sklearn.pipeline import Pipeline"
   ]
  },
  {
   "cell_type": "code",
   "execution_count": 89,
   "id": "9c098d9e",
   "metadata": {},
   "outputs": [],
   "source": [
    "transformations = [\n",
    "    ('numerical', 'passthrough', numerical),\n",
    "    ('neighbourhood', CountVectorizer(token_pattern='.*', min_df=100, dtype='int32'), 'neighbourhood'),\n",
    "    ('ng', CountVectorizer(token_pattern='.*', min_df=50, dtype='int32'), 'neighbourhood_group'),\n",
    "    ('room_type', CountVectorizer(token_pattern='.*', min_df=100, dtype='int32'), 'room_type'),\n",
    "    ('name', CountVectorizer(min_df=100, dtype='int32'), 'name')\n",
    "]\n",
    "\n",
    "tranformer = ColumnTransformer(transformations, remainder='drop')"
   ]
  },
  {
   "cell_type": "code",
   "execution_count": 90,
   "id": "499242d8",
   "metadata": {},
   "outputs": [],
   "source": [
    "pipeline = Pipeline([\n",
    "    ('transormer', tranformer),\n",
    "    ('lr', LinearRegression())\n",
    "])"
   ]
  },
  {
   "cell_type": "code",
   "execution_count": 106,
   "id": "d835d0a5",
   "metadata": {},
   "outputs": [],
   "source": [
    "pipeline.fit(df, df.price.values);"
   ]
  },
  {
   "cell_type": "code",
   "execution_count": 92,
   "id": "a5906d9a",
   "metadata": {},
   "outputs": [
    {
     "data": {
      "text/plain": [
       "array([ 80.28976523, 340.61684387,  45.10203035, ..., 162.8269308 ,\n",
       "        82.08441501, 111.36359434])"
      ]
     },
     "execution_count": 92,
     "metadata": {},
     "output_type": "execute_result"
    }
   ],
   "source": [
    "pipeline.predict(df)"
   ]
  },
  {
   "cell_type": "code",
   "execution_count": 94,
   "id": "94c95b39",
   "metadata": {},
   "outputs": [],
   "source": [
    "from sklearn.base import TransformerMixin"
   ]
  },
  {
   "cell_type": "code",
   "execution_count": 95,
   "id": "d23e15f3",
   "metadata": {},
   "outputs": [],
   "source": [
    "class ConcatenatingTranformer(TransformerMixin):\n",
    "    \n",
    "    def fit(self, X, y=None):\n",
    "        return self\n",
    "\n",
    "    def transform(self, X):\n",
    "        columns = list(X.columns)\n",
    "        \n",
    "        res = ''\n",
    "        \n",
    "        for c in columns:\n",
    "            res = res + ' ' + c + '=' + X[c]\n",
    "\n",
    "        return res.str.strip()"
   ]
  },
  {
   "cell_type": "code",
   "execution_count": 96,
   "id": "6dcde520",
   "metadata": {},
   "outputs": [],
   "source": [
    "ct = ConcatenatingTranformer()"
   ]
  },
  {
   "cell_type": "code",
   "execution_count": 98,
   "id": "61ac82a9",
   "metadata": {},
   "outputs": [],
   "source": [
    "p2 = Pipeline([\n",
    "    ('concatenate', ConcatenatingTranformer()),\n",
    "    ('vectorize', CountVectorizer(token_pattern='\\S+', min_df=100))\n",
    "])"
   ]
  },
  {
   "cell_type": "code",
   "execution_count": null,
   "id": "321d6b31",
   "metadata": {},
   "outputs": [],
   "source": []
  },
  {
   "cell_type": "code",
   "execution_count": 100,
   "id": "a543f214",
   "metadata": {},
   "outputs": [
    {
     "data": {
      "text/plain": [
       "<4000x17 sparse matrix of type '<class 'numpy.int64'>'\n",
       "\twith 10165 stored elements in Compressed Sparse Row format>"
      ]
     },
     "execution_count": 100,
     "metadata": {},
     "output_type": "execute_result"
    }
   ],
   "source": [
    "p2.fit_transform(df[['neighbourhood_group', 'neighbourhood', 'room_type']])"
   ]
  },
  {
   "cell_type": "code",
   "execution_count": null,
   "id": "8805e7fd",
   "metadata": {},
   "outputs": [],
   "source": [
    "' neighbourhood_group=' + df.neighbourhood_group + ' ' + \\\n",
    "    'neighbourhood=' + df.neighbourhood+ ' ' + \\\n",
    "    'room_type=' + df.room_type"
   ]
  },
  {
   "cell_type": "code",
   "execution_count": 102,
   "id": "02ad632c",
   "metadata": {},
   "outputs": [],
   "source": [
    "transformations = [\n",
    "    ('numerical', 'passthrough', numerical),\n",
    "    ('categories', Pipeline([\n",
    "        ('concatenate', ConcatenatingTranformer()),\n",
    "        ('vectorize', CountVectorizer(token_pattern='\\S+', min_df=100))\n",
    "    ]), ['neighbourhood', 'neighbourhood_group', 'room_type']),\n",
    "    ('name', CountVectorizer(min_df=100, dtype='int32'), 'name')\n",
    "]\n",
    "\n",
    "tranformer = ColumnTransformer(transformations, remainder='drop')\n",
    "\n",
    "pipeline = Pipeline([\n",
    "    ('transormer', tranformer),\n",
    "    ('lr', LinearRegression())\n",
    "])"
   ]
  },
  {
   "cell_type": "code",
   "execution_count": 103,
   "id": "04b3aba4",
   "metadata": {},
   "outputs": [
    {
     "data": {
      "text/plain": [
       "array([ 80.28977269, 340.61684897,  45.10203641, ..., 162.82693488,\n",
       "        82.08441669, 111.36359873])"
      ]
     },
     "execution_count": 103,
     "metadata": {},
     "output_type": "execute_result"
    }
   ],
   "source": [
    "pipeline.fit(df, df.price.values)\n",
    "pipeline.predict(df)"
   ]
  },
  {
   "cell_type": "code",
   "execution_count": 104,
   "id": "0299276d",
   "metadata": {},
   "outputs": [],
   "source": [
    "import pickle"
   ]
  },
  {
   "cell_type": "code",
   "execution_count": 105,
   "id": "154f5b3c",
   "metadata": {},
   "outputs": [],
   "source": [
    "with open('pipeline.bin', 'wb') as f_out:\n",
    "    pickle.dump(pipeline, f_out)"
   ]
  },
  {
   "cell_type": "code",
   "execution_count": null,
   "id": "7c2c6636",
   "metadata": {},
   "outputs": [],
   "source": []
  }
 ],
 "metadata": {
  "kernelspec": {
   "display_name": "Python 3 (ipykernel)",
   "language": "python",
   "name": "python3"
  },
  "language_info": {
   "codemirror_mode": {
    "name": "ipython",
    "version": 3
   },
   "file_extension": ".py",
   "mimetype": "text/x-python",
   "name": "python",
   "nbconvert_exporter": "python",
   "pygments_lexer": "ipython3",
   "version": "3.9.5"
  }
 },
 "nbformat": 4,
 "nbformat_minor": 5
}
