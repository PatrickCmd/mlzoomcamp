{
 "cells": [
  {
   "cell_type": "code",
   "execution_count": 1,
   "id": "5d50518c",
   "metadata": {},
   "outputs": [],
   "source": [
    "import numpy as np\n",
    "import pandas as pd \n",
    "\n",
    "from tensorflow import keras\n",
    "\n",
    "import matplotlib.pyplot as plt\n",
    "%matplotlib inline"
   ]
  },
  {
   "cell_type": "code",
   "execution_count": 37,
   "id": "9dac1d00",
   "metadata": {},
   "outputs": [],
   "source": [
    "from tqdm.keras import TqdmCallback"
   ]
  },
  {
   "cell_type": "code",
   "execution_count": 2,
   "id": "851915f5",
   "metadata": {},
   "outputs": [],
   "source": [
    "df = pd.read_csv('AB_NYC_2019.csv', nrows=20000)"
   ]
  },
  {
   "cell_type": "code",
   "execution_count": 3,
   "id": "698b0eaf",
   "metadata": {},
   "outputs": [],
   "source": [
    "numerical = [\n",
    "    'latitude',\n",
    "    'longitude',\n",
    "    'minimum_nights',\n",
    "    'number_of_reviews',\n",
    "    'reviews_per_month',\n",
    "    'calculated_host_listings_count',\n",
    "    'availability_365'\n",
    "]"
   ]
  },
  {
   "cell_type": "code",
   "execution_count": 4,
   "id": "8dcc4f22",
   "metadata": {},
   "outputs": [],
   "source": [
    "df[numerical] = df[numerical].fillna(0)\n",
    "\n",
    "df.name = df.name.fillna('')\n",
    "df.neighbourhood_group = df.neighbourhood_group.str.lower().str.replace(' ', '_').fillna('NA')\n",
    "df.neighbourhood = df.neighbourhood.str.lower().str.replace(' ', '_').fillna('NA')\n",
    "df.room_type = df.room_type.str.lower().str.replace(' ', '_').fillna('NA')"
   ]
  },
  {
   "cell_type": "code",
   "execution_count": 5,
   "id": "5de273e5",
   "metadata": {},
   "outputs": [],
   "source": [
    "from sklearn.model_selection import train_test_split"
   ]
  },
  {
   "cell_type": "code",
   "execution_count": 6,
   "id": "777d4ff8",
   "metadata": {},
   "outputs": [],
   "source": [
    "df_train, df_val = train_test_split(df)"
   ]
  },
  {
   "cell_type": "code",
   "execution_count": 10,
   "id": "b79aa002",
   "metadata": {},
   "outputs": [],
   "source": [
    "from sklearn.compose import ColumnTransformer\n",
    "from sklearn.pipeline import Pipeline\n",
    "\n",
    "from sklearn.feature_extraction.text import CountVectorizer\n",
    "from sklearn.base import TransformerMixin"
   ]
  },
  {
   "cell_type": "code",
   "execution_count": 15,
   "id": "ccc48fbb",
   "metadata": {},
   "outputs": [],
   "source": [
    "from sklearn.preprocessing import StandardScaler"
   ]
  },
  {
   "cell_type": "code",
   "execution_count": 8,
   "id": "f47c472c",
   "metadata": {},
   "outputs": [],
   "source": [
    "class ConcatenatingTranformer(TransformerMixin):\n",
    "    \n",
    "    def fit(self, X, y=None):\n",
    "        return self\n",
    "\n",
    "    def transform(self, X):\n",
    "        columns = list(X.columns)\n",
    "        \n",
    "        res = ''\n",
    "        \n",
    "        for c in columns:\n",
    "            res = res + ' ' + c + '=' + X[c]\n",
    "\n",
    "        return res.str.strip()"
   ]
  },
  {
   "cell_type": "code",
   "execution_count": 16,
   "id": "6bd73459",
   "metadata": {},
   "outputs": [],
   "source": [
    "transformations = [\n",
    "    ('numerical', StandardScaler(), numerical),\n",
    "    ('categories', Pipeline([\n",
    "        ('concatenate', ConcatenatingTranformer()),\n",
    "        ('vectorize', CountVectorizer(token_pattern='\\S+', min_df=100))\n",
    "    ]), ['neighbourhood', 'neighbourhood_group', 'room_type']),\n",
    "    ('name', CountVectorizer(min_df=100, dtype='int32'), 'name')\n",
    "]\n",
    "\n",
    "tranformer = ColumnTransformer(transformations, remainder='drop')"
   ]
  },
  {
   "cell_type": "code",
   "execution_count": 17,
   "id": "4a6938b5",
   "metadata": {},
   "outputs": [],
   "source": [
    "X_train = tranformer.fit_transform(df_train)\n",
    "X_val = tranformer.transform(df_val)"
   ]
  },
  {
   "cell_type": "code",
   "execution_count": 19,
   "id": "04ecb34a",
   "metadata": {},
   "outputs": [
    {
     "data": {
      "text/plain": [
       "<15000x183 sparse matrix of type '<class 'numpy.float64'>'\n",
       "\twith 207901 stored elements in Compressed Sparse Row format>"
      ]
     },
     "execution_count": 19,
     "metadata": {},
     "output_type": "execute_result"
    }
   ],
   "source": [
    "X_train"
   ]
  },
  {
   "cell_type": "code",
   "execution_count": 14,
   "id": "84fbe473",
   "metadata": {},
   "outputs": [],
   "source": [
    "y_train = np.log1p(df_train.price.values)\n",
    "y_val = np.log1p(df_val.price.values)"
   ]
  },
  {
   "cell_type": "markdown",
   "id": "956dd8b2",
   "metadata": {},
   "source": [
    "Linear regression with keras"
   ]
  },
  {
   "cell_type": "code",
   "execution_count": 40,
   "id": "8a31404d",
   "metadata": {},
   "outputs": [],
   "source": [
    "inputs = keras.layers.Input(shape=(183,))\n",
    "\n",
    "outputs = keras.layers.Dense(1)(inputs)\n",
    "\n",
    "model = keras.Model(inputs, outputs)\n",
    "\n",
    "learning_rate = 0.01\n",
    "optimizer = keras.optimizers.Adam(learning_rate=learning_rate)\n",
    "\n",
    "loss = keras.losses.MeanSquaredError()\n",
    "rmse = keras.metrics.RootMeanSquaredError()\n",
    "\n",
    "model.compile(optimizer=optimizer, loss=loss, metrics=[rmse])"
   ]
  },
  {
   "cell_type": "code",
   "execution_count": null,
   "id": "7b7c37fa",
   "metadata": {},
   "outputs": [],
   "source": [
    "history = model.fit(\n",
    "    X_train, y_train,\n",
    "    batch_size=1024,\n",
    "    epochs=100, \n",
    "    verbose=0,\n",
    "    validation_data=(X_val, y_val),\n",
    "    callbacks=[TqdmCallback()]\n",
    ")"
   ]
  },
  {
   "cell_type": "code",
   "execution_count": 41,
   "id": "2f20be61",
   "metadata": {},
   "outputs": [],
   "source": []
  },
  {
   "cell_type": "markdown",
   "id": "9eb59a99",
   "metadata": {},
   "source": [
    "Add more layers"
   ]
  },
  {
   "cell_type": "code",
   "execution_count": 48,
   "id": "77b9ce7a",
   "metadata": {},
   "outputs": [],
   "source": [
    "inputs = keras.layers.Input(shape=(183,))\n",
    "\n",
    "## added this:\n",
    "inner = keras.layers.Dense(30, activation='relu')(inputs)\n",
    "drop = keras.layers.Dropout(0.2)(inner)\n",
    "\n",
    "outputs = keras.layers.Dense(1)(drop)\n",
    "\n",
    "model = keras.Model(inputs, outputs)\n",
    "\n",
    "\n",
    "\n",
    "learning_rate = 0.001\n",
    "optimizer = keras.optimizers.Adam(learning_rate=learning_rate)\n",
    "\n",
    "loss = keras.losses.MeanSquaredError()\n",
    "rmse = keras.metrics.RootMeanSquaredError()\n",
    "\n",
    "model.compile(optimizer=optimizer, loss=loss, metrics=[rmse])"
   ]
  },
  {
   "cell_type": "code",
   "execution_count": 49,
   "id": "564deb1f",
   "metadata": {},
   "outputs": [
    {
     "data": {
      "application/vnd.jupyter.widget-view+json": {
       "model_id": "",
       "version_major": 2,
       "version_minor": 0
      },
      "text/plain": [
       "0epoch [00:00, ?epoch/s]"
      ]
     },
     "metadata": {},
     "output_type": "display_data"
    },
    {
     "data": {
      "application/vnd.jupyter.widget-view+json": {
       "model_id": "",
       "version_major": 2,
       "version_minor": 0
      },
      "text/plain": [
       "0batch [00:00, ?batch/s]"
      ]
     },
     "metadata": {},
     "output_type": "display_data"
    }
   ],
   "source": [
    "history = model.fit(\n",
    "    X_train, y_train,\n",
    "    batch_size=1024,\n",
    "    epochs=30, \n",
    "    verbose=0,\n",
    "    validation_data=(X_val, y_val),\n",
    "    callbacks=[TqdmCallback()]\n",
    ")"
   ]
  },
  {
   "cell_type": "code",
   "execution_count": 47,
   "id": "9223ad53",
   "metadata": {},
   "outputs": [
    {
     "data": {
      "text/plain": [
       "[<matplotlib.lines.Line2D at 0x7f4614228c40>]"
      ]
     },
     "execution_count": 47,
     "metadata": {},
     "output_type": "execute_result"
    },
    {
     "data": {
      "image/png": "[encoded data removed]",
      "text/plain": [
       "<Figure size 432x288 with 1 Axes>"
      ]
     },
     "metadata": {
      "needs_background": "light"
     },
     "output_type": "display_data"
    }
   ],
   "source": [
    "plt.plot(history.history['val_root_mean_squared_error'])"
   ]
  },
  {
   "cell_type": "markdown",
   "id": "9de11746",
   "metadata": {},
   "source": [
    "Sequential"
   ]
  },
  {
   "cell_type": "code",
   "execution_count": 61,
   "id": "5015cd47",
   "metadata": {},
   "outputs": [],
   "source": [
    "model = keras.models.Sequential()\n",
    "\n",
    "model.add(keras.layers.Dense(30, activation='relu'))\n",
    "model.add(keras.layers.Dropout(0.2))\n",
    "model.add(keras.layers.Dense(1))"
   ]
  },
  {
   "cell_type": "code",
   "execution_count": 62,
   "id": "3440dd74",
   "metadata": {},
   "outputs": [],
   "source": [
    "learning_rate = 0.01\n",
    "optimizer = keras.optimizers.Adam(learning_rate=learning_rate)\n",
    "\n",
    "loss = keras.losses.MeanSquaredError()\n",
    "rmse = keras.metrics.RootMeanSquaredError()\n",
    "\n",
    "model.compile(optimizer=optimizer, loss=loss, metrics=[rmse])"
   ]
  },
  {
   "cell_type": "code",
   "execution_count": 63,
   "id": "17b5c78b",
   "metadata": {},
   "outputs": [
    {
     "data": {
      "application/vnd.jupyter.widget-view+json": {
       "model_id": "500cc5b615d94e5cb2056708ec7e7b01",
       "version_major": 2,
       "version_minor": 0
      },
      "text/plain": [
       "0epoch [00:00, ?epoch/s]"
      ]
     },
     "metadata": {},
     "output_type": "display_data"
    },
    {
     "data": {
      "application/vnd.jupyter.widget-view+json": {
       "model_id": "",
       "version_major": 2,
       "version_minor": 0
      },
      "text/plain": [
       "0batch [00:00, ?batch/s]"
      ]
     },
     "metadata": {},
     "output_type": "display_data"
    }
   ],
   "source": [
    "history = model.fit(\n",
    "    X_train, y_train,\n",
    "    batch_size=1024,\n",
    "    epochs=30, \n",
    "    verbose=0,\n",
    "    validation_data=(X_val, y_val),\n",
    "    callbacks=[TqdmCallback()]\n",
    ")"
   ]
  },
  {
   "cell_type": "code",
   "execution_count": 64,
   "id": "a380f824",
   "metadata": {},
   "outputs": [],
   "source": [
    "pred = model.predict(X_train[:10])"
   ]
  },
  {
   "cell_type": "code",
   "execution_count": 65,
   "id": "17c29480",
   "metadata": {},
   "outputs": [
    {
     "data": {
      "text/plain": [
       "array([[4.975269 ],\n",
       "       [5.188339 ],\n",
       "       [4.079772 ],\n",
       "       [4.6929116],\n",
       "       [4.1848497],\n",
       "       [4.9689226],\n",
       "       [4.9001856],\n",
       "       [4.0081806],\n",
       "       [4.8581057],\n",
       "       [3.9850411]], dtype=float32)"
      ]
     },
     "execution_count": 65,
     "metadata": {},
     "output_type": "execute_result"
    }
   ],
   "source": [
    "pred"
   ]
  },
  {
   "cell_type": "code",
   "execution_count": null,
   "id": "8ba31787",
   "metadata": {},
   "outputs": [],
   "source": []
  }
 ],
 "metadata": {
  "kernelspec": {
   "display_name": "Python 3.9.5 64-bit",
   "language": "python",
   "name": "python3"
  },
  "language_info": {
   "codemirror_mode": {
    "name": "ipython",
    "version": 3
   },
   "file_extension": ".py",
   "mimetype": "text/x-python",
   "name": "python",
   "nbconvert_exporter": "python",
   "pygments_lexer": "ipython3",
   "version": "3.9.5"
  },
  "vscode": {
   "interpreter": {
    "hash": "c347c8f9a7ef94e4c9e03b4513be7835ed18f45b99a2a817fb579f408b867b16"
   }
  }
 },
 "nbformat": 4,
 "nbformat_minor": 5
}
