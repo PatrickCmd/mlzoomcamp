{
 "cells": [
  {
   "cell_type": "markdown",
   "id": "fd845f95",
   "metadata": {},
   "source": [
    "# Smoke Detection\n",
    "\n",
    "### Detect smoke with the help of IOT data and trigger a fire alarm.\n",
    "\n",
    "**Problem Type** : Binary Classification\n",
    "\n",
    "**Target Variable** : Fire Alarm\n",
    "\n",
    "[**Smoke Detection Kaggle Dataset**](https://www.kaggle.com/datasets/deepcontractor/smoke-detection-dataset)"
   ]
  },
  {
   "cell_type": "code",
   "execution_count": 1,
   "id": "ac3fab11",
   "metadata": {},
   "outputs": [],
   "source": [
    "import pandas as pd\n",
    "import numpy as np\n",
    "import seaborn as sns\n",
    "import matplotlib.pyplot as plt\n",
    "from pathlib import Path\n",
    "from sklearn.preprocessing import StandardScaler\n",
    "from sklearn.linear_model import LogisticRegression\n",
    "from sklearn.pipeline import make_pipeline\n",
    "from sklearn.model_selection import train_test_split, cross_validate\n",
    "from sklearn.ensemble import RandomForestClassifier, HistGradientBoostingClassifier\n",
    "from sklearn.tree import DecisionTreeClassifier\n",
    "from sklearn.metrics import accuracy_score, roc_auc_score\n",
    "from sklearn.dummy import DummyClassifier\n",
    "import bentoml"
   ]
  },
  {
   "cell_type": "code",
   "execution_count": 2,
   "id": "b9e79f0d",
   "metadata": {},
   "outputs": [],
   "source": [
    "data = Path(\"./dataset/\")"
   ]
  },
  {
   "cell_type": "code",
   "execution_count": 3,
   "id": "a48333f4",
   "metadata": {},
   "outputs": [
    {
     "data": {
      "text/plain": [
       "[PosixPath('dataset/smoke_detection_iot.csv')]"
      ]
     },
     "execution_count": 3,
     "metadata": {},
     "output_type": "execute_result"
    }
   ],
   "source": [
    "list(data.glob(\"*.csv\"))"
   ]
  },
  {
   "cell_type": "code",
   "execution_count": 4,
   "id": "7a4c06dd",
   "metadata": {},
   "outputs": [
    {
     "data": {
      "text/html": [
       "<div>\n",
       "<style scoped>\n",
       "    .dataframe tbody tr th:only-of-type {\n",
       "        vertical-align: middle;\n",
       "    }\n",
       "\n",
       "    .dataframe tbody tr th {\n",
       "        vertical-align: top;\n",
       "    }\n",
       "\n",
       "    .dataframe thead th {\n",
       "        text-align: right;\n",
       "    }\n",
       "</style>\n",
       "<table border=\"1\" class=\"dataframe\">\n",
       "  <thead>\n",
       "    <tr style=\"text-align: right;\">\n",
       "      <th></th>\n",
       "      <th>UTC</th>\n",
       "      <th>Temperature[C]</th>\n",
       "      <th>Humidity[%]</th>\n",
       "      <th>TVOC[ppb]</th>\n",
       "      <th>eCO2[ppm]</th>\n",
       "      <th>Raw H2</th>\n",
       "      <th>Raw Ethanol</th>\n",
       "      <th>Pressure[hPa]</th>\n",
       "      <th>PM1.0</th>\n",
       "      <th>PM2.5</th>\n",
       "      <th>NC0.5</th>\n",
       "      <th>NC1.0</th>\n",
       "      <th>NC2.5</th>\n",
       "      <th>CNT</th>\n",
       "      <th>Fire Alarm</th>\n",
       "    </tr>\n",
       "  </thead>\n",
       "  <tbody>\n",
       "    <tr>\n",
       "      <th>0</th>\n",
       "      <td>1654733331</td>\n",
       "      <td>20.000</td>\n",
       "      <td>57.36</td>\n",
       "      <td>0</td>\n",
       "      <td>400</td>\n",
       "      <td>12306</td>\n",
       "      <td>18520</td>\n",
       "      <td>939.735</td>\n",
       "      <td>0.0</td>\n",
       "      <td>0.0</td>\n",
       "      <td>0.0</td>\n",
       "      <td>0.0</td>\n",
       "      <td>0.0</td>\n",
       "      <td>0</td>\n",
       "      <td>0</td>\n",
       "    </tr>\n",
       "    <tr>\n",
       "      <th>1</th>\n",
       "      <td>1654733332</td>\n",
       "      <td>20.015</td>\n",
       "      <td>56.67</td>\n",
       "      <td>0</td>\n",
       "      <td>400</td>\n",
       "      <td>12345</td>\n",
       "      <td>18651</td>\n",
       "      <td>939.744</td>\n",
       "      <td>0.0</td>\n",
       "      <td>0.0</td>\n",
       "      <td>0.0</td>\n",
       "      <td>0.0</td>\n",
       "      <td>0.0</td>\n",
       "      <td>1</td>\n",
       "      <td>0</td>\n",
       "    </tr>\n",
       "    <tr>\n",
       "      <th>2</th>\n",
       "      <td>1654733333</td>\n",
       "      <td>20.029</td>\n",
       "      <td>55.96</td>\n",
       "      <td>0</td>\n",
       "      <td>400</td>\n",
       "      <td>12374</td>\n",
       "      <td>18764</td>\n",
       "      <td>939.738</td>\n",
       "      <td>0.0</td>\n",
       "      <td>0.0</td>\n",
       "      <td>0.0</td>\n",
       "      <td>0.0</td>\n",
       "      <td>0.0</td>\n",
       "      <td>2</td>\n",
       "      <td>0</td>\n",
       "    </tr>\n",
       "    <tr>\n",
       "      <th>3</th>\n",
       "      <td>1654733334</td>\n",
       "      <td>20.044</td>\n",
       "      <td>55.28</td>\n",
       "      <td>0</td>\n",
       "      <td>400</td>\n",
       "      <td>12390</td>\n",
       "      <td>18849</td>\n",
       "      <td>939.736</td>\n",
       "      <td>0.0</td>\n",
       "      <td>0.0</td>\n",
       "      <td>0.0</td>\n",
       "      <td>0.0</td>\n",
       "      <td>0.0</td>\n",
       "      <td>3</td>\n",
       "      <td>0</td>\n",
       "    </tr>\n",
       "    <tr>\n",
       "      <th>4</th>\n",
       "      <td>1654733335</td>\n",
       "      <td>20.059</td>\n",
       "      <td>54.69</td>\n",
       "      <td>0</td>\n",
       "      <td>400</td>\n",
       "      <td>12403</td>\n",
       "      <td>18921</td>\n",
       "      <td>939.744</td>\n",
       "      <td>0.0</td>\n",
       "      <td>0.0</td>\n",
       "      <td>0.0</td>\n",
       "      <td>0.0</td>\n",
       "      <td>0.0</td>\n",
       "      <td>4</td>\n",
       "      <td>0</td>\n",
       "    </tr>\n",
       "  </tbody>\n",
       "</table>\n",
       "</div>"
      ],
      "text/plain": [
       "          UTC  Temperature[C]  Humidity[%]  TVOC[ppb]  eCO2[ppm]  Raw H2  \\\n",
       "0  1654733331          20.000        57.36          0        400   12306   \n",
       "1  1654733332          20.015        56.67          0        400   12345   \n",
       "2  1654733333          20.029        55.96          0        400   12374   \n",
       "3  1654733334          20.044        55.28          0        400   12390   \n",
       "4  1654733335          20.059        54.69          0        400   12403   \n",
       "\n",
       "   Raw Ethanol  Pressure[hPa]  PM1.0  PM2.5  NC0.5  NC1.0  NC2.5  CNT  \\\n",
       "0        18520        939.735    0.0    0.0    0.0    0.0    0.0    0   \n",
       "1        18651        939.744    0.0    0.0    0.0    0.0    0.0    1   \n",
       "2        18764        939.738    0.0    0.0    0.0    0.0    0.0    2   \n",
       "3        18849        939.736    0.0    0.0    0.0    0.0    0.0    3   \n",
       "4        18921        939.744    0.0    0.0    0.0    0.0    0.0    4   \n",
       "\n",
       "   Fire Alarm  \n",
       "0           0  \n",
       "1           0  \n",
       "2           0  \n",
       "3           0  \n",
       "4           0  "
      ]
     },
     "execution_count": 4,
     "metadata": {},
     "output_type": "execute_result"
    }
   ],
   "source": [
    "df = pd.read_csv(data / \"smoke_detection_iot.csv\", index_col=0)\n",
    "df.head()"
   ]
  },
  {
   "cell_type": "markdown",
   "id": "3768474b",
   "metadata": {},
   "source": [
    "## EDA\n",
    "\n",
    "- Checking missing values\n",
    "- Look at the target value(Fire Alarm)\n",
    "- Feature importance: Correlation\n"
   ]
  },
  {
   "cell_type": "code",
   "execution_count": 5,
   "id": "3b7a8946",
   "metadata": {},
   "outputs": [
    {
     "data": {
      "text/plain": [
       "(62630, 15)"
      ]
     },
     "execution_count": 5,
     "metadata": {},
     "output_type": "execute_result"
    }
   ],
   "source": [
    "df.shape"
   ]
  },
  {
   "cell_type": "markdown",
   "id": "13580450",
   "metadata": {},
   "source": [
    "The dataset has 62630 observations and 15 features"
   ]
  },
  {
   "cell_type": "code",
   "execution_count": 6,
   "id": "968ed8b7",
   "metadata": {},
   "outputs": [
    {
     "data": {
      "text/plain": [
       "UTC                 int64\n",
       "Temperature[C]    float64\n",
       "Humidity[%]       float64\n",
       "TVOC[ppb]           int64\n",
       "eCO2[ppm]           int64\n",
       "Raw H2              int64\n",
       "Raw Ethanol         int64\n",
       "Pressure[hPa]     float64\n",
       "PM1.0             float64\n",
       "PM2.5             float64\n",
       "NC0.5             float64\n",
       "NC1.0             float64\n",
       "NC2.5             float64\n",
       "CNT                 int64\n",
       "Fire Alarm          int64\n",
       "dtype: object"
      ]
     },
     "execution_count": 6,
     "metadata": {},
     "output_type": "execute_result"
    }
   ],
   "source": [
    "df.dtypes"
   ]
  },
  {
   "cell_type": "code",
   "execution_count": 7,
   "id": "0e6b3220",
   "metadata": {},
   "outputs": [
    {
     "name": "stdout",
     "output_type": "stream",
     "text": [
      "<class 'pandas.core.frame.DataFrame'>\n",
      "Int64Index: 62630 entries, 0 to 62629\n",
      "Data columns (total 15 columns):\n",
      " #   Column          Non-Null Count  Dtype  \n",
      "---  ------          --------------  -----  \n",
      " 0   UTC             62630 non-null  int64  \n",
      " 1   Temperature[C]  62630 non-null  float64\n",
      " 2   Humidity[%]     62630 non-null  float64\n",
      " 3   TVOC[ppb]       62630 non-null  int64  \n",
      " 4   eCO2[ppm]       62630 non-null  int64  \n",
      " 5   Raw H2          62630 non-null  int64  \n",
      " 6   Raw Ethanol     62630 non-null  int64  \n",
      " 7   Pressure[hPa]   62630 non-null  float64\n",
      " 8   PM1.0           62630 non-null  float64\n",
      " 9   PM2.5           62630 non-null  float64\n",
      " 10  NC0.5           62630 non-null  float64\n",
      " 11  NC1.0           62630 non-null  float64\n",
      " 12  NC2.5           62630 non-null  float64\n",
      " 13  CNT             62630 non-null  int64  \n",
      " 14  Fire Alarm      62630 non-null  int64  \n",
      "dtypes: float64(8), int64(7)\n",
      "memory usage: 7.6 MB\n"
     ]
    }
   ],
   "source": [
    "df.info()"
   ]
  },
  {
   "cell_type": "markdown",
   "id": "fcb1e5a7",
   "metadata": {},
   "source": [
    "Cleaning feature column names"
   ]
  },
  {
   "cell_type": "code",
   "execution_count": 8,
   "id": "e6851edc",
   "metadata": {},
   "outputs": [],
   "source": [
    "df.columns = (\n",
    "    df.columns.str.lower()\n",
    "    .str.replace(\" \", \"_\", regex=False)\n",
    "    .str.replace(\"[\", \"_\", regex=False)\n",
    "    .str.replace(\"]\", \"_\", regex=False)\n",
    "    .str.replace(\"%\", \"pct\", regex=False)\n",
    "    .str.replace(\".\", \"_\", regex=False)\n",
    ")"
   ]
  },
  {
   "cell_type": "code",
   "execution_count": 9,
   "id": "1f494514",
   "metadata": {},
   "outputs": [
    {
     "data": {
      "text/plain": [
       "Index(['utc', 'temperature_c_', 'humidity_pct_', 'tvoc_ppb_', 'eco2_ppm_',\n",
       "       'raw_h2', 'raw_ethanol', 'pressure_hpa_', 'pm1_0', 'pm2_5', 'nc0_5',\n",
       "       'nc1_0', 'nc2_5', 'cnt', 'fire_alarm'],\n",
       "      dtype='object')"
      ]
     },
     "execution_count": 9,
     "metadata": {},
     "output_type": "execute_result"
    }
   ],
   "source": [
    "df.columns"
   ]
  },
  {
   "cell_type": "code",
   "execution_count": 10,
   "id": "b8d6b018",
   "metadata": {},
   "outputs": [
    {
     "data": {
      "text/html": [
       "<div>\n",
       "<style scoped>\n",
       "    .dataframe tbody tr th:only-of-type {\n",
       "        vertical-align: middle;\n",
       "    }\n",
       "\n",
       "    .dataframe tbody tr th {\n",
       "        vertical-align: top;\n",
       "    }\n",
       "\n",
       "    .dataframe thead th {\n",
       "        text-align: right;\n",
       "    }\n",
       "</style>\n",
       "<table border=\"1\" class=\"dataframe\">\n",
       "  <thead>\n",
       "    <tr style=\"text-align: right;\">\n",
       "      <th></th>\n",
       "      <th>utc</th>\n",
       "      <th>temperature_c_</th>\n",
       "      <th>humidity_pct_</th>\n",
       "      <th>tvoc_ppb_</th>\n",
       "      <th>eco2_ppm_</th>\n",
       "      <th>raw_h2</th>\n",
       "      <th>raw_ethanol</th>\n",
       "      <th>pressure_hpa_</th>\n",
       "      <th>pm1_0</th>\n",
       "      <th>pm2_5</th>\n",
       "      <th>nc0_5</th>\n",
       "      <th>nc1_0</th>\n",
       "      <th>nc2_5</th>\n",
       "      <th>cnt</th>\n",
       "      <th>fire_alarm</th>\n",
       "    </tr>\n",
       "  </thead>\n",
       "  <tbody>\n",
       "    <tr>\n",
       "      <th>0</th>\n",
       "      <td>1654733331</td>\n",
       "      <td>20.000</td>\n",
       "      <td>57.36</td>\n",
       "      <td>0</td>\n",
       "      <td>400</td>\n",
       "      <td>12306</td>\n",
       "      <td>18520</td>\n",
       "      <td>939.735</td>\n",
       "      <td>0.0</td>\n",
       "      <td>0.0</td>\n",
       "      <td>0.0</td>\n",
       "      <td>0.0</td>\n",
       "      <td>0.0</td>\n",
       "      <td>0</td>\n",
       "      <td>0</td>\n",
       "    </tr>\n",
       "    <tr>\n",
       "      <th>1</th>\n",
       "      <td>1654733332</td>\n",
       "      <td>20.015</td>\n",
       "      <td>56.67</td>\n",
       "      <td>0</td>\n",
       "      <td>400</td>\n",
       "      <td>12345</td>\n",
       "      <td>18651</td>\n",
       "      <td>939.744</td>\n",
       "      <td>0.0</td>\n",
       "      <td>0.0</td>\n",
       "      <td>0.0</td>\n",
       "      <td>0.0</td>\n",
       "      <td>0.0</td>\n",
       "      <td>1</td>\n",
       "      <td>0</td>\n",
       "    </tr>\n",
       "    <tr>\n",
       "      <th>2</th>\n",
       "      <td>1654733333</td>\n",
       "      <td>20.029</td>\n",
       "      <td>55.96</td>\n",
       "      <td>0</td>\n",
       "      <td>400</td>\n",
       "      <td>12374</td>\n",
       "      <td>18764</td>\n",
       "      <td>939.738</td>\n",
       "      <td>0.0</td>\n",
       "      <td>0.0</td>\n",
       "      <td>0.0</td>\n",
       "      <td>0.0</td>\n",
       "      <td>0.0</td>\n",
       "      <td>2</td>\n",
       "      <td>0</td>\n",
       "    </tr>\n",
       "    <tr>\n",
       "      <th>3</th>\n",
       "      <td>1654733334</td>\n",
       "      <td>20.044</td>\n",
       "      <td>55.28</td>\n",
       "      <td>0</td>\n",
       "      <td>400</td>\n",
       "      <td>12390</td>\n",
       "      <td>18849</td>\n",
       "      <td>939.736</td>\n",
       "      <td>0.0</td>\n",
       "      <td>0.0</td>\n",
       "      <td>0.0</td>\n",
       "      <td>0.0</td>\n",
       "      <td>0.0</td>\n",
       "      <td>3</td>\n",
       "      <td>0</td>\n",
       "    </tr>\n",
       "    <tr>\n",
       "      <th>4</th>\n",
       "      <td>1654733335</td>\n",
       "      <td>20.059</td>\n",
       "      <td>54.69</td>\n",
       "      <td>0</td>\n",
       "      <td>400</td>\n",
       "      <td>12403</td>\n",
       "      <td>18921</td>\n",
       "      <td>939.744</td>\n",
       "      <td>0.0</td>\n",
       "      <td>0.0</td>\n",
       "      <td>0.0</td>\n",
       "      <td>0.0</td>\n",
       "      <td>0.0</td>\n",
       "      <td>4</td>\n",
       "      <td>0</td>\n",
       "    </tr>\n",
       "  </tbody>\n",
       "</table>\n",
       "</div>"
      ],
      "text/plain": [
       "          utc  temperature_c_  humidity_pct_  tvoc_ppb_  eco2_ppm_  raw_h2  \\\n",
       "0  1654733331          20.000          57.36          0        400   12306   \n",
       "1  1654733332          20.015          56.67          0        400   12345   \n",
       "2  1654733333          20.029          55.96          0        400   12374   \n",
       "3  1654733334          20.044          55.28          0        400   12390   \n",
       "4  1654733335          20.059          54.69          0        400   12403   \n",
       "\n",
       "   raw_ethanol  pressure_hpa_  pm1_0  pm2_5  nc0_5  nc1_0  nc2_5  cnt  \\\n",
       "0        18520        939.735    0.0    0.0    0.0    0.0    0.0    0   \n",
       "1        18651        939.744    0.0    0.0    0.0    0.0    0.0    1   \n",
       "2        18764        939.738    0.0    0.0    0.0    0.0    0.0    2   \n",
       "3        18849        939.736    0.0    0.0    0.0    0.0    0.0    3   \n",
       "4        18921        939.744    0.0    0.0    0.0    0.0    0.0    4   \n",
       "\n",
       "   fire_alarm  \n",
       "0           0  \n",
       "1           0  \n",
       "2           0  \n",
       "3           0  \n",
       "4           0  "
      ]
     },
     "execution_count": 10,
     "metadata": {},
     "output_type": "execute_result"
    }
   ],
   "source": [
    "df.head()"
   ]
  },
  {
   "cell_type": "markdown",
   "id": "ba03e666",
   "metadata": {},
   "source": [
    "#### Dropping the timestamp column"
   ]
  },
  {
   "cell_type": "code",
   "execution_count": 11,
   "id": "ecc9ec07",
   "metadata": {},
   "outputs": [],
   "source": [
    "df.drop(columns=[\"utc\"], inplace=True)"
   ]
  },
  {
   "cell_type": "code",
   "execution_count": 12,
   "id": "de7395b1",
   "metadata": {},
   "outputs": [
    {
     "data": {
      "text/html": [
       "<div>\n",
       "<style scoped>\n",
       "    .dataframe tbody tr th:only-of-type {\n",
       "        vertical-align: middle;\n",
       "    }\n",
       "\n",
       "    .dataframe tbody tr th {\n",
       "        vertical-align: top;\n",
       "    }\n",
       "\n",
       "    .dataframe thead th {\n",
       "        text-align: right;\n",
       "    }\n",
       "</style>\n",
       "<table border=\"1\" class=\"dataframe\">\n",
       "  <thead>\n",
       "    <tr style=\"text-align: right;\">\n",
       "      <th></th>\n",
       "      <th>temperature_c_</th>\n",
       "      <th>humidity_pct_</th>\n",
       "      <th>tvoc_ppb_</th>\n",
       "      <th>eco2_ppm_</th>\n",
       "      <th>raw_h2</th>\n",
       "      <th>raw_ethanol</th>\n",
       "      <th>pressure_hpa_</th>\n",
       "      <th>pm1_0</th>\n",
       "      <th>pm2_5</th>\n",
       "      <th>nc0_5</th>\n",
       "      <th>nc1_0</th>\n",
       "      <th>nc2_5</th>\n",
       "      <th>cnt</th>\n",
       "      <th>fire_alarm</th>\n",
       "    </tr>\n",
       "  </thead>\n",
       "  <tbody>\n",
       "    <tr>\n",
       "      <th>count</th>\n",
       "      <td>62630.000000</td>\n",
       "      <td>62630.000000</td>\n",
       "      <td>62630.000000</td>\n",
       "      <td>62630.000000</td>\n",
       "      <td>62630.000000</td>\n",
       "      <td>62630.000000</td>\n",
       "      <td>62630.000000</td>\n",
       "      <td>62630.000000</td>\n",
       "      <td>62630.000000</td>\n",
       "      <td>62630.000000</td>\n",
       "      <td>62630.000000</td>\n",
       "      <td>62630.000000</td>\n",
       "      <td>62630.000000</td>\n",
       "      <td>62630.000000</td>\n",
       "    </tr>\n",
       "    <tr>\n",
       "      <th>mean</th>\n",
       "      <td>15.970424</td>\n",
       "      <td>48.539499</td>\n",
       "      <td>1942.057528</td>\n",
       "      <td>670.021044</td>\n",
       "      <td>12942.453936</td>\n",
       "      <td>19754.257912</td>\n",
       "      <td>938.627649</td>\n",
       "      <td>100.594309</td>\n",
       "      <td>184.467770</td>\n",
       "      <td>491.463608</td>\n",
       "      <td>203.586487</td>\n",
       "      <td>80.049042</td>\n",
       "      <td>10511.386157</td>\n",
       "      <td>0.714626</td>\n",
       "    </tr>\n",
       "    <tr>\n",
       "      <th>std</th>\n",
       "      <td>14.359576</td>\n",
       "      <td>8.865367</td>\n",
       "      <td>7811.589055</td>\n",
       "      <td>1905.885439</td>\n",
       "      <td>272.464305</td>\n",
       "      <td>609.513156</td>\n",
       "      <td>1.331344</td>\n",
       "      <td>922.524245</td>\n",
       "      <td>1976.305615</td>\n",
       "      <td>4265.661251</td>\n",
       "      <td>2214.738556</td>\n",
       "      <td>1083.383189</td>\n",
       "      <td>7597.870997</td>\n",
       "      <td>0.451596</td>\n",
       "    </tr>\n",
       "    <tr>\n",
       "      <th>min</th>\n",
       "      <td>-22.010000</td>\n",
       "      <td>10.740000</td>\n",
       "      <td>0.000000</td>\n",
       "      <td>400.000000</td>\n",
       "      <td>10668.000000</td>\n",
       "      <td>15317.000000</td>\n",
       "      <td>930.852000</td>\n",
       "      <td>0.000000</td>\n",
       "      <td>0.000000</td>\n",
       "      <td>0.000000</td>\n",
       "      <td>0.000000</td>\n",
       "      <td>0.000000</td>\n",
       "      <td>0.000000</td>\n",
       "      <td>0.000000</td>\n",
       "    </tr>\n",
       "    <tr>\n",
       "      <th>25%</th>\n",
       "      <td>10.994250</td>\n",
       "      <td>47.530000</td>\n",
       "      <td>130.000000</td>\n",
       "      <td>400.000000</td>\n",
       "      <td>12830.000000</td>\n",
       "      <td>19435.000000</td>\n",
       "      <td>938.700000</td>\n",
       "      <td>1.280000</td>\n",
       "      <td>1.340000</td>\n",
       "      <td>8.820000</td>\n",
       "      <td>1.384000</td>\n",
       "      <td>0.033000</td>\n",
       "      <td>3625.250000</td>\n",
       "      <td>0.000000</td>\n",
       "    </tr>\n",
       "    <tr>\n",
       "      <th>50%</th>\n",
       "      <td>20.130000</td>\n",
       "      <td>50.150000</td>\n",
       "      <td>981.000000</td>\n",
       "      <td>400.000000</td>\n",
       "      <td>12924.000000</td>\n",
       "      <td>19501.000000</td>\n",
       "      <td>938.816000</td>\n",
       "      <td>1.810000</td>\n",
       "      <td>1.880000</td>\n",
       "      <td>12.450000</td>\n",
       "      <td>1.943000</td>\n",
       "      <td>0.044000</td>\n",
       "      <td>9336.000000</td>\n",
       "      <td>1.000000</td>\n",
       "    </tr>\n",
       "    <tr>\n",
       "      <th>75%</th>\n",
       "      <td>25.409500</td>\n",
       "      <td>53.240000</td>\n",
       "      <td>1189.000000</td>\n",
       "      <td>438.000000</td>\n",
       "      <td>13109.000000</td>\n",
       "      <td>20078.000000</td>\n",
       "      <td>939.418000</td>\n",
       "      <td>2.090000</td>\n",
       "      <td>2.180000</td>\n",
       "      <td>14.420000</td>\n",
       "      <td>2.249000</td>\n",
       "      <td>0.051000</td>\n",
       "      <td>17164.750000</td>\n",
       "      <td>1.000000</td>\n",
       "    </tr>\n",
       "    <tr>\n",
       "      <th>max</th>\n",
       "      <td>59.930000</td>\n",
       "      <td>75.200000</td>\n",
       "      <td>60000.000000</td>\n",
       "      <td>60000.000000</td>\n",
       "      <td>13803.000000</td>\n",
       "      <td>21410.000000</td>\n",
       "      <td>939.861000</td>\n",
       "      <td>14333.690000</td>\n",
       "      <td>45432.260000</td>\n",
       "      <td>61482.030000</td>\n",
       "      <td>51914.680000</td>\n",
       "      <td>30026.438000</td>\n",
       "      <td>24993.000000</td>\n",
       "      <td>1.000000</td>\n",
       "    </tr>\n",
       "  </tbody>\n",
       "</table>\n",
       "</div>"
      ],
      "text/plain": [
       "       temperature_c_  humidity_pct_     tvoc_ppb_     eco2_ppm_  \\\n",
       "count    62630.000000   62630.000000  62630.000000  62630.000000   \n",
       "mean        15.970424      48.539499   1942.057528    670.021044   \n",
       "std         14.359576       8.865367   7811.589055   1905.885439   \n",
       "min        -22.010000      10.740000      0.000000    400.000000   \n",
       "25%         10.994250      47.530000    130.000000    400.000000   \n",
       "50%         20.130000      50.150000    981.000000    400.000000   \n",
       "75%         25.409500      53.240000   1189.000000    438.000000   \n",
       "max         59.930000      75.200000  60000.000000  60000.000000   \n",
       "\n",
       "             raw_h2   raw_ethanol  pressure_hpa_         pm1_0         pm2_5  \\\n",
       "count  62630.000000  62630.000000   62630.000000  62630.000000  62630.000000   \n",
       "mean   12942.453936  19754.257912     938.627649    100.594309    184.467770   \n",
       "std      272.464305    609.513156       1.331344    922.524245   1976.305615   \n",
       "min    10668.000000  15317.000000     930.852000      0.000000      0.000000   \n",
       "25%    12830.000000  19435.000000     938.700000      1.280000      1.340000   \n",
       "50%    12924.000000  19501.000000     938.816000      1.810000      1.880000   \n",
       "75%    13109.000000  20078.000000     939.418000      2.090000      2.180000   \n",
       "max    13803.000000  21410.000000     939.861000  14333.690000  45432.260000   \n",
       "\n",
       "              nc0_5         nc1_0         nc2_5           cnt    fire_alarm  \n",
       "count  62630.000000  62630.000000  62630.000000  62630.000000  62630.000000  \n",
       "mean     491.463608    203.586487     80.049042  10511.386157      0.714626  \n",
       "std     4265.661251   2214.738556   1083.383189   7597.870997      0.451596  \n",
       "min        0.000000      0.000000      0.000000      0.000000      0.000000  \n",
       "25%        8.820000      1.384000      0.033000   3625.250000      0.000000  \n",
       "50%       12.450000      1.943000      0.044000   9336.000000      1.000000  \n",
       "75%       14.420000      2.249000      0.051000  17164.750000      1.000000  \n",
       "max    61482.030000  51914.680000  30026.438000  24993.000000      1.000000  "
      ]
     },
     "execution_count": 12,
     "metadata": {},
     "output_type": "execute_result"
    }
   ],
   "source": [
    "df.describe()"
   ]
  },
  {
   "cell_type": "code",
   "execution_count": 13,
   "id": "ffc89e96",
   "metadata": {},
   "outputs": [
    {
     "data": {
      "text/plain": [
       "1    0.714626\n",
       "0    0.285374\n",
       "Name: fire_alarm, dtype: float64"
      ]
     },
     "execution_count": 13,
     "metadata": {},
     "output_type": "execute_result"
    }
   ],
   "source": [
    "df.fire_alarm.value_counts(normalize=True)"
   ]
  },
  {
   "cell_type": "markdown",
   "id": "82dfbe1c",
   "metadata": {},
   "source": [
    "We see that 71% most the of the time a fire alarm is triggered"
   ]
  },
  {
   "cell_type": "code",
   "execution_count": 14,
   "id": "9b484bf0",
   "metadata": {},
   "outputs": [
    {
     "data": {
      "text/plain": [
       "0    0\n",
       "1    0\n",
       "2    0\n",
       "3    0\n",
       "4    0\n",
       "Name: fire_alarm, dtype: int64"
      ]
     },
     "execution_count": 14,
     "metadata": {},
     "output_type": "execute_result"
    }
   ],
   "source": [
    "df[\"fire_alarm\"].head()"
   ]
  },
  {
   "cell_type": "code",
   "execution_count": 15,
   "id": "da2390f9",
   "metadata": {},
   "outputs": [
    {
     "data": {
      "image/png": "[encoded data removed]",
      "text/plain": [
       "<Figure size 640x480 with 1 Axes>"
      ]
     },
     "metadata": {},
     "output_type": "display_data"
    }
   ],
   "source": [
    "df[\"fire_alarm\"].value_counts(normalize=True).plot(\n",
    "    kind=\"bar\",\n",
    "    xlabel=\"Fire Alarm\",\n",
    "    ylabel=\"Relative Frequency\",\n",
    "    title=\"Distribution by Fire Alarm\"\n",
    ");"
   ]
  },
  {
   "cell_type": "code",
   "execution_count": 16,
   "id": "c4f518da",
   "metadata": {},
   "outputs": [
    {
     "data": {
      "text/html": [
       "<div>\n",
       "<style scoped>\n",
       "    .dataframe tbody tr th:only-of-type {\n",
       "        vertical-align: middle;\n",
       "    }\n",
       "\n",
       "    .dataframe tbody tr th {\n",
       "        vertical-align: top;\n",
       "    }\n",
       "\n",
       "    .dataframe thead th {\n",
       "        text-align: right;\n",
       "    }\n",
       "</style>\n",
       "<table border=\"1\" class=\"dataframe\">\n",
       "  <thead>\n",
       "    <tr style=\"text-align: right;\">\n",
       "      <th></th>\n",
       "      <th>temperature_c_</th>\n",
       "      <th>humidity_pct_</th>\n",
       "      <th>tvoc_ppb_</th>\n",
       "      <th>eco2_ppm_</th>\n",
       "      <th>raw_h2</th>\n",
       "      <th>raw_ethanol</th>\n",
       "      <th>pressure_hpa_</th>\n",
       "      <th>pm1_0</th>\n",
       "      <th>pm2_5</th>\n",
       "      <th>nc0_5</th>\n",
       "      <th>nc1_0</th>\n",
       "      <th>nc2_5</th>\n",
       "      <th>cnt</th>\n",
       "    </tr>\n",
       "  </thead>\n",
       "  <tbody>\n",
       "    <tr>\n",
       "      <th>temperature_c_</th>\n",
       "      <td>1.000000</td>\n",
       "      <td>-0.243986</td>\n",
       "      <td>0.082442</td>\n",
       "      <td>0.079265</td>\n",
       "      <td>-0.135540</td>\n",
       "      <td>-0.037343</td>\n",
       "      <td>-0.251203</td>\n",
       "      <td>0.037330</td>\n",
       "      <td>0.032084</td>\n",
       "      <td>0.039291</td>\n",
       "      <td>0.031608</td>\n",
       "      <td>0.025526</td>\n",
       "      <td>-0.089850</td>\n",
       "    </tr>\n",
       "    <tr>\n",
       "      <th>humidity_pct_</th>\n",
       "      <td>-0.243986</td>\n",
       "      <td>1.000000</td>\n",
       "      <td>-0.488878</td>\n",
       "      <td>-0.369095</td>\n",
       "      <td>0.247199</td>\n",
       "      <td>0.068782</td>\n",
       "      <td>0.694614</td>\n",
       "      <td>-0.236538</td>\n",
       "      <td>-0.178882</td>\n",
       "      <td>-0.277389</td>\n",
       "      <td>-0.174224</td>\n",
       "      <td>-0.118502</td>\n",
       "      <td>0.251965</td>\n",
       "    </tr>\n",
       "    <tr>\n",
       "      <th>tvoc_ppb_</th>\n",
       "      <td>0.082442</td>\n",
       "      <td>-0.488878</td>\n",
       "      <td>1.000000</td>\n",
       "      <td>0.606118</td>\n",
       "      <td>-0.653053</td>\n",
       "      <td>-0.673715</td>\n",
       "      <td>-0.220004</td>\n",
       "      <td>0.597366</td>\n",
       "      <td>0.477424</td>\n",
       "      <td>0.670657</td>\n",
       "      <td>0.467386</td>\n",
       "      <td>0.344721</td>\n",
       "      <td>-0.057703</td>\n",
       "    </tr>\n",
       "    <tr>\n",
       "      <th>eco2_ppm_</th>\n",
       "      <td>0.079265</td>\n",
       "      <td>-0.369095</td>\n",
       "      <td>0.606118</td>\n",
       "      <td>1.000000</td>\n",
       "      <td>-0.682785</td>\n",
       "      <td>-0.506695</td>\n",
       "      <td>-0.326043</td>\n",
       "      <td>0.665482</td>\n",
       "      <td>0.572691</td>\n",
       "      <td>0.699604</td>\n",
       "      <td>0.564252</td>\n",
       "      <td>0.456323</td>\n",
       "      <td>-0.106681</td>\n",
       "    </tr>\n",
       "    <tr>\n",
       "      <th>raw_h2</th>\n",
       "      <td>-0.135540</td>\n",
       "      <td>0.247199</td>\n",
       "      <td>-0.653053</td>\n",
       "      <td>-0.682785</td>\n",
       "      <td>1.000000</td>\n",
       "      <td>0.631495</td>\n",
       "      <td>0.303090</td>\n",
       "      <td>-0.530714</td>\n",
       "      <td>-0.431079</td>\n",
       "      <td>-0.587769</td>\n",
       "      <td>-0.422626</td>\n",
       "      <td>-0.318518</td>\n",
       "      <td>-0.031036</td>\n",
       "    </tr>\n",
       "    <tr>\n",
       "      <th>raw_ethanol</th>\n",
       "      <td>-0.037343</td>\n",
       "      <td>0.068782</td>\n",
       "      <td>-0.673715</td>\n",
       "      <td>-0.506695</td>\n",
       "      <td>0.631495</td>\n",
       "      <td>1.000000</td>\n",
       "      <td>-0.075926</td>\n",
       "      <td>-0.480698</td>\n",
       "      <td>-0.393192</td>\n",
       "      <td>-0.529186</td>\n",
       "      <td>-0.385720</td>\n",
       "      <td>-0.293351</td>\n",
       "      <td>-0.511995</td>\n",
       "    </tr>\n",
       "    <tr>\n",
       "      <th>pressure_hpa_</th>\n",
       "      <td>-0.251203</td>\n",
       "      <td>0.694614</td>\n",
       "      <td>-0.220004</td>\n",
       "      <td>-0.326043</td>\n",
       "      <td>0.303090</td>\n",
       "      <td>-0.075926</td>\n",
       "      <td>1.000000</td>\n",
       "      <td>-0.258938</td>\n",
       "      <td>-0.243071</td>\n",
       "      <td>-0.248657</td>\n",
       "      <td>-0.241148</td>\n",
       "      <td>-0.213390</td>\n",
       "      <td>0.186290</td>\n",
       "    </tr>\n",
       "    <tr>\n",
       "      <th>pm1_0</th>\n",
       "      <td>0.037330</td>\n",
       "      <td>-0.236538</td>\n",
       "      <td>0.597366</td>\n",
       "      <td>0.665482</td>\n",
       "      <td>-0.530714</td>\n",
       "      <td>-0.480698</td>\n",
       "      <td>-0.258938</td>\n",
       "      <td>1.000000</td>\n",
       "      <td>0.956118</td>\n",
       "      <td>0.940045</td>\n",
       "      <td>0.949860</td>\n",
       "      <td>0.854901</td>\n",
       "      <td>-0.093700</td>\n",
       "    </tr>\n",
       "    <tr>\n",
       "      <th>pm2_5</th>\n",
       "      <td>0.032084</td>\n",
       "      <td>-0.178882</td>\n",
       "      <td>0.477424</td>\n",
       "      <td>0.572691</td>\n",
       "      <td>-0.431079</td>\n",
       "      <td>-0.393192</td>\n",
       "      <td>-0.243071</td>\n",
       "      <td>0.956118</td>\n",
       "      <td>1.000000</td>\n",
       "      <td>0.798873</td>\n",
       "      <td>0.999787</td>\n",
       "      <td>0.969382</td>\n",
       "      <td>-0.083869</td>\n",
       "    </tr>\n",
       "    <tr>\n",
       "      <th>nc0_5</th>\n",
       "      <td>0.039291</td>\n",
       "      <td>-0.277389</td>\n",
       "      <td>0.670657</td>\n",
       "      <td>0.699604</td>\n",
       "      <td>-0.587769</td>\n",
       "      <td>-0.529186</td>\n",
       "      <td>-0.248657</td>\n",
       "      <td>0.940045</td>\n",
       "      <td>0.798873</td>\n",
       "      <td>1.000000</td>\n",
       "      <td>0.786274</td>\n",
       "      <td>0.626711</td>\n",
       "      <td>-0.094741</td>\n",
       "    </tr>\n",
       "    <tr>\n",
       "      <th>nc1_0</th>\n",
       "      <td>0.031608</td>\n",
       "      <td>-0.174224</td>\n",
       "      <td>0.467386</td>\n",
       "      <td>0.564252</td>\n",
       "      <td>-0.422626</td>\n",
       "      <td>-0.385720</td>\n",
       "      <td>-0.241148</td>\n",
       "      <td>0.949860</td>\n",
       "      <td>0.999787</td>\n",
       "      <td>0.786274</td>\n",
       "      <td>1.000000</td>\n",
       "      <td>0.974249</td>\n",
       "      <td>-0.082898</td>\n",
       "    </tr>\n",
       "    <tr>\n",
       "      <th>nc2_5</th>\n",
       "      <td>0.025526</td>\n",
       "      <td>-0.118502</td>\n",
       "      <td>0.344721</td>\n",
       "      <td>0.456323</td>\n",
       "      <td>-0.318518</td>\n",
       "      <td>-0.293351</td>\n",
       "      <td>-0.213390</td>\n",
       "      <td>0.854901</td>\n",
       "      <td>0.969382</td>\n",
       "      <td>0.626711</td>\n",
       "      <td>0.974249</td>\n",
       "      <td>1.000000</td>\n",
       "      <td>-0.069977</td>\n",
       "    </tr>\n",
       "    <tr>\n",
       "      <th>cnt</th>\n",
       "      <td>-0.089850</td>\n",
       "      <td>0.251965</td>\n",
       "      <td>-0.057703</td>\n",
       "      <td>-0.106681</td>\n",
       "      <td>-0.031036</td>\n",
       "      <td>-0.511995</td>\n",
       "      <td>0.186290</td>\n",
       "      <td>-0.093700</td>\n",
       "      <td>-0.083869</td>\n",
       "      <td>-0.094741</td>\n",
       "      <td>-0.082898</td>\n",
       "      <td>-0.069977</td>\n",
       "      <td>1.000000</td>\n",
       "    </tr>\n",
       "  </tbody>\n",
       "</table>\n",
       "</div>"
      ],
      "text/plain": [
       "                temperature_c_  humidity_pct_  tvoc_ppb_  eco2_ppm_    raw_h2  \\\n",
       "temperature_c_        1.000000      -0.243986   0.082442   0.079265 -0.135540   \n",
       "humidity_pct_        -0.243986       1.000000  -0.488878  -0.369095  0.247199   \n",
       "tvoc_ppb_             0.082442      -0.488878   1.000000   0.606118 -0.653053   \n",
       "eco2_ppm_             0.079265      -0.369095   0.606118   1.000000 -0.682785   \n",
       "raw_h2               -0.135540       0.247199  -0.653053  -0.682785  1.000000   \n",
       "raw_ethanol          -0.037343       0.068782  -0.673715  -0.506695  0.631495   \n",
       "pressure_hpa_        -0.251203       0.694614  -0.220004  -0.326043  0.303090   \n",
       "pm1_0                 0.037330      -0.236538   0.597366   0.665482 -0.530714   \n",
       "pm2_5                 0.032084      -0.178882   0.477424   0.572691 -0.431079   \n",
       "nc0_5                 0.039291      -0.277389   0.670657   0.699604 -0.587769   \n",
       "nc1_0                 0.031608      -0.174224   0.467386   0.564252 -0.422626   \n",
       "nc2_5                 0.025526      -0.118502   0.344721   0.456323 -0.318518   \n",
       "cnt                  -0.089850       0.251965  -0.057703  -0.106681 -0.031036   \n",
       "\n",
       "                raw_ethanol  pressure_hpa_     pm1_0     pm2_5     nc0_5  \\\n",
       "temperature_c_    -0.037343      -0.251203  0.037330  0.032084  0.039291   \n",
       "humidity_pct_      0.068782       0.694614 -0.236538 -0.178882 -0.277389   \n",
       "tvoc_ppb_         -0.673715      -0.220004  0.597366  0.477424  0.670657   \n",
       "eco2_ppm_         -0.506695      -0.326043  0.665482  0.572691  0.699604   \n",
       "raw_h2             0.631495       0.303090 -0.530714 -0.431079 -0.587769   \n",
       "raw_ethanol        1.000000      -0.075926 -0.480698 -0.393192 -0.529186   \n",
       "pressure_hpa_     -0.075926       1.000000 -0.258938 -0.243071 -0.248657   \n",
       "pm1_0             -0.480698      -0.258938  1.000000  0.956118  0.940045   \n",
       "pm2_5             -0.393192      -0.243071  0.956118  1.000000  0.798873   \n",
       "nc0_5             -0.529186      -0.248657  0.940045  0.798873  1.000000   \n",
       "nc1_0             -0.385720      -0.241148  0.949860  0.999787  0.786274   \n",
       "nc2_5             -0.293351      -0.213390  0.854901  0.969382  0.626711   \n",
       "cnt               -0.511995       0.186290 -0.093700 -0.083869 -0.094741   \n",
       "\n",
       "                   nc1_0     nc2_5       cnt  \n",
       "temperature_c_  0.031608  0.025526 -0.089850  \n",
       "humidity_pct_  -0.174224 -0.118502  0.251965  \n",
       "tvoc_ppb_       0.467386  0.344721 -0.057703  \n",
       "eco2_ppm_       0.564252  0.456323 -0.106681  \n",
       "raw_h2         -0.422626 -0.318518 -0.031036  \n",
       "raw_ethanol    -0.385720 -0.293351 -0.511995  \n",
       "pressure_hpa_  -0.241148 -0.213390  0.186290  \n",
       "pm1_0           0.949860  0.854901 -0.093700  \n",
       "pm2_5           0.999787  0.969382 -0.083869  \n",
       "nc0_5           0.786274  0.626711 -0.094741  \n",
       "nc1_0           1.000000  0.974249 -0.082898  \n",
       "nc2_5           0.974249  1.000000 -0.069977  \n",
       "cnt            -0.082898 -0.069977  1.000000  "
      ]
     },
     "execution_count": 16,
     "metadata": {},
     "output_type": "execute_result"
    }
   ],
   "source": [
    "corr = df.drop(columns=\"fire_alarm\").corr()\n",
    "corr"
   ]
  },
  {
   "cell_type": "code",
   "execution_count": 17,
   "id": "3f7f465d",
   "metadata": {},
   "outputs": [
    {
     "data": {
      "image/png": "[encoded data removed]",
      "text/plain": [
       "<Figure size 640x480 with 2 Axes>"
      ]
     },
     "metadata": {},
     "output_type": "display_data"
    }
   ],
   "source": [
    "sns.heatmap(corr);"
   ]
  },
  {
   "cell_type": "markdown",
   "id": "32155451",
   "metadata": {},
   "source": [
    "## Data Split (Setting up the validation framework)"
   ]
  },
  {
   "cell_type": "code",
   "execution_count": 18,
   "id": "ecccbee5",
   "metadata": {},
   "outputs": [],
   "source": [
    "target = \"fire_alarm\"\n",
    "X = df.drop(columns=target)\n",
    "y = df[target]"
   ]
  },
  {
   "cell_type": "code",
   "execution_count": 19,
   "id": "056e330f",
   "metadata": {},
   "outputs": [],
   "source": [
    "X_train_full, X_test, y_train_full, y_test = train_test_split(\n",
    "    X, y, test_size=0.2, random_state=42\n",
    ")"
   ]
  },
  {
   "cell_type": "code",
   "execution_count": 20,
   "id": "9f06e1b5",
   "metadata": {},
   "outputs": [],
   "source": [
    "X_train, X_val, y_train, y_val = train_test_split(\n",
    "    X_train_full, y_train_full, test_size=0.25, random_state=42\n",
    ")"
   ]
  },
  {
   "cell_type": "code",
   "execution_count": 21,
   "id": "ce8294da",
   "metadata": {},
   "outputs": [
    {
     "data": {
      "text/plain": [
       "((62630, 13), (37578, 13), (12526, 13), (12526, 13))"
      ]
     },
     "execution_count": 21,
     "metadata": {},
     "output_type": "execute_result"
    }
   ],
   "source": [
    "X.shape, X_train.shape, X_test.shape, X_val.shape"
   ]
  },
  {
   "cell_type": "markdown",
   "id": "c0454fd2",
   "metadata": {},
   "source": [
    "## Build Model\n",
    "\n",
    "### Baseline"
   ]
  },
  {
   "cell_type": "code",
   "execution_count": 22,
   "id": "98558071",
   "metadata": {},
   "outputs": [
    {
     "data": {
      "text/plain": [
       "0.715737931768588"
      ]
     },
     "execution_count": 22,
     "metadata": {},
     "output_type": "execute_result"
    }
   ],
   "source": [
    "y_train.value_counts(normalize=True).max()"
   ]
  },
  {
   "cell_type": "code",
   "execution_count": 23,
   "id": "eda47b40",
   "metadata": {},
   "outputs": [
    {
     "data": {
      "text/html": [
       "<style>#sk-container-id-1 {color: black;background-color: white;}#sk-container-id-1 pre{padding: 0;}#sk-container-id-1 div.sk-toggleable {background-color: white;}#sk-container-id-1 label.sk-toggleable__label {cursor: pointer;display: block;width: 100%;margin-bottom: 0;padding: 0.3em;box-sizing: border-box;text-align: center;}#sk-container-id-1 label.sk-toggleable__label-arrow:before {content: \"▸\";float: left;margin-right: 0.25em;color: #696969;}#sk-container-id-1 label.sk-toggleable__label-arrow:hover:before {color: black;}#sk-container-id-1 div.sk-estimator:hover label.sk-toggleable__label-arrow:before {color: black;}#sk-container-id-1 div.sk-toggleable__content {max-height: 0;max-width: 0;overflow: hidden;text-align: left;background-color: #f0f8ff;}#sk-container-id-1 div.sk-toggleable__content pre {margin: 0.2em;color: black;border-radius: 0.25em;background-color: #f0f8ff;}#sk-container-id-1 input.sk-toggleable__control:checked~div.sk-toggleable__content {max-height: 200px;max-width: 100%;overflow: auto;}#sk-container-id-1 input.sk-toggleable__control:checked~label.sk-toggleable__label-arrow:before {content: \"▾\";}#sk-container-id-1 div.sk-estimator input.sk-toggleable__control:checked~label.sk-toggleable__label {background-color: #d4ebff;}#sk-container-id-1 div.sk-label input.sk-toggleable__control:checked~label.sk-toggleable__label {background-color: #d4ebff;}#sk-container-id-1 input.sk-hidden--visually {border: 0;clip: rect(1px 1px 1px 1px);clip: rect(1px, 1px, 1px, 1px);height: 1px;margin: -1px;overflow: hidden;padding: 0;position: absolute;width: 1px;}#sk-container-id-1 div.sk-estimator {font-family: monospace;background-color: #f0f8ff;border: 1px dotted black;border-radius: 0.25em;box-sizing: border-box;margin-bottom: 0.5em;}#sk-container-id-1 div.sk-estimator:hover {background-color: #d4ebff;}#sk-container-id-1 div.sk-parallel-item::after {content: \"\";width: 100%;border-bottom: 1px solid gray;flex-grow: 1;}#sk-container-id-1 div.sk-label:hover label.sk-toggleable__label {background-color: #d4ebff;}#sk-container-id-1 div.sk-serial::before {content: \"\";position: absolute;border-left: 1px solid gray;box-sizing: border-box;top: 0;bottom: 0;left: 50%;z-index: 0;}#sk-container-id-1 div.sk-serial {display: flex;flex-direction: column;align-items: center;background-color: white;padding-right: 0.2em;padding-left: 0.2em;position: relative;}#sk-container-id-1 div.sk-item {position: relative;z-index: 1;}#sk-container-id-1 div.sk-parallel {display: flex;align-items: stretch;justify-content: center;background-color: white;position: relative;}#sk-container-id-1 div.sk-item::before, #sk-container-id-1 div.sk-parallel-item::before {content: \"\";position: absolute;border-left: 1px solid gray;box-sizing: border-box;top: 0;bottom: 0;left: 50%;z-index: -1;}#sk-container-id-1 div.sk-parallel-item {display: flex;flex-direction: column;z-index: 1;position: relative;background-color: white;}#sk-container-id-1 div.sk-parallel-item:first-child::after {align-self: flex-end;width: 50%;}#sk-container-id-1 div.sk-parallel-item:last-child::after {align-self: flex-start;width: 50%;}#sk-container-id-1 div.sk-parallel-item:only-child::after {width: 0;}#sk-container-id-1 div.sk-dashed-wrapped {border: 1px dashed gray;margin: 0 0.4em 0.5em 0.4em;box-sizing: border-box;padding-bottom: 0.4em;background-color: white;}#sk-container-id-1 div.sk-label label {font-family: monospace;font-weight: bold;display: inline-block;line-height: 1.2em;}#sk-container-id-1 div.sk-label-container {text-align: center;}#sk-container-id-1 div.sk-container {/* jupyter's `normalize.less` sets `[hidden] { display: none; }` but bootstrap.min.css set `[hidden] { display: none !important; }` so we also need the `!important` here to be able to override the default hidden behavior on the sphinx rendered scikit-learn.org. See: https://github.com/scikit-learn/scikit-learn/issues/21755 */display: inline-block !important;position: relative;}#sk-container-id-1 div.sk-text-repr-fallback {display: none;}</style><div id=\"sk-container-id-1\" class=\"sk-top-container\"><div class=\"sk-text-repr-fallback\"><pre>DummyClassifier(random_state=42, strategy=&#x27;most_frequent&#x27;)</pre><b>In a Jupyter environment, please rerun this cell to show the HTML representation or trust the notebook. <br />On GitHub, the HTML representation is unable to render, please try loading this page with nbviewer.org.</b></div><div class=\"sk-container\" hidden><div class=\"sk-item\"><div class=\"sk-estimator sk-toggleable\"><input class=\"sk-toggleable__control sk-hidden--visually\" id=\"sk-estimator-id-1\" type=\"checkbox\" checked><label for=\"sk-estimator-id-1\" class=\"sk-toggleable__label sk-toggleable__label-arrow\">DummyClassifier</label><div class=\"sk-toggleable__content\"><pre>DummyClassifier(random_state=42, strategy=&#x27;most_frequent&#x27;)</pre></div></div></div></div></div>"
      ],
      "text/plain": [
       "DummyClassifier(random_state=42, strategy='most_frequent')"
      ]
     },
     "execution_count": 23,
     "metadata": {},
     "output_type": "execute_result"
    }
   ],
   "source": [
    "dummy_model = DummyClassifier(strategy=\"most_frequent\", random_state=42)\n",
    "dummy_model.fit(X_train, y_train)"
   ]
  },
  {
   "cell_type": "code",
   "execution_count": 24,
   "id": "502173af",
   "metadata": {},
   "outputs": [
    {
     "data": {
      "text/plain": [
       "0.7130768002554686"
      ]
     },
     "execution_count": 24,
     "metadata": {},
     "output_type": "execute_result"
    }
   ],
   "source": [
    "dummy_model.score(X_test, y_test)"
   ]
  },
  {
   "cell_type": "markdown",
   "id": "b92f6b12",
   "metadata": {},
   "source": [
    "We see that our baseline model has an accuracy of 71% if it were to predict the most frequent value all the time."
   ]
  },
  {
   "cell_type": "markdown",
   "id": "daa130a2",
   "metadata": {},
   "source": [
    "### Iterate and Evaluate\n",
    "\n",
    "- Train and select the best performant model.\n",
    "- Using StandardScaler transformer so that the features have a standard scale."
   ]
  },
  {
   "cell_type": "markdown",
   "id": "07d18d22",
   "metadata": {},
   "source": [
    "#### Logistic Regression"
   ]
  },
  {
   "cell_type": "code",
   "execution_count": 25,
   "id": "48d7c202",
   "metadata": {},
   "outputs": [
    {
     "data": {
      "text/html": [
       "<style>#sk-container-id-2 {color: black;background-color: white;}#sk-container-id-2 pre{padding: 0;}#sk-container-id-2 div.sk-toggleable {background-color: white;}#sk-container-id-2 label.sk-toggleable__label {cursor: pointer;display: block;width: 100%;margin-bottom: 0;padding: 0.3em;box-sizing: border-box;text-align: center;}#sk-container-id-2 label.sk-toggleable__label-arrow:before {content: \"▸\";float: left;margin-right: 0.25em;color: #696969;}#sk-container-id-2 label.sk-toggleable__label-arrow:hover:before {color: black;}#sk-container-id-2 div.sk-estimator:hover label.sk-toggleable__label-arrow:before {color: black;}#sk-container-id-2 div.sk-toggleable__content {max-height: 0;max-width: 0;overflow: hidden;text-align: left;background-color: #f0f8ff;}#sk-container-id-2 div.sk-toggleable__content pre {margin: 0.2em;color: black;border-radius: 0.25em;background-color: #f0f8ff;}#sk-container-id-2 input.sk-toggleable__control:checked~div.sk-toggleable__content {max-height: 200px;max-width: 100%;overflow: auto;}#sk-container-id-2 input.sk-toggleable__control:checked~label.sk-toggleable__label-arrow:before {content: \"▾\";}#sk-container-id-2 div.sk-estimator input.sk-toggleable__control:checked~label.sk-toggleable__label {background-color: #d4ebff;}#sk-container-id-2 div.sk-label input.sk-toggleable__control:checked~label.sk-toggleable__label {background-color: #d4ebff;}#sk-container-id-2 input.sk-hidden--visually {border: 0;clip: rect(1px 1px 1px 1px);clip: rect(1px, 1px, 1px, 1px);height: 1px;margin: -1px;overflow: hidden;padding: 0;position: absolute;width: 1px;}#sk-container-id-2 div.sk-estimator {font-family: monospace;background-color: #f0f8ff;border: 1px dotted black;border-radius: 0.25em;box-sizing: border-box;margin-bottom: 0.5em;}#sk-container-id-2 div.sk-estimator:hover {background-color: #d4ebff;}#sk-container-id-2 div.sk-parallel-item::after {content: \"\";width: 100%;border-bottom: 1px solid gray;flex-grow: 1;}#sk-container-id-2 div.sk-label:hover label.sk-toggleable__label {background-color: #d4ebff;}#sk-container-id-2 div.sk-serial::before {content: \"\";position: absolute;border-left: 1px solid gray;box-sizing: border-box;top: 0;bottom: 0;left: 50%;z-index: 0;}#sk-container-id-2 div.sk-serial {display: flex;flex-direction: column;align-items: center;background-color: white;padding-right: 0.2em;padding-left: 0.2em;position: relative;}#sk-container-id-2 div.sk-item {position: relative;z-index: 1;}#sk-container-id-2 div.sk-parallel {display: flex;align-items: stretch;justify-content: center;background-color: white;position: relative;}#sk-container-id-2 div.sk-item::before, #sk-container-id-2 div.sk-parallel-item::before {content: \"\";position: absolute;border-left: 1px solid gray;box-sizing: border-box;top: 0;bottom: 0;left: 50%;z-index: -1;}#sk-container-id-2 div.sk-parallel-item {display: flex;flex-direction: column;z-index: 1;position: relative;background-color: white;}#sk-container-id-2 div.sk-parallel-item:first-child::after {align-self: flex-end;width: 50%;}#sk-container-id-2 div.sk-parallel-item:last-child::after {align-self: flex-start;width: 50%;}#sk-container-id-2 div.sk-parallel-item:only-child::after {width: 0;}#sk-container-id-2 div.sk-dashed-wrapped {border: 1px dashed gray;margin: 0 0.4em 0.5em 0.4em;box-sizing: border-box;padding-bottom: 0.4em;background-color: white;}#sk-container-id-2 div.sk-label label {font-family: monospace;font-weight: bold;display: inline-block;line-height: 1.2em;}#sk-container-id-2 div.sk-label-container {text-align: center;}#sk-container-id-2 div.sk-container {/* jupyter's `normalize.less` sets `[hidden] { display: none; }` but bootstrap.min.css set `[hidden] { display: none !important; }` so we also need the `!important` here to be able to override the default hidden behavior on the sphinx rendered scikit-learn.org. See: https://github.com/scikit-learn/scikit-learn/issues/21755 */display: inline-block !important;position: relative;}#sk-container-id-2 div.sk-text-repr-fallback {display: none;}</style><div id=\"sk-container-id-2\" class=\"sk-top-container\"><div class=\"sk-text-repr-fallback\"><pre>Pipeline(steps=[(&#x27;standardscaler&#x27;, StandardScaler()),\n",
       "                (&#x27;logisticregression&#x27;,\n",
       "                 LogisticRegression(max_iter=1000, random_state=42))])</pre><b>In a Jupyter environment, please rerun this cell to show the HTML representation or trust the notebook. <br />On GitHub, the HTML representation is unable to render, please try loading this page with nbviewer.org.</b></div><div class=\"sk-container\" hidden><div class=\"sk-item sk-dashed-wrapped\"><div class=\"sk-label-container\"><div class=\"sk-label sk-toggleable\"><input class=\"sk-toggleable__control sk-hidden--visually\" id=\"sk-estimator-id-2\" type=\"checkbox\" ><label for=\"sk-estimator-id-2\" class=\"sk-toggleable__label sk-toggleable__label-arrow\">Pipeline</label><div class=\"sk-toggleable__content\"><pre>Pipeline(steps=[(&#x27;standardscaler&#x27;, StandardScaler()),\n",
       "                (&#x27;logisticregression&#x27;,\n",
       "                 LogisticRegression(max_iter=1000, random_state=42))])</pre></div></div></div><div class=\"sk-serial\"><div class=\"sk-item\"><div class=\"sk-estimator sk-toggleable\"><input class=\"sk-toggleable__control sk-hidden--visually\" id=\"sk-estimator-id-3\" type=\"checkbox\" ><label for=\"sk-estimator-id-3\" class=\"sk-toggleable__label sk-toggleable__label-arrow\">StandardScaler</label><div class=\"sk-toggleable__content\"><pre>StandardScaler()</pre></div></div></div><div class=\"sk-item\"><div class=\"sk-estimator sk-toggleable\"><input class=\"sk-toggleable__control sk-hidden--visually\" id=\"sk-estimator-id-4\" type=\"checkbox\" ><label for=\"sk-estimator-id-4\" class=\"sk-toggleable__label sk-toggleable__label-arrow\">LogisticRegression</label><div class=\"sk-toggleable__content\"><pre>LogisticRegression(max_iter=1000, random_state=42)</pre></div></div></div></div></div></div></div>"
      ],
      "text/plain": [
       "Pipeline(steps=[('standardscaler', StandardScaler()),\n",
       "                ('logisticregression',\n",
       "                 LogisticRegression(max_iter=1000, random_state=42))])"
      ]
     },
     "execution_count": 25,
     "metadata": {},
     "output_type": "execute_result"
    }
   ],
   "source": [
    "lg_model = make_pipeline(\n",
    "    StandardScaler(),\n",
    "    LogisticRegression(max_iter=1000, random_state=42)\n",
    ")\n",
    "lg_model.fit(X_train, y_train)"
   ]
  },
  {
   "cell_type": "code",
   "execution_count": 26,
   "id": "e1cf2744",
   "metadata": {},
   "outputs": [
    {
     "data": {
      "text/plain": [
       "array([1, 1, 0, 1, 1, 1, 0, 1, 1, 0])"
      ]
     },
     "execution_count": 26,
     "metadata": {},
     "output_type": "execute_result"
    }
   ],
   "source": [
    "lg_model.predict(X_test[:10])"
   ]
  },
  {
   "cell_type": "code",
   "execution_count": 27,
   "id": "3fba9526",
   "metadata": {},
   "outputs": [
    {
     "data": {
      "text/plain": [
       "[1, 1, 0, 1, 1, 1, 0, 1, 1, 0]"
      ]
     },
     "execution_count": 27,
     "metadata": {},
     "output_type": "execute_result"
    }
   ],
   "source": [
    "list(y_test.iloc[:10])"
   ]
  },
  {
   "cell_type": "code",
   "execution_count": 28,
   "id": "d442e15c",
   "metadata": {},
   "outputs": [
    {
     "data": {
      "text/plain": [
       "0.9902602586619831"
      ]
     },
     "execution_count": 28,
     "metadata": {},
     "output_type": "execute_result"
    }
   ],
   "source": [
    "lg_model.score(X_test, y_test)"
   ]
  },
  {
   "cell_type": "code",
   "execution_count": 29,
   "id": "c704573a",
   "metadata": {},
   "outputs": [
    {
     "data": {
      "text/plain": [
       "0.9902602586619831"
      ]
     },
     "execution_count": 29,
     "metadata": {},
     "output_type": "execute_result"
    }
   ],
   "source": [
    "accuracy_score(y_test, lg_model.predict(X_test))"
   ]
  },
  {
   "cell_type": "code",
   "execution_count": 30,
   "id": "70aebda3",
   "metadata": {},
   "outputs": [
    {
     "data": {
      "text/plain": [
       "0.9876000915592764"
      ]
     },
     "execution_count": 30,
     "metadata": {},
     "output_type": "execute_result"
    }
   ],
   "source": [
    "roc_auc_score(y_test, lg_model.predict(X_test))"
   ]
  },
  {
   "cell_type": "code",
   "execution_count": 31,
   "id": "471a3a00",
   "metadata": {},
   "outputs": [
    {
     "data": {
      "text/plain": [
       "0.9905795944435574"
      ]
     },
     "execution_count": 31,
     "metadata": {},
     "output_type": "execute_result"
    }
   ],
   "source": [
    "# validate and generalize\n",
    "lg_model.score(X_val, y_val)"
   ]
  },
  {
   "cell_type": "code",
   "execution_count": 32,
   "id": "e85466b0",
   "metadata": {},
   "outputs": [
    {
     "data": {
      "text/plain": [
       "0.9905795944435574"
      ]
     },
     "execution_count": 32,
     "metadata": {},
     "output_type": "execute_result"
    }
   ],
   "source": [
    "accuracy_score(y_val, lg_model.predict(X_val))"
   ]
  },
  {
   "cell_type": "code",
   "execution_count": 33,
   "id": "a3ec335c",
   "metadata": {},
   "outputs": [
    {
     "data": {
      "text/plain": [
       "0.9879138278426856"
      ]
     },
     "execution_count": 33,
     "metadata": {},
     "output_type": "execute_result"
    }
   ],
   "source": [
    "roc_auc_score(y_val, lg_model.predict(X_val))"
   ]
  },
  {
   "cell_type": "markdown",
   "id": "c51743dc",
   "metadata": {},
   "source": [
    "Our logistic classification model performs way more better that the base by more than 20%"
   ]
  },
  {
   "cell_type": "markdown",
   "id": "3e5e234b",
   "metadata": {},
   "source": [
    "#### Cross validation"
   ]
  },
  {
   "cell_type": "code",
   "execution_count": 34,
   "id": "7b8a9a92",
   "metadata": {},
   "outputs": [
    {
     "data": {
      "text/plain": [
       "{'fit_time': array([0.19474888, 0.30971503, 0.32571125, 0.22951198, 0.14888287]),\n",
       " 'score_time': array([0.00330591, 0.00389099, 0.00307584, 0.00311399, 0.0031662 ]),\n",
       " 'test_score': array([0.93804886, 0.99704614, 0.83202938, 0.99225611, 0.91018681])}"
      ]
     },
     "execution_count": 34,
     "metadata": {},
     "output_type": "execute_result"
    }
   ],
   "source": [
    "cv_result = cross_validate(lg_model, X, y, cv=5)\n",
    "cv_result"
   ]
  },
  {
   "cell_type": "code",
   "execution_count": 35,
   "id": "76748e16",
   "metadata": {},
   "outputs": [
    {
     "name": "stdout",
     "output_type": "stream",
     "text": [
      "The mean cross-validation accuracy is: 0.934 +/- 0.061\n"
     ]
    }
   ],
   "source": [
    "scores = cv_result[\"test_score\"]\n",
    "print(\n",
    "    \"The mean cross-validation accuracy is: \"\n",
    "    f\"{scores.mean():.3f} +/- {scores.std():.3f}\"\n",
    ")"
   ]
  },
  {
   "cell_type": "markdown",
   "id": "bd4b003d",
   "metadata": {},
   "source": [
    "#### Descision Tree"
   ]
  },
  {
   "cell_type": "code",
   "execution_count": 36,
   "id": "900b0cfb",
   "metadata": {},
   "outputs": [
    {
     "name": "stdout",
     "output_type": "stream",
     "text": [
      "Training Accuracy Scores: [0.8990100590771196, 0.975836925860876, 0.9868007876949279, 1.0, 1.0, 1.0, 1.0, 1.0, 1.0, 1.0]\n",
      "Validation Accuracy Scores: [0.9024429187290436, 0.9751716429825962, 0.9869870669008463, 1.0, 1.0, 1.0, 1.0, 1.0, 1.0, 1.0]\n"
     ]
    }
   ],
   "source": [
    "depth_hyperparams = range(1, 50, 2)\n",
    "# Create empty lists for training and validation accuracy scores\n",
    "training_acc = []\n",
    "validation_acc = []\n",
    "\n",
    "for d in depth_hyperparams:\n",
    "    # Create model with `max_depth` of `d`\n",
    "    dt_model = make_pipeline(\n",
    "        StandardScaler(),\n",
    "        DecisionTreeClassifier(max_depth=d, random_state=42)\n",
    "    )\n",
    "    # Fit model to training data\n",
    "    dt_model.fit(X_train, y_train)\n",
    "    # Calculate training accuracy score and append to `training_acc`\n",
    "    training_acc.append(dt_model.score(X_train, y_train))\n",
    "    # Calculate validation accuracy score and append to `training_acc`\n",
    "    validation_acc.append(dt_model.score(X_val, y_val))\n",
    "\n",
    "print(\"Training Accuracy Scores:\", training_acc[:10])\n",
    "print(\"Validation Accuracy Scores:\", validation_acc[:10])"
   ]
  },
  {
   "cell_type": "code",
   "execution_count": 37,
   "id": "88ec722f",
   "metadata": {},
   "outputs": [
    {
     "data": {
      "image/png": "[encoded data removed]",
      "text/plain": [
       "<Figure size 640x480 with 1 Axes>"
      ]
     },
     "metadata": {},
     "output_type": "display_data"
    }
   ],
   "source": [
    "# Plot `depth_hyperparams`, `training_acc`\n",
    "plt.plot(depth_hyperparams, training_acc, label=\"training\")\n",
    "plt.plot(depth_hyperparams, validation_acc, label=\"validation\")\n",
    "plt.xlabel(\"Max Depth\")\n",
    "plt.ylabel(\"Accuracy Score\")\n",
    "plt.legend();"
   ]
  },
  {
   "cell_type": "code",
   "execution_count": 38,
   "id": "80a4085d",
   "metadata": {},
   "outputs": [
    {
     "data": {
      "text/html": [
       "<style>#sk-container-id-3 {color: black;background-color: white;}#sk-container-id-3 pre{padding: 0;}#sk-container-id-3 div.sk-toggleable {background-color: white;}#sk-container-id-3 label.sk-toggleable__label {cursor: pointer;display: block;width: 100%;margin-bottom: 0;padding: 0.3em;box-sizing: border-box;text-align: center;}#sk-container-id-3 label.sk-toggleable__label-arrow:before {content: \"▸\";float: left;margin-right: 0.25em;color: #696969;}#sk-container-id-3 label.sk-toggleable__label-arrow:hover:before {color: black;}#sk-container-id-3 div.sk-estimator:hover label.sk-toggleable__label-arrow:before {color: black;}#sk-container-id-3 div.sk-toggleable__content {max-height: 0;max-width: 0;overflow: hidden;text-align: left;background-color: #f0f8ff;}#sk-container-id-3 div.sk-toggleable__content pre {margin: 0.2em;color: black;border-radius: 0.25em;background-color: #f0f8ff;}#sk-container-id-3 input.sk-toggleable__control:checked~div.sk-toggleable__content {max-height: 200px;max-width: 100%;overflow: auto;}#sk-container-id-3 input.sk-toggleable__control:checked~label.sk-toggleable__label-arrow:before {content: \"▾\";}#sk-container-id-3 div.sk-estimator input.sk-toggleable__control:checked~label.sk-toggleable__label {background-color: #d4ebff;}#sk-container-id-3 div.sk-label input.sk-toggleable__control:checked~label.sk-toggleable__label {background-color: #d4ebff;}#sk-container-id-3 input.sk-hidden--visually {border: 0;clip: rect(1px 1px 1px 1px);clip: rect(1px, 1px, 1px, 1px);height: 1px;margin: -1px;overflow: hidden;padding: 0;position: absolute;width: 1px;}#sk-container-id-3 div.sk-estimator {font-family: monospace;background-color: #f0f8ff;border: 1px dotted black;border-radius: 0.25em;box-sizing: border-box;margin-bottom: 0.5em;}#sk-container-id-3 div.sk-estimator:hover {background-color: #d4ebff;}#sk-container-id-3 div.sk-parallel-item::after {content: \"\";width: 100%;border-bottom: 1px solid gray;flex-grow: 1;}#sk-container-id-3 div.sk-label:hover label.sk-toggleable__label {background-color: #d4ebff;}#sk-container-id-3 div.sk-serial::before {content: \"\";position: absolute;border-left: 1px solid gray;box-sizing: border-box;top: 0;bottom: 0;left: 50%;z-index: 0;}#sk-container-id-3 div.sk-serial {display: flex;flex-direction: column;align-items: center;background-color: white;padding-right: 0.2em;padding-left: 0.2em;position: relative;}#sk-container-id-3 div.sk-item {position: relative;z-index: 1;}#sk-container-id-3 div.sk-parallel {display: flex;align-items: stretch;justify-content: center;background-color: white;position: relative;}#sk-container-id-3 div.sk-item::before, #sk-container-id-3 div.sk-parallel-item::before {content: \"\";position: absolute;border-left: 1px solid gray;box-sizing: border-box;top: 0;bottom: 0;left: 50%;z-index: -1;}#sk-container-id-3 div.sk-parallel-item {display: flex;flex-direction: column;z-index: 1;position: relative;background-color: white;}#sk-container-id-3 div.sk-parallel-item:first-child::after {align-self: flex-end;width: 50%;}#sk-container-id-3 div.sk-parallel-item:last-child::after {align-self: flex-start;width: 50%;}#sk-container-id-3 div.sk-parallel-item:only-child::after {width: 0;}#sk-container-id-3 div.sk-dashed-wrapped {border: 1px dashed gray;margin: 0 0.4em 0.5em 0.4em;box-sizing: border-box;padding-bottom: 0.4em;background-color: white;}#sk-container-id-3 div.sk-label label {font-family: monospace;font-weight: bold;display: inline-block;line-height: 1.2em;}#sk-container-id-3 div.sk-label-container {text-align: center;}#sk-container-id-3 div.sk-container {/* jupyter's `normalize.less` sets `[hidden] { display: none; }` but bootstrap.min.css set `[hidden] { display: none !important; }` so we also need the `!important` here to be able to override the default hidden behavior on the sphinx rendered scikit-learn.org. See: https://github.com/scikit-learn/scikit-learn/issues/21755 */display: inline-block !important;position: relative;}#sk-container-id-3 div.sk-text-repr-fallback {display: none;}</style><div id=\"sk-container-id-3\" class=\"sk-top-container\"><div class=\"sk-text-repr-fallback\"><pre>Pipeline(steps=[(&#x27;standardscaler&#x27;, StandardScaler()),\n",
       "                (&#x27;decisiontreeclassifier&#x27;,\n",
       "                 DecisionTreeClassifier(max_depth=6, random_state=42))])</pre><b>In a Jupyter environment, please rerun this cell to show the HTML representation or trust the notebook. <br />On GitHub, the HTML representation is unable to render, please try loading this page with nbviewer.org.</b></div><div class=\"sk-container\" hidden><div class=\"sk-item sk-dashed-wrapped\"><div class=\"sk-label-container\"><div class=\"sk-label sk-toggleable\"><input class=\"sk-toggleable__control sk-hidden--visually\" id=\"sk-estimator-id-5\" type=\"checkbox\" ><label for=\"sk-estimator-id-5\" class=\"sk-toggleable__label sk-toggleable__label-arrow\">Pipeline</label><div class=\"sk-toggleable__content\"><pre>Pipeline(steps=[(&#x27;standardscaler&#x27;, StandardScaler()),\n",
       "                (&#x27;decisiontreeclassifier&#x27;,\n",
       "                 DecisionTreeClassifier(max_depth=6, random_state=42))])</pre></div></div></div><div class=\"sk-serial\"><div class=\"sk-item\"><div class=\"sk-estimator sk-toggleable\"><input class=\"sk-toggleable__control sk-hidden--visually\" id=\"sk-estimator-id-6\" type=\"checkbox\" ><label for=\"sk-estimator-id-6\" class=\"sk-toggleable__label sk-toggleable__label-arrow\">StandardScaler</label><div class=\"sk-toggleable__content\"><pre>StandardScaler()</pre></div></div></div><div class=\"sk-item\"><div class=\"sk-estimator sk-toggleable\"><input class=\"sk-toggleable__control sk-hidden--visually\" id=\"sk-estimator-id-7\" type=\"checkbox\" ><label for=\"sk-estimator-id-7\" class=\"sk-toggleable__label sk-toggleable__label-arrow\">DecisionTreeClassifier</label><div class=\"sk-toggleable__content\"><pre>DecisionTreeClassifier(max_depth=6, random_state=42)</pre></div></div></div></div></div></div></div>"
      ],
      "text/plain": [
       "Pipeline(steps=[('standardscaler', StandardScaler()),\n",
       "                ('decisiontreeclassifier',\n",
       "                 DecisionTreeClassifier(max_depth=6, random_state=42))])"
      ]
     },
     "execution_count": 38,
     "metadata": {},
     "output_type": "execute_result"
    }
   ],
   "source": [
    "dt_model = make_pipeline(\n",
    "        StandardScaler(),\n",
    "        DecisionTreeClassifier(max_depth=6, random_state=42)\n",
    "    )\n",
    "# Fit model to training data\n",
    "dt_model.fit(X_train, y_train)"
   ]
  },
  {
   "cell_type": "code",
   "execution_count": 39,
   "id": "a84003b7",
   "metadata": {},
   "outputs": [
    {
     "data": {
      "text/plain": [
       "1.0"
      ]
     },
     "execution_count": 39,
     "metadata": {},
     "output_type": "execute_result"
    }
   ],
   "source": [
    "accuracy_score(y_test, dt_model.predict(X_test))"
   ]
  },
  {
   "cell_type": "code",
   "execution_count": 40,
   "id": "09bbd28a",
   "metadata": {},
   "outputs": [
    {
     "data": {
      "text/plain": [
       "0.9998403321092129"
      ]
     },
     "execution_count": 40,
     "metadata": {},
     "output_type": "execute_result"
    }
   ],
   "source": [
    "# validate and generalize\n",
    "accuracy_score(y_val, dt_model.predict(X_val))"
   ]
  },
  {
   "cell_type": "code",
   "execution_count": 41,
   "id": "c15f57d5",
   "metadata": {},
   "outputs": [
    {
     "data": {
      "text/plain": [
       "0.999888005375742"
      ]
     },
     "execution_count": 41,
     "metadata": {},
     "output_type": "execute_result"
    }
   ],
   "source": [
    "roc_auc_score(y_val, dt_model.predict(X_val))"
   ]
  },
  {
   "cell_type": "code",
   "execution_count": 42,
   "id": "6ad9845a",
   "metadata": {},
   "outputs": [
    {
     "data": {
      "text/plain": [
       "{'fit_time': array([0.10738587, 0.09153414, 0.08547306, 0.10146093, 0.07234812]),\n",
       " 'score_time': array([0.00351405, 0.0035913 , 0.0035038 , 0.00342679, 0.003407  ]),\n",
       " 'test_score': array([0.99840332, 0.99712598, 0.7951461 , 1.        , 0.91018681])}"
      ]
     },
     "execution_count": 42,
     "metadata": {},
     "output_type": "execute_result"
    }
   ],
   "source": [
    "cv_result = cross_validate(dt_model, X, y, cv=5)\n",
    "cv_result"
   ]
  },
  {
   "cell_type": "code",
   "execution_count": 43,
   "id": "b9db08ad",
   "metadata": {},
   "outputs": [
    {
     "name": "stdout",
     "output_type": "stream",
     "text": [
      "The mean cross-validation accuracy is: 0.940 +/- 0.080\n"
     ]
    }
   ],
   "source": [
    "scores = cv_result[\"test_score\"]\n",
    "print(\n",
    "    \"The mean cross-validation accuracy is: \"\n",
    "    f\"{scores.mean():.3f} +/- {scores.std():.3f}\"\n",
    ")"
   ]
  },
  {
   "cell_type": "markdown",
   "id": "ce9628f1",
   "metadata": {},
   "source": [
    "The Decision tree model also performs better than the logistic model"
   ]
  },
  {
   "cell_type": "markdown",
   "id": "059f5f7d",
   "metadata": {},
   "source": [
    "#### Random Forest"
   ]
  },
  {
   "cell_type": "code",
   "execution_count": 44,
   "id": "403830eb",
   "metadata": {},
   "outputs": [
    {
     "name": "stdout",
     "output_type": "stream",
     "text": [
      "Training Accuracy Scores: [0.9999733886848688, 1.0, 1.0, 1.0, 1.0, 1.0, 1.0, 1.0, 1.0, 1.0]\n",
      "Validation Accuracy Scores: [0.9998403321092129, 0.9999201660546064, 0.9999201660546064, 0.9999201660546064, 0.9999201660546064, 1.0, 1.0, 1.0, 1.0, 1.0]\n"
     ]
    }
   ],
   "source": [
    "training_acc = []\n",
    "validation_acc = []\n",
    "for n in range(10, 201, 10):\n",
    "    rf_model = make_pipeline(\n",
    "        StandardScaler(),\n",
    "        RandomForestClassifier(n_estimators=n, random_state=42)\n",
    "    )\n",
    "    # Fit model to training data\n",
    "    rf_model.fit(X_train, y_train)\n",
    "    # Calculate training accuracy score and append to `training_acc`\n",
    "    training_acc.append(rf_model.score(X_train, y_train))\n",
    "    # Calculate validation accuracy score and append to `training_acc`\n",
    "    validation_acc.append(rf_model.score(X_val, y_val))\n",
    "\n",
    "print(\"Training Accuracy Scores:\", training_acc[:10])\n",
    "print(\"Validation Accuracy Scores:\", validation_acc[:10])"
   ]
  },
  {
   "cell_type": "code",
   "execution_count": 45,
   "id": "8dfcb0c0",
   "metadata": {},
   "outputs": [
    {
     "name": "stdout",
     "output_type": "stream",
     "text": [
      "Training Accuracy Scores: [0.8743945925807654, 0.9996274415881633, 0.9998137207940816, 0.9999733886848688, 1.0, 1.0, 1.0, 1.0, 1.0, 1.0]\n",
      "Validation Accuracy Scores: [0.8784927351109691, 0.9995209963276385, 0.9996008302730321, 0.9998403321092129, 0.9999201660546064, 0.9999201660546064, 0.9999201660546064, 0.9999201660546064, 0.9999201660546064, 0.9999201660546064]\n"
     ]
    }
   ],
   "source": [
    "training_acc = []\n",
    "validation_acc = []\n",
    "for d in depth_hyperparams:\n",
    "    rf_model = make_pipeline(\n",
    "        StandardScaler(),\n",
    "        RandomForestClassifier(n_estimators=25, max_depth=d, random_state=42)\n",
    "    )\n",
    "    # Fit model to training data\n",
    "    rf_model.fit(X_train, y_train)\n",
    "    # Calculate training accuracy score and append to `training_acc`\n",
    "    training_acc.append(rf_model.score(X_train, y_train))\n",
    "    # Calculate validation accuracy score and append to `training_acc`\n",
    "    validation_acc.append(rf_model.score(X_val, y_val))\n",
    "\n",
    "print(\"Training Accuracy Scores:\", training_acc[:10])\n",
    "print(\"Validation Accuracy Scores:\", validation_acc[:10])"
   ]
  },
  {
   "cell_type": "code",
   "execution_count": 46,
   "id": "cd1a0a82",
   "metadata": {},
   "outputs": [
    {
     "data": {
      "image/png": "[encoded data removed]",
      "text/plain": [
       "<Figure size 640x480 with 1 Axes>"
      ]
     },
     "metadata": {},
     "output_type": "display_data"
    }
   ],
   "source": [
    "# Plot `depth_hyperparams`, `training_acc`\n",
    "plt.plot(depth_hyperparams, training_acc, label=\"training\")\n",
    "plt.plot(depth_hyperparams, validation_acc, label=\"validation\")\n",
    "plt.xlabel(\"Max Depth\")\n",
    "plt.ylabel(\"Accuracy Score\")\n",
    "plt.legend();"
   ]
  },
  {
   "cell_type": "code",
   "execution_count": 47,
   "id": "758f659a",
   "metadata": {},
   "outputs": [
    {
     "data": {
      "text/html": [
       "<style>#sk-container-id-4 {color: black;background-color: white;}#sk-container-id-4 pre{padding: 0;}#sk-container-id-4 div.sk-toggleable {background-color: white;}#sk-container-id-4 label.sk-toggleable__label {cursor: pointer;display: block;width: 100%;margin-bottom: 0;padding: 0.3em;box-sizing: border-box;text-align: center;}#sk-container-id-4 label.sk-toggleable__label-arrow:before {content: \"▸\";float: left;margin-right: 0.25em;color: #696969;}#sk-container-id-4 label.sk-toggleable__label-arrow:hover:before {color: black;}#sk-container-id-4 div.sk-estimator:hover label.sk-toggleable__label-arrow:before {color: black;}#sk-container-id-4 div.sk-toggleable__content {max-height: 0;max-width: 0;overflow: hidden;text-align: left;background-color: #f0f8ff;}#sk-container-id-4 div.sk-toggleable__content pre {margin: 0.2em;color: black;border-radius: 0.25em;background-color: #f0f8ff;}#sk-container-id-4 input.sk-toggleable__control:checked~div.sk-toggleable__content {max-height: 200px;max-width: 100%;overflow: auto;}#sk-container-id-4 input.sk-toggleable__control:checked~label.sk-toggleable__label-arrow:before {content: \"▾\";}#sk-container-id-4 div.sk-estimator input.sk-toggleable__control:checked~label.sk-toggleable__label {background-color: #d4ebff;}#sk-container-id-4 div.sk-label input.sk-toggleable__control:checked~label.sk-toggleable__label {background-color: #d4ebff;}#sk-container-id-4 input.sk-hidden--visually {border: 0;clip: rect(1px 1px 1px 1px);clip: rect(1px, 1px, 1px, 1px);height: 1px;margin: -1px;overflow: hidden;padding: 0;position: absolute;width: 1px;}#sk-container-id-4 div.sk-estimator {font-family: monospace;background-color: #f0f8ff;border: 1px dotted black;border-radius: 0.25em;box-sizing: border-box;margin-bottom: 0.5em;}#sk-container-id-4 div.sk-estimator:hover {background-color: #d4ebff;}#sk-container-id-4 div.sk-parallel-item::after {content: \"\";width: 100%;border-bottom: 1px solid gray;flex-grow: 1;}#sk-container-id-4 div.sk-label:hover label.sk-toggleable__label {background-color: #d4ebff;}#sk-container-id-4 div.sk-serial::before {content: \"\";position: absolute;border-left: 1px solid gray;box-sizing: border-box;top: 0;bottom: 0;left: 50%;z-index: 0;}#sk-container-id-4 div.sk-serial {display: flex;flex-direction: column;align-items: center;background-color: white;padding-right: 0.2em;padding-left: 0.2em;position: relative;}#sk-container-id-4 div.sk-item {position: relative;z-index: 1;}#sk-container-id-4 div.sk-parallel {display: flex;align-items: stretch;justify-content: center;background-color: white;position: relative;}#sk-container-id-4 div.sk-item::before, #sk-container-id-4 div.sk-parallel-item::before {content: \"\";position: absolute;border-left: 1px solid gray;box-sizing: border-box;top: 0;bottom: 0;left: 50%;z-index: -1;}#sk-container-id-4 div.sk-parallel-item {display: flex;flex-direction: column;z-index: 1;position: relative;background-color: white;}#sk-container-id-4 div.sk-parallel-item:first-child::after {align-self: flex-end;width: 50%;}#sk-container-id-4 div.sk-parallel-item:last-child::after {align-self: flex-start;width: 50%;}#sk-container-id-4 div.sk-parallel-item:only-child::after {width: 0;}#sk-container-id-4 div.sk-dashed-wrapped {border: 1px dashed gray;margin: 0 0.4em 0.5em 0.4em;box-sizing: border-box;padding-bottom: 0.4em;background-color: white;}#sk-container-id-4 div.sk-label label {font-family: monospace;font-weight: bold;display: inline-block;line-height: 1.2em;}#sk-container-id-4 div.sk-label-container {text-align: center;}#sk-container-id-4 div.sk-container {/* jupyter's `normalize.less` sets `[hidden] { display: none; }` but bootstrap.min.css set `[hidden] { display: none !important; }` so we also need the `!important` here to be able to override the default hidden behavior on the sphinx rendered scikit-learn.org. See: https://github.com/scikit-learn/scikit-learn/issues/21755 */display: inline-block !important;position: relative;}#sk-container-id-4 div.sk-text-repr-fallback {display: none;}</style><div id=\"sk-container-id-4\" class=\"sk-top-container\"><div class=\"sk-text-repr-fallback\"><pre>Pipeline(steps=[(&#x27;standardscaler&#x27;, StandardScaler()),\n",
       "                (&#x27;randomforestclassifier&#x27;,\n",
       "                 RandomForestClassifier(max_depth=10, n_estimators=25,\n",
       "                                        random_state=42))])</pre><b>In a Jupyter environment, please rerun this cell to show the HTML representation or trust the notebook. <br />On GitHub, the HTML representation is unable to render, please try loading this page with nbviewer.org.</b></div><div class=\"sk-container\" hidden><div class=\"sk-item sk-dashed-wrapped\"><div class=\"sk-label-container\"><div class=\"sk-label sk-toggleable\"><input class=\"sk-toggleable__control sk-hidden--visually\" id=\"sk-estimator-id-8\" type=\"checkbox\" ><label for=\"sk-estimator-id-8\" class=\"sk-toggleable__label sk-toggleable__label-arrow\">Pipeline</label><div class=\"sk-toggleable__content\"><pre>Pipeline(steps=[(&#x27;standardscaler&#x27;, StandardScaler()),\n",
       "                (&#x27;randomforestclassifier&#x27;,\n",
       "                 RandomForestClassifier(max_depth=10, n_estimators=25,\n",
       "                                        random_state=42))])</pre></div></div></div><div class=\"sk-serial\"><div class=\"sk-item\"><div class=\"sk-estimator sk-toggleable\"><input class=\"sk-toggleable__control sk-hidden--visually\" id=\"sk-estimator-id-9\" type=\"checkbox\" ><label for=\"sk-estimator-id-9\" class=\"sk-toggleable__label sk-toggleable__label-arrow\">StandardScaler</label><div class=\"sk-toggleable__content\"><pre>StandardScaler()</pre></div></div></div><div class=\"sk-item\"><div class=\"sk-estimator sk-toggleable\"><input class=\"sk-toggleable__control sk-hidden--visually\" id=\"sk-estimator-id-10\" type=\"checkbox\" ><label for=\"sk-estimator-id-10\" class=\"sk-toggleable__label sk-toggleable__label-arrow\">RandomForestClassifier</label><div class=\"sk-toggleable__content\"><pre>RandomForestClassifier(max_depth=10, n_estimators=25, random_state=42)</pre></div></div></div></div></div></div></div>"
      ],
      "text/plain": [
       "Pipeline(steps=[('standardscaler', StandardScaler()),\n",
       "                ('randomforestclassifier',\n",
       "                 RandomForestClassifier(max_depth=10, n_estimators=25,\n",
       "                                        random_state=42))])"
      ]
     },
     "execution_count": 47,
     "metadata": {},
     "output_type": "execute_result"
    }
   ],
   "source": [
    "rf_model = make_pipeline(\n",
    "    StandardScaler(),\n",
    "    RandomForestClassifier(n_estimators=25, max_depth=10, random_state=42)\n",
    ")\n",
    "# Fit model to training data\n",
    "rf_model.fit(X_train, y_train)"
   ]
  },
  {
   "cell_type": "code",
   "execution_count": 48,
   "id": "c534e3d2",
   "metadata": {},
   "outputs": [
    {
     "data": {
      "text/plain": [
       "1.0"
      ]
     },
     "execution_count": 48,
     "metadata": {},
     "output_type": "execute_result"
    }
   ],
   "source": [
    "accuracy_score(y_test, rf_model.predict(X_test))"
   ]
  },
  {
   "cell_type": "code",
   "execution_count": 49,
   "id": "17afb78c",
   "metadata": {},
   "outputs": [
    {
     "data": {
      "text/plain": [
       "0.9999201660546064"
      ]
     },
     "execution_count": 49,
     "metadata": {},
     "output_type": "execute_result"
    }
   ],
   "source": [
    "# validate and generalize\n",
    "accuracy_score(y_val, rf_model.predict(X_val))"
   ]
  },
  {
   "cell_type": "code",
   "execution_count": 50,
   "id": "ddcad5c3",
   "metadata": {},
   "outputs": [
    {
     "data": {
      "text/plain": [
       "0.9998609952738393"
      ]
     },
     "execution_count": 50,
     "metadata": {},
     "output_type": "execute_result"
    }
   ],
   "source": [
    "roc_auc_score(y_val, rf_model.predict(X_val))"
   ]
  },
  {
   "cell_type": "code",
   "execution_count": 51,
   "id": "47facc72",
   "metadata": {},
   "outputs": [
    {
     "data": {
      "text/plain": [
       "{'fit_time': array([0.98899913, 0.90432   , 0.90301013, 0.90429282, 0.68477368]),\n",
       " 'score_time': array([0.02588582, 0.022614  , 0.02180672, 0.01842093, 0.0167892 ]),\n",
       " 'test_score': array([1.        , 0.99736548, 0.99992017, 1.        , 0.91018681])}"
      ]
     },
     "execution_count": 51,
     "metadata": {},
     "output_type": "execute_result"
    }
   ],
   "source": [
    "cv_result = cross_validate(rf_model, X, y, cv=5)\n",
    "cv_result"
   ]
  },
  {
   "cell_type": "code",
   "execution_count": 52,
   "id": "ef0c4751",
   "metadata": {},
   "outputs": [
    {
     "name": "stdout",
     "output_type": "stream",
     "text": [
      "The mean cross-validation accuracy is: 0.981 +/- 0.036\n"
     ]
    }
   ],
   "source": [
    "scores = cv_result[\"test_score\"]\n",
    "print(\n",
    "    \"The mean cross-validation accuracy is: \"\n",
    "    f\"{scores.mean():.3f} +/- {scores.std():.3f}\"\n",
    ")"
   ]
  },
  {
   "cell_type": "markdown",
   "id": "96270a46",
   "metadata": {},
   "source": [
    "We will take the Random Forest model as our best model"
   ]
  },
  {
   "cell_type": "markdown",
   "id": "28a7695b",
   "metadata": {},
   "source": [
    "### Save and serve the model with bentoml"
   ]
  },
  {
   "cell_type": "code",
   "execution_count": 53,
   "id": "d6d08efc",
   "metadata": {},
   "outputs": [
    {
     "data": {
      "text/plain": [
       "Model(tag=\"smoke_detection:siv7dosv46nd3chj\", path=\"/Users/patrickwalukagga/bentoml/models/smoke_detection/siv7dosv46nd3chj/\")"
      ]
     },
     "execution_count": 53,
     "metadata": {},
     "output_type": "execute_result"
    }
   ],
   "source": [
    "bentoml.sklearn.save_model(\n",
    "    \"smoke_detection\",\n",
    "    rf_model\n",
    ")"
   ]
  },
  {
   "cell_type": "code",
   "execution_count": 54,
   "id": "9f39c506",
   "metadata": {},
   "outputs": [
    {
     "name": "stdout",
     "output_type": "stream",
     "text": [
      "\u001b[1m{\u001b[0m\r\n",
      "  \u001b[1;34m\"name\"\u001b[0m: \u001b[32m\"smoke_detection\"\u001b[0m,\r\n",
      "  \u001b[1;34m\"version\"\u001b[0m: \u001b[32m\"d4amgmsvz2gptchj\"\u001b[0m,\r\n",
      "  \u001b[1;34m\"module\"\u001b[0m: \u001b[32m\"bentoml.sklearn\"\u001b[0m,\r\n",
      "  \u001b[1;34m\"labels\"\u001b[0m: \u001b[1m{\u001b[0m\u001b[1m}\u001b[0m,\r\n",
      "  \u001b[1;34m\"options\"\u001b[0m: \u001b[1m{\u001b[0m\u001b[1m}\u001b[0m,\r\n",
      "  \u001b[1;34m\"metadata\"\u001b[0m: \u001b[1m{\u001b[0m\u001b[1m}\u001b[0m,\r\n",
      "  \u001b[1;34m\"context\"\u001b[0m: \u001b[1m{\u001b[0m\r\n",
      "    \u001b[1;34m\"framework_name\"\u001b[0m: \u001b[32m\"sklearn\"\u001b[0m,\r\n",
      "    \u001b[1;34m\"framework_versions\"\u001b[0m: \u001b[1m{\u001b[0m\r\n",
      "      \u001b[1;34m\"scikit-learn\"\u001b[0m: \u001b[32m\"1.1.2\"\u001b[0m\r\n",
      "    \u001b[1m}\u001b[0m,\r\n",
      "    \u001b[1;34m\"bentoml_version\"\u001b[0m: \u001b[32m\"1.0.7\"\u001b[0m,\r\n",
      "    \u001b[1;34m\"python_version\"\u001b[0m: \u001b[32m\"3.9.13\"\u001b[0m\r\n",
      "  \u001b[1m}\u001b[0m,\r\n",
      "  \u001b[1;34m\"signatures\"\u001b[0m: \u001b[1m{\u001b[0m\r\n",
      "    \u001b[1;34m\"predict\"\u001b[0m: \u001b[1m{\u001b[0m\r\n",
      "      \u001b[1;34m\"batchable\"\u001b[0m: \u001b[3;91mfalse\u001b[0m\r\n",
      "    \u001b[1m}\u001b[0m\r\n",
      "  \u001b[1m}\u001b[0m,\r\n",
      "  \u001b[1;34m\"api_version\"\u001b[0m: \u001b[32m\"v1\"\u001b[0m,\r\n",
      "  \u001b[1;34m\"creation_time\"\u001b[0m: \u001b[32m\"2022-10-27T08:05:29.012853+00:00\"\u001b[0m\r\n",
      "\u001b[1m}\u001b[0m\r\n"
     ]
    }
   ],
   "source": [
    "!bentoml models get smoke_detection:d4amgmsvz2gptchj --output=json"
   ]
  },
  {
   "cell_type": "code",
   "execution_count": 55,
   "id": "12320634",
   "metadata": {},
   "outputs": [
    {
     "name": "stdout",
     "output_type": "stream",
     "text": [
      "\u001b[1m \u001b[0m\u001b[1mTag                         \u001b[0m\u001b[1m \u001b[0m\u001b[1m \u001b[0m\u001b[1mModule         \u001b[0m\u001b[1m \u001b[0m\u001b[1m \u001b[0m\u001b[1mSize      \u001b[0m\u001b[1m \u001b[0m\u001b[1m \u001b[0m\u001b[1mCreation Time      \u001b[0m\u001b[1m \u001b[0m\r\n",
      " smoke_detection:siv7dosv46n…  bentoml.sklearn  121.64 KiB  2022-10-27 14:07:39 \r\n",
      " smoke_detection:odroiwsv4kd…  bentoml.sklearn  121.64 KiB  2022-10-27 13:30:56 \r\n",
      " smoke_detection:d4amgmsvz2g…  bentoml.sklearn  121.64 KiB  2022-10-27 11:05:29 \r\n",
      " smoke_detection:sl7eeccvm67…  bentoml.sklearn  121.64 KiB  2022-10-26 22:51:25 \r\n",
      " credit_risk_model:ssuzyxsok…  bentoml.xgboost  197.77 KiB  2022-10-17 22:33:30 \r\n",
      " credit_risk_model:ftxkumcog…  bentoml.xgboost  197.80 KiB  2022-10-17 19:10:10 \r\n",
      " credit_risk_model:tdssyfcod…  bentoml.xgboost  197.77 KiB  2022-10-17 16:14:14 \r\n",
      " mlzoomcamp_homework:jsi67fs…  bentoml.sklearn  5.82 KiB    2022-10-14 17:48:43 \r\n",
      " mlzoomcamp_homework:qtzdz3s…  bentoml.sklearn  5.79 KiB    2022-10-13 23:42:14 \r\n"
     ]
    }
   ],
   "source": [
    "!bentoml models list"
   ]
  },
  {
   "cell_type": "code",
   "execution_count": 56,
   "id": "d1b733c4",
   "metadata": {},
   "outputs": [],
   "source": [
    "import json"
   ]
  },
  {
   "cell_type": "code",
   "execution_count": 57,
   "id": "d6de56f4",
   "metadata": {},
   "outputs": [
    {
     "name": "stdout",
     "output_type": "stream",
     "text": [
      "{\n",
      "  \"temperature_c_\": 21.388,\n",
      "  \"humidity_pct_\": 54.95,\n",
      "  \"tvoc_ppb_\": 19.0,\n",
      "  \"eco2_ppm_\": 414.0,\n",
      "  \"raw_h2\": 12527.0,\n",
      "  \"raw_ethanol\": 19613.0,\n",
      "  \"pressure_hpa_\": 939.796,\n",
      "  \"pm1_0\": 0.11,\n",
      "  \"pm2_5\": 0.33,\n",
      "  \"nc0_5\": 0.19,\n",
      "  \"nc1_0\": 0.382,\n",
      "  \"nc2_5\": 0.218,\n",
      "  \"cnt\": 100.0\n",
      "}\n"
     ]
    }
   ],
   "source": [
    "request = X.iloc[100].to_dict()\n",
    "print(json.dumps(request, indent=2))"
   ]
  },
  {
   "cell_type": "code",
   "execution_count": 60,
   "id": "0ca9cb44",
   "metadata": {},
   "outputs": [
    {
     "name": "stderr",
     "output_type": "stream",
     "text": [
      "'Runner.init_local' is for debugging and testing only.\n"
     ]
    },
    {
     "data": {
      "text/plain": [
       "array([0])"
      ]
     },
     "execution_count": 60,
     "metadata": {},
     "output_type": "execute_result"
    }
   ],
   "source": [
    "data = {\n",
    "  \"temperature_c_\": 21.388,\n",
    "  \"humidity_pct_\": 54.95,\n",
    "  \"tvoc_ppb_\": 19.0,\n",
    "  \"eco2_ppm_\": 414.0,\n",
    "  \"raw_h2\": 12527.0,\n",
    "  \"raw_ethanol\": 19613.0,\n",
    "  \"pressure_hpa_\": 939.796,\n",
    "  \"pm1_0\": 0.11,\n",
    "  \"pm2_5\": 0.33,\n",
    "  \"nc0_5\": 0.19,\n",
    "  \"nc1_0\": 0.382,\n",
    "  \"nc2_5\": 0.218,\n",
    "  \"cnt\": 100.0\n",
    "}\n",
    "X_data = pd.DataFrame(data, index=[0])\n",
    "model_ref = bentoml.sklearn.get(\"smoke_detection:siv7dosv46nd3chj\")\n",
    "model_runner = model_ref.to_runner()\n",
    "model_runner.init_local()\n",
    "model_runner.predict.run(X_data)"
   ]
  },
  {
   "cell_type": "code",
   "execution_count": null,
   "id": "9c0c6e5f",
   "metadata": {},
   "outputs": [],
   "source": []
  }
 ],
 "metadata": {
  "kernelspec": {
   "display_name": "mlzoomcamp-twe4lI-M",
   "language": "python",
   "name": "mlzoomcamp-twe4li-m"
  },
  "language_info": {
   "codemirror_mode": {
    "name": "ipython",
    "version": 3
   },
   "file_extension": ".py",
   "mimetype": "text/x-python",
   "name": "python",
   "nbconvert_exporter": "python",
   "pygments_lexer": "ipython3",
   "version": "3.9.13"
  }
 },
 "nbformat": 4,
 "nbformat_minor": 5
}
